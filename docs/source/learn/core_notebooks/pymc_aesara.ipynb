{
  "cells": [
    {
      "cell_type": "markdown",
      "metadata": {
        "id": "JUC0Xac4JTNS"
      },
      "source": [
        "(pymc_aesara)=\n",
        "\n",
        "# PyMC and Aesara\n",
        "\n",
        "**Authors:** [Ricardo Vieira](https://github.com/ricardoV94) and [Juan Orduz](https://juanitorduz.github.io/)\n",
        "\n",
        "In this notebook we want to give an introduction of how PyMC models translate to Aesara graphs. The purpose is not to give a detailed description of all [`aesara`](https://github.com/aesara-devs/aesara)'s capabilities but rather focus on the main concepts to understand its connection with PyMC. For a more detailed description of the project please refer to the official documentation."
      ]
    },
    {
      "cell_type": "markdown",
      "metadata": {},
      "source": [
        "## Prepare Notebook\n",
        "\n",
        "First import the required libraries."
      ]
    },
    {
      "cell_type": "code",
      "execution_count": 54,
      "metadata": {
        "colab": {
          "base_uri": "https://localhost:8080/"
        },
        "id": "8_jxfrmDwkLn",
        "outputId": "b24046f8-0b21-478f-c376-29924fa2e243"
      },
      "outputs": [
        {
          "name": "stdout",
          "output_type": "stream",
          "text": [
            "\n",
            "# Aesara version: 2.6.6\n",
            "# PyMC version: 4.0.0\n",
            "\n"
          ]
        }
      ],
      "source": [
        "import aesara\n",
        "import aesara.tensor as at\n",
        "import pymc as pm\n",
        "import matplotlib.pyplot as plt\n",
        "import numpy as np\n",
        "import scipy.stats\n",
        "\n",
        "\n",
        "print(f\"\"\"\n",
        "# Aesara version: {aesara.__version__}\n",
        "# PyMC version: {pm.__version__}\n",
        "\"\"\")"
      ]
    },
    {
      "cell_type": "markdown",
      "metadata": {
        "id": "ru2m_lFK7Atx"
      },
      "source": [
        "## Introduction to Aesara\n",
        "\n",
        "We start by looking into `aesara`. According to their documentation\n",
        "\n",
        "> Aesara is a Python library that allows one to define, optimize, and efficiently evaluate mathematical expressions involving multi-dimensional arrays."
      ]
    },
    {
      "cell_type": "markdown",
      "metadata": {},
      "source": [
        "![aesara logo](https://raw.githubusercontent.com/aesara-devs/aesara/main/doc/images/aesara_logo_2400.png)"
      ]
    },
    {
      "cell_type": "markdown",
      "metadata": {
        "id": "tBEjewdS1s5z"
      },
      "source": [
        "### A simple example\n",
        "\n",
        "To begin, we define some aesara tensors and show how to perform some basic operations."
      ]
    },
    {
      "cell_type": "code",
      "execution_count": 2,
      "metadata": {},
      "outputs": [
        {
          "name": "stdout",
          "output_type": "stream",
          "text": [
            "\n",
            "x type: TensorType(float64, ())\n",
            "x name = x\n",
            "---\n",
            "y type: TensorType(float64, (None,))\n",
            "y name = y\n",
            "\n"
          ]
        }
      ],
      "source": [
        "x = at.scalar(name=\"x\")\n",
        "y = at.vector(name=\"y\")\n",
        "\n",
        "print(f\"\"\"\n",
        "x type: {x.type}\n",
        "x name = {x.name}\n",
        "---\n",
        "y type: {y.type}\n",
        "y name = {y.name}\n",
        "\"\"\")"
      ]
    },
    {
      "cell_type": "markdown",
      "metadata": {},
      "source": [
        "Now that we have defined the `x` and `y` tensors, we can create a new one by adding them together."
      ]
    },
    {
      "cell_type": "code",
      "execution_count": 3,
      "metadata": {
        "id": "jApxApHT1rmq"
      },
      "outputs": [],
      "source": [
        "z = x + y\n",
        "z.name = \"x + y\""
      ]
    },
    {
      "cell_type": "markdown",
      "metadata": {},
      "source": [
        "To make the computation a bit more complex let us take the logarithm of the resulting tensor."
      ]
    },
    {
      "cell_type": "code",
      "execution_count": 4,
      "metadata": {},
      "outputs": [],
      "source": [
        "w = at.log(z)\n",
        "w.name = \"log(x + y)\""
      ]
    },
    {
      "cell_type": "markdown",
      "metadata": {},
      "source": [
        "We can use the `aesara.dprint` function to print the computational graph of any given tensor."
      ]
    },
    {
      "cell_type": "code",
      "execution_count": 5,
      "metadata": {
        "colab": {
          "base_uri": "https://localhost:8080/"
        },
        "id": "_QZRx-CB24l6",
        "outputId": "404e3654-2e91-4090-bb2f-4bb13115abed"
      },
      "outputs": [
        {
          "name": "stdout",
          "output_type": "stream",
          "text": [
            "Elemwise{log,no_inplace} [id A] 'log(x + y)'\n",
            " |Elemwise{add,no_inplace} [id B] 'x + y'\n",
            "   |InplaceDimShuffle{x} [id C]\n",
            "   | |x [id D]\n",
            "   |y [id E]\n"
          ]
        },
        {
          "data": {
            "text/plain": [
              "<ipykernel.iostream.OutStream at 0x104a47a60>"
            ]
          },
          "execution_count": 5,
          "metadata": {},
          "output_type": "execute_result"
        }
      ],
      "source": [
        "aesara.dprint(obj=w)"
      ]
    },
    {
      "cell_type": "markdown",
      "metadata": {},
      "source": [
        "Note that this graph does not do any computation (yet!). It is simply defining the sequence of steps to be done. We can use `aesara.function` to define a callable object so that we can push values trough the graph."
      ]
    },
    {
      "cell_type": "code",
      "execution_count": 6,
      "metadata": {
        "colab": {
          "base_uri": "https://localhost:8080/"
        },
        "id": "-XtR1jZS13_6",
        "outputId": "e101c9f0-7640-4fd0-aa6b-f8ba2e226886"
      },
      "outputs": [],
      "source": [
        "f = aesara.function(inputs=[x, y], outputs=w)"
      ]
    },
    {
      "cell_type": "markdown",
      "metadata": {},
      "source": [
        "Now that the graph is compiled, we can push some concrete values:"
      ]
    },
    {
      "cell_type": "code",
      "execution_count": 7,
      "metadata": {},
      "outputs": [
        {
          "data": {
            "text/plain": [
              "array([0., 1.])"
            ]
          },
          "execution_count": 7,
          "metadata": {},
          "output_type": "execute_result"
        }
      ],
      "source": [
        "f(x=0, y=[1, np.e])"
      ]
    },
    {
      "cell_type": "markdown",
      "metadata": {},
      "source": [
        "**Remark:** Sometimes we just want to debug, we can use `eval` for that:"
      ]
    },
    {
      "cell_type": "code",
      "execution_count": 8,
      "metadata": {
        "colab": {
          "base_uri": "https://localhost:8080/"
        },
        "id": "kVSkpSQv2FT1",
        "outputId": "a4e0a9f2-355d-4b55-cbcb-4486500b00fb"
      },
      "outputs": [
        {
          "data": {
            "text/plain": [
              "array([0., 1.])"
            ]
          },
          "execution_count": 8,
          "metadata": {},
          "output_type": "execute_result"
        }
      ],
      "source": [
        "w.eval({x: 0, y:[1, np.e]})"
      ]
    },
    {
      "cell_type": "markdown",
      "metadata": {},
      "source": [
        "You can set intermediate values as well"
      ]
    },
    {
      "cell_type": "code",
      "execution_count": 9,
      "metadata": {
        "colab": {
          "base_uri": "https://localhost:8080/"
        },
        "id": "U_aOb50o2cK8",
        "outputId": "572da92f-153e-4ab5-8ca1-a1bed4e141d7"
      },
      "outputs": [
        {
          "data": {
            "text/plain": [
              "array([0., 1.])"
            ]
          },
          "execution_count": 9,
          "metadata": {},
          "output_type": "execute_result"
        }
      ],
      "source": [
        "w.eval({z: [1, np.e]})"
      ]
    },
    {
      "cell_type": "markdown",
      "metadata": {},
      "source": [
        "### Aesara is clever!\n",
        "\n",
        "One of the most important features of `aesara` is that it can automatically optimize the mathematical operations inside a graph. Let's consider a simple example:"
      ]
    },
    {
      "cell_type": "code",
      "execution_count": 10,
      "metadata": {},
      "outputs": [
        {
          "name": "stdout",
          "output_type": "stream",
          "text": [
            "Elemwise{true_div,no_inplace} [id A] 'a / b'\n",
            " |a [id B]\n",
            " |b [id C]\n"
          ]
        },
        {
          "data": {
            "text/plain": [
              "<ipykernel.iostream.OutStream at 0x104a47a60>"
            ]
          },
          "execution_count": 10,
          "metadata": {},
          "output_type": "execute_result"
        }
      ],
      "source": [
        "a = at.scalar(name=\"a\")\n",
        "b = at.scalar(name=\"b\")\n",
        "\n",
        "c = a / b\n",
        "c.name = \"a / b\"\n",
        "\n",
        "aesara.dprint(c)"
      ]
    },
    {
      "cell_type": "markdown",
      "metadata": {},
      "source": [
        "Now let us multiply `b` times `c`. This should result in simply `a`."
      ]
    },
    {
      "cell_type": "code",
      "execution_count": 11,
      "metadata": {},
      "outputs": [
        {
          "name": "stdout",
          "output_type": "stream",
          "text": [
            "Elemwise{mul,no_inplace} [id A] 'b * c'\n",
            " |b [id B]\n",
            " |Elemwise{true_div,no_inplace} [id C] 'a / b'\n",
            "   |a [id D]\n",
            "   |b [id B]\n"
          ]
        },
        {
          "data": {
            "text/plain": [
              "<ipykernel.iostream.OutStream at 0x104a47a60>"
            ]
          },
          "execution_count": 11,
          "metadata": {},
          "output_type": "execute_result"
        }
      ],
      "source": [
        "d = b * c\n",
        "d.name = \"b * c\"\n",
        "\n",
        "aesara.dprint(d)"
      ]
    },
    {
      "cell_type": "markdown",
      "metadata": {},
      "source": [
        "The graph shows the full computation, but once we compile it the operation becomes the identity on `a` as expected."
      ]
    },
    {
      "cell_type": "code",
      "execution_count": 12,
      "metadata": {},
      "outputs": [
        {
          "name": "stdout",
          "output_type": "stream",
          "text": [
            "DeepCopyOp [id A] 'a' 0\n",
            " |a [id B]\n"
          ]
        },
        {
          "data": {
            "text/plain": [
              "<ipykernel.iostream.OutStream at 0x104a47a60>"
            ]
          },
          "execution_count": 12,
          "metadata": {},
          "output_type": "execute_result"
        }
      ],
      "source": [
        "g = aesara.function(inputs=[a, b], outputs=d)\n",
        "\n",
        "aesara.dprint(g)"
      ]
    },
    {
      "cell_type": "markdown",
      "metadata": {
        "id": "qqa54LWg4v3W"
      },
      "source": [
        "### What is in an Aesara graph?\n",
        "\n",
        "The following diagram shows the basic structure of an `aesara` graph.\n",
        "\n",
        "![aesara graph](https://raw.githubusercontent.com/aesara-devs/aesara/main/doc/tutorial/apply.png)"
      ]
    },
    {
      "cell_type": "markdown",
      "metadata": {},
      "source": [
        "We can can make these concepts more tangible by explicitly indicating them in the first example from the section above. Let us compute the graph components for the tensor `z`. "
      ]
    },
    {
      "cell_type": "code",
      "execution_count": 13,
      "metadata": {
        "colab": {
          "base_uri": "https://localhost:8080/"
        },
        "id": "UV95InOX3W2z",
        "outputId": "047197ff-5c73-429d-d93a-427620c4b215"
      },
      "outputs": [
        {
          "name": "stdout",
          "output_type": "stream",
          "text": [
            "\n",
            "z type: TensorType(float64, (None,))\n",
            "z name = x + y\n",
            "z owner = Elemwise{add,no_inplace}(InplaceDimShuffle{x}.0, y)\n",
            "z owner inputs = [InplaceDimShuffle{x}.0, y]\n",
            "z owner op = Elemwise{add,no_inplace}\n",
            "z owner output = [x + y]\n",
            "\n"
          ]
        }
      ],
      "source": [
        "print(f\"\"\"\n",
        "z type: {z.type}\n",
        "z name = {z.name}\n",
        "z owner = {z.owner}\n",
        "z owner inputs = {z.owner.inputs}\n",
        "z owner op = {z.owner.op}\n",
        "z owner output = {z.owner.outputs}\n",
        "\"\"\")"
      ]
    },
    {
      "cell_type": "markdown",
      "metadata": {},
      "source": [
        "The following code snippet helps us understand these concepts by going through the computational graph of `w`. The actual code is not as important here, the focus is on the outputs."
      ]
    },
    {
      "cell_type": "code",
      "execution_count": 14,
      "metadata": {
        "colab": {
          "base_uri": "https://localhost:8080/"
        },
        "id": "thLifxKW3ka3",
        "outputId": "6c98f77b-922a-4869-bfeb-281b3f29e8dc"
      },
      "outputs": [
        {
          "name": "stdout",
          "output_type": "stream",
          "text": [
            "---\n",
            "Checking variable log(x + y) of type TensorType(float64, (None,))\n",
            " > Op is Elemwise{log,no_inplace}\n",
            " > Input 0 is x + y\n",
            "---\n",
            "Checking variable x + y of type TensorType(float64, (None,))\n",
            " > Op is Elemwise{add,no_inplace}\n",
            " > Input 0 is InplaceDimShuffle{x}.0\n",
            " > Input 1 is y\n",
            "---\n",
            "Checking variable InplaceDimShuffle{x}.0 of type TensorType(float64, (1,))\n",
            " > Op is InplaceDimShuffle{x}\n",
            " > Input 0 is x\n",
            "---\n",
            "Checking variable y of type TensorType(float64, (None,))\n",
            " > y is a root variable\n",
            "---\n",
            "Checking variable x of type TensorType(float64, ())\n",
            " > x is a root variable\n"
          ]
        }
      ],
      "source": [
        "# start from the top\n",
        "stack = [w]\n",
        "\n",
        "while stack:\n",
        "    print(\"---\")\n",
        "    var = stack.pop(0)\n",
        "    print(f\"Checking variable {var} of type {var.type}\")\n",
        "    # check variable is not a root variable\n",
        "    if var.owner is not None:\n",
        "        print(f\" > Op is {var.owner.op}\")\n",
        "        # loop over the inputs\n",
        "        for i, input in enumerate(var.owner.inputs):\n",
        "            print(f\" > Input {i} is {input}\")\n",
        "            stack.append(input)\n",
        "    else:\n",
        "        print(f\" > {var} is a root variable\")"
      ]
    },
    {
      "cell_type": "markdown",
      "metadata": {},
      "source": [
        "Note that this is very similar to the output of the `aesara.dprint` function introduced above."
      ]
    },
    {
      "cell_type": "code",
      "execution_count": 15,
      "metadata": {
        "colab": {
          "base_uri": "https://localhost:8080/"
        },
        "id": "ltcXsJUQ-NZL",
        "outputId": "2c9543a8-1be6-47cb-efc7-1f83187e068b"
      },
      "outputs": [
        {
          "name": "stdout",
          "output_type": "stream",
          "text": [
            "Elemwise{log,no_inplace} [id A] 'log(x + y)'\n",
            " |Elemwise{add,no_inplace} [id B] 'x + y'\n",
            "   |InplaceDimShuffle{x} [id C]\n",
            "   | |x [id D]\n",
            "   |y [id E]\n"
          ]
        },
        {
          "data": {
            "text/plain": [
              "<ipykernel.iostream.OutStream at 0x104a47a60>"
            ]
          },
          "execution_count": 15,
          "metadata": {},
          "output_type": "execute_result"
        }
      ],
      "source": [
        "aesara.dprint(w)"
      ]
    },
    {
      "cell_type": "markdown",
      "metadata": {
        "id": "dIYxBNT_5HgW"
      },
      "source": [
        "### Graph manipulation 101\n",
        "\n",
        "Another interesting feature of Aesara is the ability to manipulate the computational graph, something that is not possible with TensorFlow or PyTorch. Here we continue with the example above in order to illustrate the main idea around this technique."
      ]
    },
    {
      "cell_type": "code",
      "execution_count": 16,
      "metadata": {
        "colab": {
          "base_uri": "https://localhost:8080/"
        },
        "id": "gWj0znupVc02",
        "outputId": "edbdd626-2887-4336-f3b4-0f3904e49656"
      },
      "outputs": [
        {
          "data": {
            "text/plain": [
              "[x, y]"
            ]
          },
          "execution_count": 16,
          "metadata": {},
          "output_type": "execute_result"
        }
      ],
      "source": [
        "# get input tensors\n",
        "list(aesara.graph.graph_inputs(graphs=[w]))"
      ]
    },
    {
      "cell_type": "markdown",
      "metadata": {},
      "source": [
        "As a simple example, let's add an `exp` before the `log` (to get the identity function)."
      ]
    },
    {
      "cell_type": "code",
      "execution_count": 17,
      "metadata": {},
      "outputs": [],
      "source": [
        "parent_of_w = w.owner.inputs[0] # get z tensor\n",
        "new_parent_of_w = at.exp(parent_of_w) # modify the parent of w\n",
        "new_parent_of_w.name = \"exp(x + y)\""
      ]
    },
    {
      "cell_type": "markdown",
      "metadata": {},
      "source": [
        "Note that the graph of `w` has actually not changed:"
      ]
    },
    {
      "cell_type": "code",
      "execution_count": 18,
      "metadata": {},
      "outputs": [
        {
          "name": "stdout",
          "output_type": "stream",
          "text": [
            "Elemwise{log,no_inplace} [id A] 'log(x + y)'\n",
            " |Elemwise{add,no_inplace} [id B] 'x + y'\n",
            "   |InplaceDimShuffle{x} [id C]\n",
            "   | |x [id D]\n",
            "   |y [id E]\n"
          ]
        },
        {
          "data": {
            "text/plain": [
              "<ipykernel.iostream.OutStream at 0x104a47a60>"
            ]
          },
          "execution_count": 18,
          "metadata": {},
          "output_type": "execute_result"
        }
      ],
      "source": [
        "aesara.dprint(w)"
      ]
    },
    {
      "cell_type": "markdown",
      "metadata": {},
      "source": [
        "To modify the graph we need to use the `aesara.clone_replace` function, which *returns a copy of the initial subgraph with the corresponding substitutions.*"
      ]
    },
    {
      "cell_type": "code",
      "execution_count": 19,
      "metadata": {
        "colab": {
          "base_uri": "https://localhost:8080/"
        },
        "id": "y7WI_O4e5Gu0",
        "outputId": "7d288574-b747-43ff-bfbe-b5ed3357caea"
      },
      "outputs": [
        {
          "name": "stdout",
          "output_type": "stream",
          "text": [
            "Elemwise{log,no_inplace} [id A] 'log(exp(x + y))'\n",
            " |Elemwise{exp,no_inplace} [id B] 'exp(x + y)'\n",
            "   |Elemwise{add,no_inplace} [id C] 'x + y'\n",
            "     |InplaceDimShuffle{x} [id D]\n",
            "     | |x [id E]\n",
            "     |y [id F]\n"
          ]
        },
        {
          "data": {
            "text/plain": [
              "<ipykernel.iostream.OutStream at 0x104a47a60>"
            ]
          },
          "execution_count": 19,
          "metadata": {},
          "output_type": "execute_result"
        }
      ],
      "source": [
        "new_w = aesara.clone_replace(output=[w], replace={parent_of_w: new_parent_of_w})[0]\n",
        "new_w.name = \"log(exp(x + y))\"\n",
        "aesara.dprint(new_w)"
      ]
    },
    {
      "cell_type": "markdown",
      "metadata": {},
      "source": [
        "Finally, we can test the modified graph by passing some input to the new graph."
      ]
    },
    {
      "cell_type": "code",
      "execution_count": 20,
      "metadata": {
        "colab": {
          "base_uri": "https://localhost:8080/"
        },
        "id": "GK2764ZW6Hs6",
        "outputId": "8db79441-9b23-4886-f1fe-ae4857deaefe"
      },
      "outputs": [
        {
          "data": {
            "text/plain": [
              "array([1.        , 2.71828183])"
            ]
          },
          "execution_count": 20,
          "metadata": {},
          "output_type": "execute_result"
        }
      ],
      "source": [
        "new_w.eval({x: 0, y:[1, np.e]})"
      ]
    },
    {
      "cell_type": "markdown",
      "metadata": {},
      "source": [
        "As expected, the new graph is just the identity function."
      ]
    },
    {
      "cell_type": "markdown",
      "metadata": {
        "id": "JhmIBByY6T9h"
      },
      "source": [
        "**Remark:** Again, note that `aesara` is clever enough to omit the `exp` and `log` once we compile the function."
      ]
    },
    {
      "cell_type": "code",
      "execution_count": 21,
      "metadata": {
        "colab": {
          "base_uri": "https://localhost:8080/"
        },
        "id": "WlDAR8616QsM",
        "outputId": "2b9a60b7-d3d6-4605-d6ff-736b5c721318"
      },
      "outputs": [
        {
          "name": "stdout",
          "output_type": "stream",
          "text": [
            "Elemwise{add,no_inplace} [id A] 'x + y' 1\n",
            " |InplaceDimShuffle{x} [id B] 0\n",
            " | |x [id C]\n",
            " |y [id D]\n"
          ]
        },
        {
          "data": {
            "text/plain": [
              "<ipykernel.iostream.OutStream at 0x104a47a60>"
            ]
          },
          "execution_count": 21,
          "metadata": {},
          "output_type": "execute_result"
        }
      ],
      "source": [
        "f = aesara.function(inputs=[x, y], outputs=new_w)\n",
        "\n",
        "aesara.dprint(f)"
      ]
    },
    {
      "cell_type": "code",
      "execution_count": 22,
      "metadata": {
        "colab": {
          "base_uri": "https://localhost:8080/"
        },
        "id": "noKfjvwS65q-",
        "outputId": "bed5b895-8c4e-4c0e-95c9-8eefdbbd55fa"
      },
      "outputs": [
        {
          "data": {
            "text/plain": [
              "array([1.        , 2.71828183])"
            ]
          },
          "execution_count": 22,
          "metadata": {},
          "output_type": "execute_result"
        }
      ],
      "source": [
        "f(x=0, y=[1, np.e])"
      ]
    },
    {
      "cell_type": "markdown",
      "metadata": {},
      "source": [
        "---\n",
        "## PyMC\n",
        "\n",
        "![pymc logo](https://raw.githubusercontent.com/pymc-devs/pymc/main/docs/logos/PyMC.png)"
      ]
    },
    {
      "cell_type": "markdown",
      "metadata": {
        "id": "3drOlTjZxDMF"
      },
      "source": [
        "### Aesara RandomVariables\n",
        "\n",
        "Now that we have seen aesara's basics we want to move in the direction of random variables.\n",
        "\n",
        "How do we generate random numbers in `numpy`? To illustrate it we can sample from a normal distribution:"
      ]
    },
    {
      "cell_type": "code",
      "execution_count": 23,
      "metadata": {
        "colab": {
          "base_uri": "https://localhost:8080/"
        },
        "id": "THRvGbP1WmhH",
        "outputId": "c4f044e6-83c3-4c4c-9ecf-8714efae6f36"
      },
      "outputs": [
        {
          "data": {
            "image/png": "[encoded data removed]",
            "text/plain": [
              "<Figure size 576x432 with 1 Axes>"
            ]
          },
          "metadata": {
            "needs_background": "light"
          },
          "output_type": "display_data"
        }
      ],
      "source": [
        "rng = np.random.default_rng()\n",
        "\n",
        "a = rng.normal(loc=0, scale=1, size=1_000)\n",
        "\n",
        "fig, ax = plt.subplots(figsize=(8, 6))\n",
        "ax.hist(a, color=\"C0\", bins=15)\n",
        "ax.set(title=\"Samples from a normal distribution using numpy\", ylabel=\"count\");"
      ]
    },
    {
      "cell_type": "markdown",
      "metadata": {},
      "source": [
        "Now let's try to do it in Aesara."
      ]
    },
    {
      "cell_type": "code",
      "execution_count": 24,
      "metadata": {},
      "outputs": [
        {
          "data": {
            "text/plain": [
              "aesara.tensor.var.TensorVariable"
            ]
          },
          "execution_count": 24,
          "metadata": {},
          "output_type": "execute_result"
        }
      ],
      "source": [
        "y = at.random.normal(loc=0, scale=1, name=\"y\")\n",
        "type(y)"
      ]
    },
    {
      "cell_type": "markdown",
      "metadata": {},
      "source": [
        "Next, we show the graph using `dprint`."
      ]
    },
    {
      "cell_type": "code",
      "execution_count": 25,
      "metadata": {},
      "outputs": [
        {
          "name": "stdout",
          "output_type": "stream",
          "text": [
            "normal_rv{0, (0, 0), floatX, False}.1 [id A] 'y'\n",
            " |RandomGeneratorSharedVariable(<Generator(PCG64) at 0x15AB03F20>) [id B]\n",
            " |TensorConstant{[]} [id C]\n",
            " |TensorConstant{11} [id D]\n",
            " |TensorConstant{0} [id E]\n",
            " |TensorConstant{1} [id F]\n"
          ]
        },
        {
          "data": {
            "text/plain": [
              "<ipykernel.iostream.OutStream at 0x104a47a60>"
            ]
          },
          "execution_count": 25,
          "metadata": {},
          "output_type": "execute_result"
        }
      ],
      "source": [
        "aesara.dprint(y)"
      ]
    },
    {
      "cell_type": "markdown",
      "metadata": {},
      "source": [
        "The inputs are always in the following order:\n",
        "1. `rng` shared variable\n",
        "2. `size`\n",
        "3. `dtype` (number code)\n",
        "4. `arg1`\n",
        "5. `arg2`\n",
        "6. `argn`"
      ]
    },
    {
      "cell_type": "markdown",
      "metadata": {},
      "source": [
        "We *could* sample by calling `.eval()` on the random variable."
      ]
    },
    {
      "cell_type": "code",
      "execution_count": 26,
      "metadata": {},
      "outputs": [
        {
          "data": {
            "text/plain": [
              "array(0.5382538)"
            ]
          },
          "execution_count": 26,
          "metadata": {},
          "output_type": "execute_result"
        }
      ],
      "source": [
        "y.eval()"
      ]
    },
    {
      "cell_type": "markdown",
      "metadata": {},
      "source": [
        "Note however that these samples are always the same!"
      ]
    },
    {
      "cell_type": "code",
      "execution_count": 27,
      "metadata": {},
      "outputs": [
        {
          "name": "stdout",
          "output_type": "stream",
          "text": [
            "Sample 0: 0.5382538040144141\n",
            "Sample 1: 0.5382538040144141\n",
            "Sample 2: 0.5382538040144141\n",
            "Sample 3: 0.5382538040144141\n",
            "Sample 4: 0.5382538040144141\n",
            "Sample 5: 0.5382538040144141\n",
            "Sample 6: 0.5382538040144141\n",
            "Sample 7: 0.5382538040144141\n",
            "Sample 8: 0.5382538040144141\n",
            "Sample 9: 0.5382538040144141\n"
          ]
        }
      ],
      "source": [
        "for i in range(10):\n",
        "    print(f\"Sample {i}: {y.eval()}\")"
      ]
    },
    {
      "cell_type": "markdown",
      "metadata": {},
      "source": [
        "We always get the same samples! This has to do with the random seed step in the graph, i.e. `RandomGeneratorSharedVariable` (we will not go deeper into this subject here). We will show how to generate different samples with `pymc` below.  To do so, we start by defining a `pymc` normal distribution."
      ]
    },
    {
      "cell_type": "code",
      "execution_count": 28,
      "metadata": {},
      "outputs": [
        {
          "name": "stdout",
          "output_type": "stream",
          "text": [
            "normal_rv{0, (0, 0), floatX, False}.1 [id A]\n",
            " |RandomGeneratorSharedVariable(<Generator(PCG64) at 0x15ABD63C0>) [id B]\n",
            " |TensorConstant{[]} [id C]\n",
            " |TensorConstant{11} [id D]\n",
            " |TensorConstant{0} [id E]\n",
            " |TensorConstant{1.0} [id F]\n"
          ]
        },
        {
          "data": {
            "text/plain": [
              "<ipykernel.iostream.OutStream at 0x104a47a60>"
            ]
          },
          "execution_count": 28,
          "metadata": {},
          "output_type": "execute_result"
        }
      ],
      "source": [
        "x = pm.Normal.dist(mu=0, sigma=1)\n",
        "aesara.dprint(x)"
      ]
    },
    {
      "cell_type": "markdown",
      "metadata": {},
      "source": [
        "We can try to generate samples by calling `.eval()` as above."
      ]
    },
    {
      "cell_type": "code",
      "execution_count": 29,
      "metadata": {},
      "outputs": [
        {
          "name": "stdout",
          "output_type": "stream",
          "text": [
            "Sample 0: -0.7495880478667979\n",
            "Sample 1: -0.7495880478667979\n",
            "Sample 2: -0.7495880478667979\n",
            "Sample 3: -0.7495880478667979\n",
            "Sample 4: -0.7495880478667979\n",
            "Sample 5: -0.7495880478667979\n",
            "Sample 6: -0.7495880478667979\n",
            "Sample 7: -0.7495880478667979\n",
            "Sample 8: -0.7495880478667979\n",
            "Sample 9: -0.7495880478667979\n"
          ]
        }
      ],
      "source": [
        "for i in range(10):\n",
        "    print(f\"Sample {i}: {x.eval()}\")"
      ]
    },
    {
      "cell_type": "markdown",
      "metadata": {},
      "source": [
        "As before we get the same value for all iterations. The correct way to generate random samples is using `pm.draw`."
      ]
    },
    {
      "cell_type": "code",
      "execution_count": 30,
      "metadata": {},
      "outputs": [
        {
          "data": {
            "image/png": "[encoded data removed]",
            "text/plain": [
              "<Figure size 576x432 with 1 Axes>"
            ]
          },
          "metadata": {
            "needs_background": "light"
          },
          "output_type": "display_data"
        }
      ],
      "source": [
        "fig, ax = plt.subplots(figsize=(8, 6))\n",
        "ax.hist(pm.draw(x, draws=1_000), color=\"C1\", bins=15)\n",
        "ax.set(title=\"Samples from a normal distribution using pymc\", ylabel=\"count\");"
      ]
    },
    {
      "cell_type": "markdown",
      "metadata": {},
      "source": [
        "Yay! We learned how to sample from a `pymc` distribution!\n",
        "\n",
        "Finally, we can compare the `dprint` output for `x` and `y`:"
      ]
    },
    {
      "cell_type": "code",
      "execution_count": 31,
      "metadata": {},
      "outputs": [
        {
          "name": "stdout",
          "output_type": "stream",
          "text": [
            "normal_rv{0, (0, 0), floatX, False}.1 [id A]\n",
            " |RandomGeneratorSharedVariable(<Generator(PCG64) at 0x15AD50580>) [id B]\n",
            " |TensorConstant{[]} [id C]\n",
            " |TensorConstant{11} [id D]\n",
            " |TensorConstant{0} [id E]\n",
            " |TensorConstant{1.0} [id F]\n"
          ]
        },
        {
          "data": {
            "text/plain": [
              "<ipykernel.iostream.OutStream at 0x104a47a60>"
            ]
          },
          "execution_count": 31,
          "metadata": {},
          "output_type": "execute_result"
        }
      ],
      "source": [
        "aesara.dprint(x)"
      ]
    },
    {
      "cell_type": "markdown",
      "metadata": {},
      "source": [
        "**Remark:** Observe that `x.owner` and `y.owner` are the same (aside from the generator itself)."
      ]
    },
    {
      "cell_type": "code",
      "execution_count": 32,
      "metadata": {},
      "outputs": [
        {
          "name": "stdout",
          "output_type": "stream",
          "text": [
            "normal_rv{0, (0, 0), floatX, False}.1 [id A] 'y'\n",
            " |RandomGeneratorSharedVariable(<Generator(PCG64) at 0x15AB03F20>) [id B]\n",
            " |TensorConstant{[]} [id C]\n",
            " |TensorConstant{11} [id D]\n",
            " |TensorConstant{0} [id E]\n",
            " |TensorConstant{1} [id F]\n"
          ]
        },
        {
          "data": {
            "text/plain": [
              "<ipykernel.iostream.OutStream at 0x104a47a60>"
            ]
          },
          "execution_count": 32,
          "metadata": {},
          "output_type": "execute_result"
        }
      ],
      "source": [
        "aesara.dprint(y)"
      ]
    },
    {
      "cell_type": "markdown",
      "metadata": {},
      "source": [
        "They look the same (except from the random seed)! "
      ]
    },
    {
      "cell_type": "markdown",
      "metadata": {
        "id": "wkZR0gDWRAgK"
      },
      "source": [
        "### What is going on behind the scenes?"
      ]
    },
    {
      "cell_type": "markdown",
      "metadata": {},
      "source": [
        "We can now look into how this is done inside a model."
      ]
    },
    {
      "cell_type": "code",
      "execution_count": 33,
      "metadata": {},
      "outputs": [
        {
          "name": "stdout",
          "output_type": "stream",
          "text": [
            "normal_rv{0, (0, 0), floatX, False}.1 [id A]\n",
            " |RandomGeneratorSharedVariable(<Generator(PCG64) at 0x15AD50580>) [id B]\n",
            " |TensorConstant{[]} [id C]\n",
            " |TensorConstant{11} [id D]\n",
            " |TensorConstant{0} [id E]\n",
            " |TensorConstant{1.0} [id F]\n"
          ]
        },
        {
          "data": {
            "text/plain": [
              "<ipykernel.iostream.OutStream at 0x104a47a60>"
            ]
          },
          "execution_count": 33,
          "metadata": {},
          "output_type": "execute_result"
        }
      ],
      "source": [
        "with pm.Model() as model:\n",
        "    z = pm.Normal(name=\"z\", mu=np.array([0, 0]), sigma=np.array([1, 2]))\n",
        "\n",
        "aesara.dprint(x)"
      ]
    },
    {
      "cell_type": "markdown",
      "metadata": {},
      "source": [
        "We are just creating random variables like we saw before, but now registering them in a PyMC model. To extract the list of random variables we can simply do:"
      ]
    },
    {
      "cell_type": "code",
      "execution_count": 34,
      "metadata": {
        "colab": {
          "base_uri": "https://localhost:8080/"
        },
        "id": "23JVxTUjRHDy",
        "outputId": "cc39c67b-ed0d-4ad7-c485-5ae6b0b5d0df"
      },
      "outputs": [
        {
          "data": {
            "text/plain": [
              "[z]"
            ]
          },
          "execution_count": 34,
          "metadata": {},
          "output_type": "execute_result"
        }
      ],
      "source": [
        "model.basic_RVs"
      ]
    },
    {
      "cell_type": "code",
      "execution_count": 35,
      "metadata": {
        "colab": {
          "base_uri": "https://localhost:8080/"
        },
        "id": "jYgwMOzpRcmo",
        "outputId": "3178ac69-3666-4464-d6d2-dbaacfc51170"
      },
      "outputs": [
        {
          "name": "stdout",
          "output_type": "stream",
          "text": [
            "normal_rv{0, (0, 0), floatX, False}.1 [id A] 'z'\n",
            " |RandomGeneratorSharedVariable(<Generator(PCG64) at 0x15ADF5040>) [id B]\n",
            " |TensorConstant{[]} [id C]\n",
            " |TensorConstant{11} [id D]\n",
            " |TensorConstant{(2,) of 0} [id E]\n",
            " |TensorConstant{[1. 2.]} [id F]\n"
          ]
        },
        {
          "data": {
            "text/plain": [
              "<ipykernel.iostream.OutStream at 0x104a47a60>"
            ]
          },
          "execution_count": 35,
          "metadata": {},
          "output_type": "execute_result"
        }
      ],
      "source": [
        "aesara.dprint(model.basic_RVs[0])"
      ]
    },
    {
      "cell_type": "markdown",
      "metadata": {},
      "source": [
        "We can try to sample via `.eval` as above and it is no surprise that we are getting the same samples at each iteration."
      ]
    },
    {
      "cell_type": "code",
      "execution_count": 36,
      "metadata": {},
      "outputs": [
        {
          "name": "stdout",
          "output_type": "stream",
          "text": [
            "Sample 0: [ 0.17727283 -1.3943496 ]\n",
            "Sample 1: [ 0.17727283 -1.3943496 ]\n",
            "Sample 2: [ 0.17727283 -1.3943496 ]\n",
            "Sample 3: [ 0.17727283 -1.3943496 ]\n",
            "Sample 4: [ 0.17727283 -1.3943496 ]\n",
            "Sample 5: [ 0.17727283 -1.3943496 ]\n",
            "Sample 6: [ 0.17727283 -1.3943496 ]\n",
            "Sample 7: [ 0.17727283 -1.3943496 ]\n",
            "Sample 8: [ 0.17727283 -1.3943496 ]\n",
            "Sample 9: [ 0.17727283 -1.3943496 ]\n"
          ]
        }
      ],
      "source": [
        "for i in range(10):\n",
        "    print(f\"Sample {i}: {z.eval()}\")"
      ]
    },
    {
      "cell_type": "markdown",
      "metadata": {},
      "source": [
        "Again, the correct way of sampling is via `pm.draw`. "
      ]
    },
    {
      "cell_type": "code",
      "execution_count": 37,
      "metadata": {},
      "outputs": [
        {
          "name": "stdout",
          "output_type": "stream",
          "text": [
            "Sample 0: [-0.99735265  1.28871121]\n",
            "Sample 1: [-1.35959858 -1.44060224]\n",
            "Sample 2: [0.90484154 0.62712404]\n",
            "Sample 3: [1.65203664 3.17555768]\n",
            "Sample 4: [ 1.54672797 -0.98768775]\n",
            "Sample 5: [ 1.20763861 -2.40080271]\n",
            "Sample 6: [-0.48398172  1.75631166]\n",
            "Sample 7: [-0.40868314 -1.66628623]\n",
            "Sample 8: [0.78373334 1.36300401]\n",
            "Sample 9: [-0.75710529  0.98851286]\n"
          ]
        }
      ],
      "source": [
        "for i in range(10):\n",
        "    print(f\"Sample {i}: {pm.draw(z)}\")"
      ]
    },
    {
      "cell_type": "code",
      "execution_count": 38,
      "metadata": {},
      "outputs": [
        {
          "data": {
            "image/png": "[encoded data removed]",
            "text/plain": [
              "<Figure size 576x576 with 1 Axes>"
            ]
          },
          "metadata": {
            "needs_background": "light"
          },
          "output_type": "display_data"
        }
      ],
      "source": [
        "fig, ax = plt.subplots(figsize=(8, 8))\n",
        "z_draws = pm.draw(vars=z, draws=10_000)\n",
        "ax.hist2d(x=z_draws[:, 0], y=z_draws[:, 1], bins=25)\n",
        "ax.set(title=\"Samples Histogram\");"
      ]
    },
    {
      "cell_type": "markdown",
      "metadata": {
        "id": "wPw9kCvASOeJ"
      },
      "source": [
        "### Enough with Random Variables, I want to see some (log)probabilities!"
      ]
    },
    {
      "cell_type": "markdown",
      "metadata": {},
      "source": [
        "Recall we have defined the following model above:"
      ]
    },
    {
      "cell_type": "code",
      "execution_count": 39,
      "metadata": {},
      "outputs": [
        {
          "data": {
            "text/latex": [
              "$$\n",
              "            \\begin{array}{rcl}\n",
              "            \\text{z} &\\sim & \\operatorname{N}(\\text{<constant>},~\\text{<constant>})\n",
              "            \\end{array}\n",
              "            $$"
            ],
            "text/plain": [
              "<pymc.model.Model at 0x15addeb50>"
            ]
          },
          "execution_count": 39,
          "metadata": {},
          "output_type": "execute_result"
        }
      ],
      "source": [
        "model"
      ]
    },
    {
      "cell_type": "markdown",
      "metadata": {},
      "source": [
        "We can get the initial point of the model by simply calling the `initial_point` method:"
      ]
    },
    {
      "cell_type": "code",
      "execution_count": 40,
      "metadata": {
        "colab": {
          "base_uri": "https://localhost:8080/"
        },
        "id": "mgntEABvQyhu",
        "outputId": "319b8e86-388a-4ca5-bd3e-c27a24dd306c"
      },
      "outputs": [
        {
          "data": {
            "text/plain": [
              "{'z': array([0., 0.])}"
            ]
          },
          "execution_count": 40,
          "metadata": {},
          "output_type": "execute_result"
        }
      ],
      "source": [
        "point = model.initial_point()\n",
        "point"
      ]
    },
    {
      "cell_type": "markdown",
      "metadata": {},
      "source": [
        "We can compute the log probability for this point in this model:"
      ]
    },
    {
      "cell_type": "code",
      "execution_count": 41,
      "metadata": {
        "colab": {
          "base_uri": "https://localhost:8080/"
        },
        "id": "d3MpBiUlSVGT",
        "outputId": "bdf43dff-e5b5-4699-b0b5-b8d0602b2064"
      },
      "outputs": [
        {
          "data": {
            "text/plain": [
              "{'z': -2.53}"
            ]
          },
          "execution_count": 41,
          "metadata": {},
          "output_type": "execute_result"
        }
      ],
      "source": [
        "model.point_logps(point=point)"
      ]
    },
    {
      "cell_type": "markdown",
      "metadata": {},
      "source": [
        "This is nothing else than evaluating the log probability of a normal distribution."
      ]
    },
    {
      "cell_type": "code",
      "execution_count": 42,
      "metadata": {},
      "outputs": [
        {
          "data": {
            "text/plain": [
              "-2.5310242469692907"
            ]
          },
          "execution_count": 42,
          "metadata": {},
          "output_type": "execute_result"
        }
      ],
      "source": [
        "scipy.stats.multivariate_normal.logpdf(\n",
        "    x=np.array([0, 0]), mean=np.array([0, 0]), cov=np.array([[1, 0], [0, 2**2]])\n",
        ")"
      ]
    },
    {
      "cell_type": "code",
      "execution_count": 43,
      "metadata": {},
      "outputs": [
        {
          "data": {
            "text/plain": [
              "-2.5310242469692907"
            ]
          },
          "execution_count": 43,
          "metadata": {},
          "output_type": "execute_result"
        }
      ],
      "source": [
        "scipy.stats.norm.logpdf(x=np.array([0, 0]), loc=np.array([0, 0]), scale=np.array([1, 2])).sum()"
      ]
    },
    {
      "cell_type": "markdown",
      "metadata": {},
      "source": [
        "**Remark:** There is a handy PyMC function to compute the log probability of a random variable and a given point."
      ]
    },
    {
      "cell_type": "code",
      "execution_count": 44,
      "metadata": {
        "colab": {
          "base_uri": "https://localhost:8080/"
        },
        "id": "zCmmLzwfTL9N",
        "outputId": "7dc9cd0e-5c42-4137-ff88-de5d286f81b8"
      },
      "outputs": [
        {
          "data": {
            "text/plain": [
              "array(-2.53102425)"
            ]
          },
          "execution_count": 44,
          "metadata": {},
          "output_type": "execute_result"
        }
      ],
      "source": [
        "# We could have extracted `z` via model.basic_RVs[0]\n",
        "pm.logp(rv=z, value=point[\"z\"]).sum().eval()"
      ]
    },
    {
      "cell_type": "markdown",
      "metadata": {
        "id": "yxG5UHslGDEv"
      },
      "source": [
        "**Remark:** A similar strategy is used for `logcdf`."
      ]
    },
    {
      "cell_type": "markdown",
      "metadata": {
        "id": "WdZcUfvLUkwK"
      },
      "source": [
        "### What are value variables and why are they important?\n",
        "\n",
        "As he have seen above, a `logp` graph does not have random variables. Instead it's defined in terms of input (value) variables. When we want to sample, each random variable (RV) is replaced by a respective input (value) variable. Let's see how this works through some examples. RV and value variables can be observed in these `scipy` operations:"
      ]
    },
    {
      "cell_type": "code",
      "execution_count": 45,
      "metadata": {
        "colab": {
          "base_uri": "https://localhost:8080/"
        },
        "id": "7Sznx-MLs691",
        "outputId": "1dac8ba2-899a-47f7-d175-04502b73fd76"
      },
      "outputs": [
        {
          "data": {
            "text/plain": [
              "<scipy.stats._distn_infrastructure.rv_frozen at 0x15adf1df0>"
            ]
          },
          "execution_count": 45,
          "metadata": {},
          "output_type": "execute_result"
        }
      ],
      "source": [
        "rv = scipy.stats.norm(0, 1)\n",
        "\n",
        "# Equivalent to rv = pm.Normal(\"rv\", 0, 1)\n",
        "scipy.stats.norm(0, 1)"
      ]
    },
    {
      "cell_type": "code",
      "execution_count": 46,
      "metadata": {},
      "outputs": [
        {
          "data": {
            "text/plain": [
              "array([-0.3553317 ,  0.64382698, -1.02454636])"
            ]
          },
          "execution_count": 46,
          "metadata": {},
          "output_type": "execute_result"
        }
      ],
      "source": [
        " # Equivalent to rv_draw = pm.draw(rv, 3)\n",
        "rv.rvs(3)"
      ]
    },
    {
      "cell_type": "code",
      "execution_count": 47,
      "metadata": {},
      "outputs": [
        {
          "data": {
            "text/plain": [
              "-1.7001885332046727"
            ]
          },
          "execution_count": 47,
          "metadata": {},
          "output_type": "execute_result"
        }
      ],
      "source": [
        "# Equivalent to rv_logp = pm.logp(rv, 1.25)\n",
        "rv.logpdf(1.25)"
      ]
    },
    {
      "cell_type": "markdown",
      "metadata": {},
      "source": [
        "Next, let's look at how these value variables behave in a simple model."
      ]
    },
    {
      "cell_type": "code",
      "execution_count": 48,
      "metadata": {
        "id": "dejQBR2FUnM3"
      },
      "outputs": [],
      "source": [
        "with pm.Model() as model_2:\n",
        "    mu = pm.Normal(name=\"mu\", mu=0, sigma=2)\n",
        "    sigma = pm.HalfNormal(name=\"sigma\", sigma=3)\n",
        "    x = pm.Normal(name=\"x\", mu=mu, sigma=sigma)"
      ]
    },
    {
      "cell_type": "markdown",
      "metadata": {},
      "source": [
        "Each model RV is related to a \"value variable\":"
      ]
    },
    {
      "cell_type": "code",
      "execution_count": 49,
      "metadata": {
        "colab": {
          "base_uri": "https://localhost:8080/"
        },
        "id": "iXnvzBqorsX-",
        "outputId": "bb779d64-5c1b-4233-9131-f64f5dd0e77a"
      },
      "outputs": [
        {
          "data": {
            "text/plain": [
              "{mu: mu, sigma: sigma_log__, x: x}"
            ]
          },
          "execution_count": 49,
          "metadata": {},
          "output_type": "execute_result"
        }
      ],
      "source": [
        "model_2.rvs_to_values"
      ]
    },
    {
      "cell_type": "markdown",
      "metadata": {},
      "source": [
        "Observe that for sigma the associated value is in the *log* scale as in practice we require unbounded values."
      ]
    },
    {
      "cell_type": "code",
      "execution_count": 50,
      "metadata": {
        "colab": {
          "base_uri": "https://localhost:8080/"
        },
        "id": "xsqHFQ0srsX6",
        "outputId": "adfc9a9d-c411-4551-f534-c944bb9e1610"
      },
      "outputs": [
        {
          "data": {
            "text/plain": [
              "[mu, sigma_log__, x]"
            ]
          },
          "execution_count": 50,
          "metadata": {},
          "output_type": "execute_result"
        }
      ],
      "source": [
        "model_2.value_vars"
      ]
    },
    {
      "cell_type": "markdown",
      "metadata": {},
      "source": [
        "Now that we know how to extract the model variables, we can compute the element-wise log-probability of the model for specific values."
      ]
    },
    {
      "cell_type": "code",
      "execution_count": 51,
      "metadata": {
        "colab": {
          "base_uri": "https://localhost:8080/"
        },
        "id": "Y2BIoKk5U4fQ",
        "outputId": "a9b67ac9-9fc0-4da8-dabf-90ed7d5b80e9"
      },
      "outputs": [
        {
          "data": {
            "text/plain": [
              "array([ -1.61208571, -11.32440364,   9.08106147])"
            ]
          },
          "execution_count": 51,
          "metadata": {},
          "output_type": "execute_result"
        }
      ],
      "source": [
        "# extract values as aesara.tensor.var.TensorVariable\n",
        "mu_value = model_2.rvs_to_values[mu]\n",
        "sigma_log_value = model_2.rvs_to_values[sigma]\n",
        "x_value = model_2.rvs_to_values[x]\n",
        "# element-wise log-probability of the model (we do not take te sum)\n",
        "logp_graph = at.stack(model_2.logpt(sum=False))\n",
        "# evaluate by passing concrete values\n",
        "logp_graph.eval({mu_value: 0, sigma_log_value: -10, x_value:0})"
      ]
    },
    {
      "cell_type": "markdown",
      "metadata": {},
      "source": [
        "This equivalent to:"
      ]
    },
    {
      "cell_type": "code",
      "execution_count": 52,
      "metadata": {},
      "outputs": [
        {
          "name": "stdout",
          "output_type": "stream",
          "text": [
            "\n",
            "mu_value -> -1.612085713764618\n",
            "sigma_log_value -> -11.324403641427345 \n",
            "x_value -> 9.081061466795328\n",
            "\n"
          ]
        }
      ],
      "source": [
        "print(f\"\"\"\n",
        "mu_value -> {scipy.stats.norm.logpdf(x=0, loc=0, scale=2)}\n",
        "sigma_log_value -> {- 10 + scipy.stats.halfnorm.logpdf(x=np.exp(-10), loc=0, scale=3)} \n",
        "x_value -> {scipy.stats.norm.logpdf(x=0, loc=0, scale=np.exp(-10))}\n",
        "\"\"\")\n"
      ]
    },
    {
      "cell_type": "markdown",
      "metadata": {},
      "source": [
        "**Remark:** For `sigma_log_value` we add the $-10$ term for the `scipy` and `aesara` to match because of the jacobian."
      ]
    },
    {
      "cell_type": "markdown",
      "metadata": {},
      "source": [
        "The method `compile_logp` is a helper that creates a compiled aesara function of the model `logp`, which takes a dictionary of `{value variable name : value}` as inputs:"
      ]
    },
    {
      "cell_type": "code",
      "execution_count": 53,
      "metadata": {
        "colab": {
          "base_uri": "https://localhost:8080/"
        },
        "id": "wFAUqf0qU50W",
        "outputId": "3480b833-f2c7-43a3-d87f-b2149f67351f"
      },
      "outputs": [
        {
          "data": {
            "text/plain": [
              "[array(-1.61208571), array(-11.32440364), array(9.08106147)]"
            ]
          },
          "execution_count": 53,
          "metadata": {},
          "output_type": "execute_result"
        }
      ],
      "source": [
        "model_2.compile_logp(sum=False)({\"mu\": 0, \"sigma_log__\": -10, \"x\": 0})"
      ]
    },
    {
      "cell_type": "markdown",
      "metadata": {},
      "source": [
        "The {class}`~pymc.Model` class also has methods to extract the gradient ({meth}`~pymc.Model.dlogpt`) and the hessian ({meth}`~pymc.Model.d2logpt`) of the `logp`."
      ]
    },
    {
      "cell_type": "markdown",
      "metadata": {},
      "source": [
        "If you want to go deeper into the internals of `aesara` RandomVariables and `pymc` distributions please take a look into the [distribution developer guide](implementing-a-distribution)."
      ]
    }
  ],
  "metadata": {
    "colab": {
      "collapsed_sections": [
        "dIYxBNT_5HgW",
        "JhmIBByY6T9h",
        "k7spOYvvTdZL",
        "qIMN2gHGzKof",
        "aMM0sJy6z7Ur",
        "WY6bUgqZztC3",
        "58gng2f17_P7",
        "C8Us4nEyhRdu",
        "wkZR0gDWRAgK",
        "wPw9kCvASOeJ",
        "WdZcUfvLUkwK",
        "EHH1hP0uzaWG",
        "I_Ph4o7ZW_XD",
        "jOI-E76fZ2bG",
        "Rq2W2fmobmFg"
      ],
      "name": "PyMC intro.ipynb",
      "provenance": []
    },
    "interpreter": {
      "hash": "322221ae0b6adf1db1274c5f417c2cb5b37d259e740acb22a87dc0305ae08c77"
    },
    "kernelspec": {
      "display_name": "Python 3.9.12 ('pymc-dev-py39')",
      "language": "python",
      "name": "python3"
    },
    "language_info": {
      "codemirror_mode": {
        "name": "ipython",
        "version": 3
      },
      "file_extension": ".py",
      "mimetype": "text/x-python",
      "name": "python",
      "nbconvert_exporter": "python",
      "pygments_lexer": "ipython3",
      "version": "3.9.12"
    }
  },
  "nbformat": 4,
  "nbformat_minor": 0
}
