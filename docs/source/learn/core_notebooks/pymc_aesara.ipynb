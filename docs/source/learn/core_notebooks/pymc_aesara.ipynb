{
  "cells": [
    {
      "cell_type": "markdown",
      "metadata": {
        "id": "JUC0Xac4JTNS"
      },
      "source": [
        "(pymc_aesara)=\n",
        "\n",
        "# PyMC and Aesara\n",
        "\n",
        "**Authors:** [Ricardo Vieira](https://github.com/ricardoV94) and [Juan Orduz](https://juanitorduz.github.io/)\n",
        "\n",
        "In this notebook we want to give an introduction of how PyMC models translate to Aesara graphs. The purpose is not to give a detailed description of all `aesara`'s capabilities but rather focus on the main concepts to understand its connection with PyMC. For a more detailed description of the project please refer to the official documentation."
      ]
    },
    {
      "cell_type": "markdown",
      "metadata": {},
      "source": [
        "## Prepare Notebook\n",
        "\n",
        "First import the required libraries."
      ]
    },
    {
      "cell_type": "code",
      "execution_count": 1,
      "metadata": {
        "colab": {
          "base_uri": "https://localhost:8080/"
        },
        "id": "8_jxfrmDwkLn",
        "outputId": "b24046f8-0b21-478f-c376-29924fa2e243"
      },
      "outputs": [
        {
          "name": "stdout",
          "output_type": "stream",
          "text": [
            "\n",
            "# Aesara version: 2.6.6\n",
            "# PyMC version: 4.0.0\n",
            "\n"
          ]
        },
        {
          "name": "stderr",
          "output_type": "stream",
          "text": [
            "/Users/juanitorduz/opt/anaconda3/envs/pymc-dev-py39/lib/python3.9/site-packages/pkg_resources/__init__.py:123: PkgResourcesDeprecationWarning: main is an invalid version and will not be supported in a future release\n",
            "  warnings.warn(\n"
          ]
        }
      ],
      "source": [
        "import aesara\n",
        "import aesara.tensor as at\n",
        "import pymc as pm\n",
        "import matplotlib.pyplot as plt\n",
        "import numpy as np\n",
        "import scipy.stats\n",
        "\n",
        "\n",
        "print(f\"\"\"\n",
        "# Aesara version: {aesara.__version__}\n",
        "# PyMC version: {pm.__version__}\n",
        "\"\"\")"
      ]
    },
    {
      "cell_type": "markdown",
      "metadata": {
        "id": "ru2m_lFK7Atx"
      },
      "source": [
        "## Introduction to Aesara\n",
        "\n",
        "We start by looking into `aesara`. According to their documentation\n",
        "\n",
        "> Aesara is a Python library that allows one to define, optimize, and efficiently evaluate mathematical expressions involving multi-dimensional arrays."
      ]
    },
    {
      "cell_type": "markdown",
      "metadata": {},
      "source": [
        "![aesara logo](https://raw.githubusercontent.com/aesara-devs/aesara/main/doc/images/aesara_logo_2400.png)"
      ]
    },
    {
      "cell_type": "markdown",
      "metadata": {
        "id": "tBEjewdS1s5z"
      },
      "source": [
        "### A simple example\n",
        "\n",
        "To begin, we define some aesara tensors and show how to perform some basic operations."
      ]
    },
    {
      "cell_type": "code",
      "execution_count": 2,
      "metadata": {},
      "outputs": [
        {
          "name": "stdout",
          "output_type": "stream",
          "text": [
            "\n",
            "x type: TensorType(float64, ())\n",
            "x name = x\n",
            "---\n",
            "y type: TensorType(float64, (None,))\n",
            "y name = y\n",
            "\n"
          ]
        }
      ],
      "source": [
        "x = at.scalar(name=\"x\")\n",
        "y = at.vector(name=\"y\")\n",
        "\n",
        "print(f\"\"\"\n",
        "x type: {x.type}\n",
        "x name = {x.name}\n",
        "---\n",
        "y type: {y.type}\n",
        "y name = {y.name}\n",
        "\"\"\")"
      ]
    },
    {
      "cell_type": "markdown",
      "metadata": {},
      "source": [
        "Now that we have defined the `x` and `y` tensors, we can create a new one by adding them together."
      ]
    },
    {
      "cell_type": "code",
      "execution_count": 3,
      "metadata": {
        "id": "jApxApHT1rmq"
      },
      "outputs": [],
      "source": [
        "z = x + y\n",
        "z.name = \"x + y\""
      ]
    },
    {
      "cell_type": "markdown",
      "metadata": {},
      "source": [
        "To make the computation a bit more complex let us take the logarithm of the resulting tensor."
      ]
    },
    {
      "cell_type": "code",
      "execution_count": 4,
      "metadata": {},
      "outputs": [],
      "source": [
        "w = at.log(z)\n",
        "w.name = \"log(x + y)\""
      ]
    },
    {
      "cell_type": "markdown",
      "metadata": {},
      "source": [
        "We can use the `aesara.dprint` function to print the computational graph of any given tensor."
      ]
    },
    {
      "cell_type": "code",
      "execution_count": 5,
      "metadata": {
        "colab": {
          "base_uri": "https://localhost:8080/"
        },
        "id": "_QZRx-CB24l6",
        "outputId": "404e3654-2e91-4090-bb2f-4bb13115abed"
      },
      "outputs": [
        {
          "name": "stdout",
          "output_type": "stream",
          "text": [
            "Elemwise{log,no_inplace} [id A] 'log(x + y)'\n",
            " |Elemwise{add,no_inplace} [id B] 'x + y'\n",
            "   |InplaceDimShuffle{x} [id C]\n",
            "   | |x [id D]\n",
            "   |y [id E]\n"
          ]
        },
        {
          "data": {
            "text/plain": [
              "<ipykernel.iostream.OutStream at 0x11106ea60>"
            ]
          },
          "execution_count": 5,
          "metadata": {},
          "output_type": "execute_result"
        }
      ],
      "source": [
        "aesara.dprint(obj=w)"
      ]
    },
    {
      "cell_type": "markdown",
      "metadata": {},
      "source": [
        "Note that this graph does not do any computation (yet!). It is simply defining the sequence of steps to be done. We can use `aesara.function` to define a callable object so that we can push values trough the graph."
      ]
    },
    {
      "cell_type": "code",
      "execution_count": 6,
      "metadata": {
        "colab": {
          "base_uri": "https://localhost:8080/"
        },
        "id": "-XtR1jZS13_6",
        "outputId": "e101c9f0-7640-4fd0-aa6b-f8ba2e226886"
      },
      "outputs": [],
      "source": [
        "f = aesara.function(inputs=[x, y], outputs=w)"
      ]
    },
    {
      "cell_type": "markdown",
      "metadata": {},
      "source": [
        "Now that the graph is compiled, we can push some concrete values:"
      ]
    },
    {
      "cell_type": "code",
      "execution_count": 7,
      "metadata": {},
      "outputs": [
        {
          "data": {
            "text/plain": [
              "array([0., 1.])"
            ]
          },
          "execution_count": 7,
          "metadata": {},
          "output_type": "execute_result"
        }
      ],
      "source": [
        "f(x=0, y=[1, np.e])"
      ]
    },
    {
      "cell_type": "markdown",
      "metadata": {},
      "source": [
        "**Remark:** Sometimes we just want to debug, we can use `eval` for that:"
      ]
    },
    {
      "cell_type": "code",
      "execution_count": 8,
      "metadata": {
        "colab": {
          "base_uri": "https://localhost:8080/"
        },
        "id": "kVSkpSQv2FT1",
        "outputId": "a4e0a9f2-355d-4b55-cbcb-4486500b00fb"
      },
      "outputs": [
        {
          "data": {
            "text/plain": [
              "array([0., 1.])"
            ]
          },
          "execution_count": 8,
          "metadata": {},
          "output_type": "execute_result"
        }
      ],
      "source": [
        "w.eval({x: 0, y:[1, np.e]})"
      ]
    },
    {
      "cell_type": "markdown",
      "metadata": {},
      "source": [
        "You can set intermediate values as well"
      ]
    },
    {
      "cell_type": "code",
      "execution_count": 9,
      "metadata": {
        "colab": {
          "base_uri": "https://localhost:8080/"
        },
        "id": "U_aOb50o2cK8",
        "outputId": "572da92f-153e-4ab5-8ca1-a1bed4e141d7"
      },
      "outputs": [
        {
          "data": {
            "text/plain": [
              "array([0., 1.])"
            ]
          },
          "execution_count": 9,
          "metadata": {},
          "output_type": "execute_result"
        }
      ],
      "source": [
        "w.eval({z: [1, np.e]})"
      ]
    },
    {
      "cell_type": "markdown",
      "metadata": {},
      "source": [
        "### Aesara is clever!\n",
        "\n",
        "One of the most important features of `aesara` is that it can automatically optimize the mathematical operations inside a graph. Let's consider a simple example:"
      ]
    },
    {
      "cell_type": "code",
      "execution_count": 10,
      "metadata": {},
      "outputs": [
        {
          "name": "stdout",
          "output_type": "stream",
          "text": [
            "Elemwise{true_div,no_inplace} [id A] 'a / b'\n",
            " |a [id B]\n",
            " |b [id C]\n"
          ]
        },
        {
          "data": {
            "text/plain": [
              "<ipykernel.iostream.OutStream at 0x11106ea60>"
            ]
          },
          "execution_count": 10,
          "metadata": {},
          "output_type": "execute_result"
        }
      ],
      "source": [
        "a = at.scalar(name=\"a\")\n",
        "b = at.scalar(name=\"b\")\n",
        "\n",
        "c = a / b\n",
        "c.name = \"a / b\"\n",
        "\n",
        "aesara.dprint(c)"
      ]
    },
    {
      "cell_type": "markdown",
      "metadata": {},
      "source": [
        "Now let us multiply `b` times `c`. This should result in simply `a`."
      ]
    },
    {
      "cell_type": "code",
      "execution_count": 11,
      "metadata": {},
      "outputs": [
        {
          "name": "stdout",
          "output_type": "stream",
          "text": [
            "Elemwise{mul,no_inplace} [id A] 'b * c'\n",
            " |b [id B]\n",
            " |Elemwise{true_div,no_inplace} [id C] 'a / b'\n",
            "   |a [id D]\n",
            "   |b [id B]\n"
          ]
        },
        {
          "data": {
            "text/plain": [
              "<ipykernel.iostream.OutStream at 0x11106ea60>"
            ]
          },
          "execution_count": 11,
          "metadata": {},
          "output_type": "execute_result"
        }
      ],
      "source": [
        "d = b * c\n",
        "d.name = \"b * c\"\n",
        "\n",
        "aesara.dprint(d)"
      ]
    },
    {
      "cell_type": "markdown",
      "metadata": {},
      "source": [
        "The graph shows the full computation, but once we compile it the operation becomes the identity on `a` as expected."
      ]
    },
    {
      "cell_type": "code",
      "execution_count": 12,
      "metadata": {},
      "outputs": [
        {
          "name": "stdout",
          "output_type": "stream",
          "text": [
            "DeepCopyOp [id A] 'a' 0\n",
            " |a [id B]\n"
          ]
        },
        {
          "data": {
            "text/plain": [
              "<ipykernel.iostream.OutStream at 0x11106ea60>"
            ]
          },
          "execution_count": 12,
          "metadata": {},
          "output_type": "execute_result"
        }
      ],
      "source": [
        "g = aesara.function(inputs=[a, b], outputs=d)\n",
        "\n",
        "aesara.dprint(g)"
      ]
    },
    {
      "cell_type": "markdown",
      "metadata": {
        "id": "qqa54LWg4v3W"
      },
      "source": [
        "### What is in an Aesara graph?\n",
        "\n",
        "The following diagram shows the basic structure of an `aesara` graph."
      ]
    },
    {
      "cell_type": "markdown",
      "metadata": {
        "id": "KF4146uiMQ-W"
      },
      "source": [
        "![image.png](data:image/png;base64,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)"
      ]
    },
    {
      "cell_type": "markdown",
      "metadata": {},
      "source": []
    },
    {
      "cell_type": "markdown",
      "metadata": {},
      "source": [
        "We can can make these concepts more tangible by explicitly indicating them in the first example from the section above. Let us compute the graph components for the tensor `z`. "
      ]
    },
    {
      "cell_type": "code",
      "execution_count": 13,
      "metadata": {
        "colab": {
          "base_uri": "https://localhost:8080/"
        },
        "id": "UV95InOX3W2z",
        "outputId": "047197ff-5c73-429d-d93a-427620c4b215"
      },
      "outputs": [
        {
          "name": "stdout",
          "output_type": "stream",
          "text": [
            "\n",
            "z type: TensorType(float64, (None,))\n",
            "z name = x + y\n",
            "z owner = Elemwise{add,no_inplace}(InplaceDimShuffle{x}.0, y)\n",
            "z owner inputs = [InplaceDimShuffle{x}.0, y]\n",
            "z owner op = Elemwise{add,no_inplace}\n",
            "z owner output = [x + y]\n",
            "\n"
          ]
        }
      ],
      "source": [
        "print(f\"\"\"\n",
        "z type: {z.type}\n",
        "z name = {z.name}\n",
        "z owner = {z.owner}\n",
        "z owner inputs = {z.owner.inputs}\n",
        "z owner op = {z.owner.op}\n",
        "z owner output = {z.owner.outputs}\n",
        "\"\"\")"
      ]
    },
    {
      "cell_type": "markdown",
      "metadata": {},
      "source": [
        "The following code snippet helps us understand these concepts by going through the computational graph of `w`. The actual code is not as important here, the focus is on the outputs."
      ]
    },
    {
      "cell_type": "code",
      "execution_count": 14,
      "metadata": {
        "colab": {
          "base_uri": "https://localhost:8080/"
        },
        "id": "thLifxKW3ka3",
        "outputId": "6c98f77b-922a-4869-bfeb-281b3f29e8dc"
      },
      "outputs": [
        {
          "name": "stdout",
          "output_type": "stream",
          "text": [
            "---\n",
            "Checking variable log(x + y) of type TensorType(float64, (None,))\n",
            " > Op is Elemwise{log,no_inplace}\n",
            " > Input 0 is x + y\n",
            "---\n",
            "Checking variable x + y of type TensorType(float64, (None,))\n",
            " > Op is Elemwise{add,no_inplace}\n",
            " > Input 0 is InplaceDimShuffle{x}.0\n",
            " > Input 1 is y\n",
            "---\n",
            "Checking variable InplaceDimShuffle{x}.0 of type TensorType(float64, (1,))\n",
            " > Op is InplaceDimShuffle{x}\n",
            " > Input 0 is x\n",
            "---\n",
            "Checking variable y of type TensorType(float64, (None,))\n",
            " > y is a root variable\n",
            "---\n",
            "Checking variable x of type TensorType(float64, ())\n",
            " > x is a root variable\n"
          ]
        }
      ],
      "source": [
        "# start from the top\n",
        "stack = [w]\n",
        "\n",
        "while stack:\n",
        "    print(\"---\")\n",
        "    var = stack.pop(0)\n",
        "    print(f\"Checking variable {var} of type {var.type}\")\n",
        "    # check variable is not a root variable\n",
        "    if var.owner is not None:\n",
        "        print(f\" > Op is {var.owner.op}\")\n",
        "        # loop over the inputs\n",
        "        for i, input in enumerate(var.owner.inputs):\n",
        "            print(f\" > Input {i} is {input}\")\n",
        "            stack.append(input)\n",
        "    else:\n",
        "        print(f\" > {var} is a root variable\")"
      ]
    },
    {
      "cell_type": "markdown",
      "metadata": {},
      "source": [
        "Note that this is very similar to the output of the `aesara.dprint` function introduced above."
      ]
    },
    {
      "cell_type": "code",
      "execution_count": 15,
      "metadata": {
        "colab": {
          "base_uri": "https://localhost:8080/"
        },
        "id": "ltcXsJUQ-NZL",
        "outputId": "2c9543a8-1be6-47cb-efc7-1f83187e068b"
      },
      "outputs": [
        {
          "name": "stdout",
          "output_type": "stream",
          "text": [
            "Elemwise{log,no_inplace} [id A] 'log(x + y)'\n",
            " |Elemwise{add,no_inplace} [id B] 'x + y'\n",
            "   |InplaceDimShuffle{x} [id C]\n",
            "   | |x [id D]\n",
            "   |y [id E]\n"
          ]
        },
        {
          "data": {
            "text/plain": [
              "<ipykernel.iostream.OutStream at 0x11106ea60>"
            ]
          },
          "execution_count": 15,
          "metadata": {},
          "output_type": "execute_result"
        }
      ],
      "source": [
        "aesara.dprint(w)"
      ]
    },
    {
      "cell_type": "markdown",
      "metadata": {
        "id": "dIYxBNT_5HgW"
      },
      "source": [
        "### Graph manipulation 101\n",
        "\n",
        "Another interesting feature of Aesara is the ability to manipulate the computational graph, something that is not possible with TensorFlow or PyTorch. Here we continue with the example above in order to illustrate the main idea around this technique."
      ]
    },
    {
      "cell_type": "code",
      "execution_count": 16,
      "metadata": {
        "colab": {
          "base_uri": "https://localhost:8080/"
        },
        "id": "gWj0znupVc02",
        "outputId": "edbdd626-2887-4336-f3b4-0f3904e49656"
      },
      "outputs": [
        {
          "data": {
            "text/plain": [
              "[x, y]"
            ]
          },
          "execution_count": 16,
          "metadata": {},
          "output_type": "execute_result"
        }
      ],
      "source": [
        "# get input tensors\n",
        "list(aesara.graph.graph_inputs(graphs=[w]))"
      ]
    },
    {
      "cell_type": "markdown",
      "metadata": {},
      "source": [
        "As a simple example, let's add an `exp` before the `log` (to get the identity function)."
      ]
    },
    {
      "cell_type": "code",
      "execution_count": 17,
      "metadata": {},
      "outputs": [],
      "source": [
        "parent_of_w = w.owner.inputs[0] # get z tensor\n",
        "new_parent_of_w = at.exp(parent_of_w) # modify the parent of w\n",
        "new_parent_of_w.name = \"exp(x + y)\""
      ]
    },
    {
      "cell_type": "markdown",
      "metadata": {},
      "source": [
        "Note that the graph of `w` has actually not changed:"
      ]
    },
    {
      "cell_type": "code",
      "execution_count": 18,
      "metadata": {},
      "outputs": [
        {
          "name": "stdout",
          "output_type": "stream",
          "text": [
            "Elemwise{log,no_inplace} [id A] 'log(x + y)'\n",
            " |Elemwise{add,no_inplace} [id B] 'x + y'\n",
            "   |InplaceDimShuffle{x} [id C]\n",
            "   | |x [id D]\n",
            "   |y [id E]\n"
          ]
        },
        {
          "data": {
            "text/plain": [
              "<ipykernel.iostream.OutStream at 0x11106ea60>"
            ]
          },
          "execution_count": 18,
          "metadata": {},
          "output_type": "execute_result"
        }
      ],
      "source": [
        "aesara.dprint(w)"
      ]
    },
    {
      "cell_type": "markdown",
      "metadata": {},
      "source": [
        "To modify the graph we need to use the `aesara.clone_replace` function, which *returns a copy of the initial subgraph with the corresponding substitutions.*"
      ]
    },
    {
      "cell_type": "code",
      "execution_count": 19,
      "metadata": {
        "colab": {
          "base_uri": "https://localhost:8080/"
        },
        "id": "y7WI_O4e5Gu0",
        "outputId": "7d288574-b747-43ff-bfbe-b5ed3357caea"
      },
      "outputs": [
        {
          "name": "stdout",
          "output_type": "stream",
          "text": [
            "Elemwise{log,no_inplace} [id A] 'log(exp(x + y))'\n",
            " |Elemwise{exp,no_inplace} [id B] 'exp(x + y)'\n",
            "   |Elemwise{add,no_inplace} [id C] 'x + y'\n",
            "     |InplaceDimShuffle{x} [id D]\n",
            "     | |x [id E]\n",
            "     |y [id F]\n"
          ]
        },
        {
          "data": {
            "text/plain": [
              "<ipykernel.iostream.OutStream at 0x11106ea60>"
            ]
          },
          "execution_count": 19,
          "metadata": {},
          "output_type": "execute_result"
        }
      ],
      "source": [
        "new_w = aesara.clone_replace(output=[w], replace={parent_of_w: new_parent_of_w})[0]\n",
        "new_w.name = \"log(exp(x + y))\"\n",
        "aesara.dprint(new_w)"
      ]
    },
    {
      "cell_type": "markdown",
      "metadata": {},
      "source": [
        "Finally, we can test the modified graph by passing some input to the new graph."
      ]
    },
    {
      "cell_type": "code",
      "execution_count": 20,
      "metadata": {
        "colab": {
          "base_uri": "https://localhost:8080/"
        },
        "id": "GK2764ZW6Hs6",
        "outputId": "8db79441-9b23-4886-f1fe-ae4857deaefe"
      },
      "outputs": [
        {
          "data": {
            "text/plain": [
              "array([1.        , 2.71828183])"
            ]
          },
          "execution_count": 20,
          "metadata": {},
          "output_type": "execute_result"
        }
      ],
      "source": [
        "new_w.eval({x: 0, y:[1, np.e]})"
      ]
    },
    {
      "cell_type": "markdown",
      "metadata": {},
      "source": [
        "As expected, the new graph is just the identity function."
      ]
    },
    {
      "cell_type": "markdown",
      "metadata": {
        "id": "JhmIBByY6T9h"
      },
      "source": [
        "**Remark:** Again, note that `aesara` is clever enough to omit the `exp` and `log` once we compile the function."
      ]
    },
    {
      "cell_type": "code",
      "execution_count": 21,
      "metadata": {
        "colab": {
          "base_uri": "https://localhost:8080/"
        },
        "id": "WlDAR8616QsM",
        "outputId": "2b9a60b7-d3d6-4605-d6ff-736b5c721318"
      },
      "outputs": [
        {
          "name": "stdout",
          "output_type": "stream",
          "text": [
            "Elemwise{add,no_inplace} [id A] 'x + y' 1\n",
            " |InplaceDimShuffle{x} [id B] 0\n",
            " | |x [id C]\n",
            " |y [id D]\n"
          ]
        },
        {
          "data": {
            "text/plain": [
              "<ipykernel.iostream.OutStream at 0x11106ea60>"
            ]
          },
          "execution_count": 21,
          "metadata": {},
          "output_type": "execute_result"
        }
      ],
      "source": [
        "f = aesara.function(inputs=[x, y], outputs=new_w)\n",
        "\n",
        "aesara.dprint(f)"
      ]
    },
    {
      "cell_type": "code",
      "execution_count": 22,
      "metadata": {
        "colab": {
          "base_uri": "https://localhost:8080/"
        },
        "id": "noKfjvwS65q-",
        "outputId": "bed5b895-8c4e-4c0e-95c9-8eefdbbd55fa"
      },
      "outputs": [
        {
          "data": {
            "text/plain": [
              "array([1.        , 2.71828183])"
            ]
          },
          "execution_count": 22,
          "metadata": {},
          "output_type": "execute_result"
        }
      ],
      "source": [
        "f(x=0, y=[1, np.e])"
      ]
    },
    {
      "cell_type": "markdown",
      "metadata": {},
      "source": [
        "---\n",
        "## PyMC\n",
        "\n",
        "![pymc logo](https://raw.githubusercontent.com/pymc-devs/pymc/main/docs/logos/PyMC.png)"
      ]
    },
    {
      "cell_type": "markdown",
      "metadata": {
        "id": "3drOlTjZxDMF"
      },
      "source": [
        "### Aesara RandomVariables\n",
        "\n",
        "Now that we have seen aesara's basics we want to move in the direction of random variables.\n",
        "\n",
        "How do we generate random numbers in `numpy`? To illustrate it we can sample from a normal distribution:"
      ]
    },
    {
      "cell_type": "code",
      "execution_count": 23,
      "metadata": {
        "colab": {
          "base_uri": "https://localhost:8080/"
        },
        "id": "THRvGbP1WmhH",
        "outputId": "c4f044e6-83c3-4c4c-9ecf-8714efae6f36"
      },
      "outputs": [
        {
          "data": {
            "image/png": "[encoded data removed]",
            "text/plain": [
              "<Figure size 576x432 with 1 Axes>"
            ]
          },
          "metadata": {
            "needs_background": "light"
          },
          "output_type": "display_data"
        }
      ],
      "source": [
        "rng = np.random.default_rng()\n",
        "\n",
        "a = rng.normal(loc=0, scale=1, size=1_000)\n",
        "\n",
        "fig, ax = plt.subplots(figsize=(8, 6))\n",
        "ax.hist(a, color=\"C0\", bins=15)\n",
        "ax.set(title=\"Samples from a normal distribution using numpy\", ylabel=\"count\");"
      ]
    },
    {
      "cell_type": "markdown",
      "metadata": {},
      "source": [
        "Now let's try to do it in Aesara."
      ]
    },
    {
      "cell_type": "code",
      "execution_count": 24,
      "metadata": {},
      "outputs": [
        {
          "data": {
            "text/plain": [
              "aesara.tensor.var.TensorVariable"
            ]
          },
          "execution_count": 24,
          "metadata": {},
          "output_type": "execute_result"
        }
      ],
      "source": [
        "y = at.random.normal(loc=0, scale=1, name=\"y\")\n",
        "type(y)"
      ]
    },
    {
      "cell_type": "markdown",
      "metadata": {},
      "source": [
        "Next, we show the graph using `dprint`."
      ]
    },
    {
      "cell_type": "code",
      "execution_count": 25,
      "metadata": {},
      "outputs": [
        {
          "name": "stdout",
          "output_type": "stream",
          "text": [
            "normal_rv{0, (0, 0), floatX, False}.1 [id A] 'y'\n",
            " |RandomGeneratorSharedVariable(<Generator(PCG64) at 0x166F7A4A0>) [id B]\n",
            " |TensorConstant{[]} [id C]\n",
            " |TensorConstant{11} [id D]\n",
            " |TensorConstant{0} [id E]\n",
            " |TensorConstant{1} [id F]\n"
          ]
        },
        {
          "data": {
            "text/plain": [
              "<ipykernel.iostream.OutStream at 0x11106ea60>"
            ]
          },
          "execution_count": 25,
          "metadata": {},
          "output_type": "execute_result"
        }
      ],
      "source": [
        "aesara.dprint(y)"
      ]
    },
    {
      "cell_type": "markdown",
      "metadata": {},
      "source": [
        "The inputs are always in the following order:\n",
        "1. `rng` shared variable\n",
        "2. `size`\n",
        "3. `dtype` (number code)\n",
        "4. `arg1`\n",
        "5. `arg2`\n",
        "6. `argn`"
      ]
    },
    {
      "cell_type": "markdown",
      "metadata": {},
      "source": [
        "We *could* sample by calling `.eval()` on the random variable."
      ]
    },
    {
      "cell_type": "code",
      "execution_count": 26,
      "metadata": {},
      "outputs": [
        {
          "data": {
            "text/plain": [
              "array(0.20297711)"
            ]
          },
          "execution_count": 26,
          "metadata": {},
          "output_type": "execute_result"
        }
      ],
      "source": [
        "y.eval()"
      ]
    },
    {
      "cell_type": "markdown",
      "metadata": {},
      "source": [
        "Note however that these samples are always the same!"
      ]
    },
    {
      "cell_type": "code",
      "execution_count": 27,
      "metadata": {},
      "outputs": [
        {
          "name": "stdout",
          "output_type": "stream",
          "text": [
            "Sample 0: 0.20297710618737433\n",
            "Sample 1: 0.20297710618737433\n",
            "Sample 2: 0.20297710618737433\n",
            "Sample 3: 0.20297710618737433\n",
            "Sample 4: 0.20297710618737433\n",
            "Sample 5: 0.20297710618737433\n",
            "Sample 6: 0.20297710618737433\n",
            "Sample 7: 0.20297710618737433\n",
            "Sample 8: 0.20297710618737433\n",
            "Sample 9: 0.20297710618737433\n"
          ]
        }
      ],
      "source": [
        "for i in range(10):\n",
        "    print(f\"Sample {i}: {y.eval()}\")"
      ]
    },
    {
      "cell_type": "markdown",
      "metadata": {},
      "source": [
        "We always get the same samples! This has to do with the random seed step in the graph, i.e. `RandomGeneratorSharedVariable` (we will not go deeper into this subject here). We will show how to generate different samples with `pymc` below.  To do so, we start by defining a `pymc` normal distribution."
      ]
    },
    {
      "cell_type": "code",
      "execution_count": 28,
      "metadata": {},
      "outputs": [
        {
          "name": "stdout",
          "output_type": "stream",
          "text": [
            "normal_rv{0, (0, 0), floatX, False}.1 [id A]\n",
            " |RandomGeneratorSharedVariable(<Generator(PCG64) at 0x166FEB900>) [id B]\n",
            " |TensorConstant{[]} [id C]\n",
            " |TensorConstant{11} [id D]\n",
            " |TensorConstant{0} [id E]\n",
            " |TensorConstant{1.0} [id F]\n"
          ]
        },
        {
          "data": {
            "text/plain": [
              "<ipykernel.iostream.OutStream at 0x11106ea60>"
            ]
          },
          "execution_count": 28,
          "metadata": {},
          "output_type": "execute_result"
        }
      ],
      "source": [
        "x = pm.Normal.dist(mu=0, sigma=1)\n",
        "aesara.dprint(x)"
      ]
    },
    {
      "cell_type": "markdown",
      "metadata": {},
      "source": [
        "We can try to generate samples by calling `.eval()` as above."
      ]
    },
    {
      "cell_type": "code",
      "execution_count": 29,
      "metadata": {},
      "outputs": [
        {
          "name": "stdout",
          "output_type": "stream",
          "text": [
            "Sample 0: -0.5540632985052292\n",
            "Sample 1: -0.5540632985052292\n",
            "Sample 2: -0.5540632985052292\n",
            "Sample 3: -0.5540632985052292\n",
            "Sample 4: -0.5540632985052292\n",
            "Sample 5: -0.5540632985052292\n",
            "Sample 6: -0.5540632985052292\n",
            "Sample 7: -0.5540632985052292\n",
            "Sample 8: -0.5540632985052292\n",
            "Sample 9: -0.5540632985052292\n"
          ]
        }
      ],
      "source": [
        "for i in range(10):\n",
        "    print(f\"Sample {i}: {x.eval()}\")"
      ]
    },
    {
      "cell_type": "markdown",
      "metadata": {},
      "source": [
        "As before we get the same value for all iterations. The correct way to generate random samples is using `pm.draw`."
      ]
    },
    {
      "cell_type": "code",
      "execution_count": 30,
      "metadata": {},
      "outputs": [
        {
          "data": {
            "image/png": "[encoded data removed]",
            "text/plain": [
              "<Figure size 576x432 with 1 Axes>"
            ]
          },
          "metadata": {
            "needs_background": "light"
          },
          "output_type": "display_data"
        }
      ],
      "source": [
        "fig, ax = plt.subplots(figsize=(8, 6))\n",
        "ax.hist(pm.draw(x, draws=1_000), color=\"C1\", bins=15)\n",
        "ax.set(title=\"Samples from a normal distribution using pymc\", ylabel=\"count\");"
      ]
    },
    {
      "cell_type": "markdown",
      "metadata": {},
      "source": [
        "Yay! We learned how to sample from a `pymc` distribution!\n",
        "\n",
        "Finally, we can compare the `dprint` output for `x` and `y`:"
      ]
    },
    {
      "cell_type": "code",
      "execution_count": 31,
      "metadata": {},
      "outputs": [
        {
          "name": "stdout",
          "output_type": "stream",
          "text": [
            "normal_rv{0, (0, 0), floatX, False}.1 [id A]\n",
            " |RandomGeneratorSharedVariable(<Generator(PCG64) at 0x1671B2AC0>) [id B]\n",
            " |TensorConstant{[]} [id C]\n",
            " |TensorConstant{11} [id D]\n",
            " |TensorConstant{0} [id E]\n",
            " |TensorConstant{1.0} [id F]\n"
          ]
        },
        {
          "data": {
            "text/plain": [
              "<ipykernel.iostream.OutStream at 0x11106ea60>"
            ]
          },
          "execution_count": 31,
          "metadata": {},
          "output_type": "execute_result"
        }
      ],
      "source": [
        "aesara.dprint(x)"
      ]
    },
    {
      "cell_type": "markdown",
      "metadata": {},
      "source": [
        "**Remark:** Observe that `x.owner` and `y.owner` are the same (aside from the generator itself)."
      ]
    },
    {
      "cell_type": "code",
      "execution_count": 32,
      "metadata": {},
      "outputs": [
        {
          "name": "stdout",
          "output_type": "stream",
          "text": [
            "normal_rv{0, (0, 0), floatX, False}.1 [id A] 'y'\n",
            " |RandomGeneratorSharedVariable(<Generator(PCG64) at 0x166F7A4A0>) [id B]\n",
            " |TensorConstant{[]} [id C]\n",
            " |TensorConstant{11} [id D]\n",
            " |TensorConstant{0} [id E]\n",
            " |TensorConstant{1} [id F]\n"
          ]
        },
        {
          "data": {
            "text/plain": [
              "<ipykernel.iostream.OutStream at 0x11106ea60>"
            ]
          },
          "execution_count": 32,
          "metadata": {},
          "output_type": "execute_result"
        }
      ],
      "source": [
        "aesara.dprint(y)"
      ]
    },
    {
      "cell_type": "markdown",
      "metadata": {},
      "source": [
        "They look the same (except from the random seed)! "
      ]
    },
    {
      "cell_type": "markdown",
      "metadata": {
        "id": "wkZR0gDWRAgK"
      },
      "source": [
        "### What is going on behind the scenes?"
      ]
    },
    {
      "cell_type": "markdown",
      "metadata": {},
      "source": [
        "We can now look into how this is done inside a model."
      ]
    },
    {
      "cell_type": "code",
      "execution_count": 33,
      "metadata": {},
      "outputs": [
        {
          "name": "stdout",
          "output_type": "stream",
          "text": [
            "normal_rv{0, (0, 0), floatX, False}.1 [id A]\n",
            " |RandomGeneratorSharedVariable(<Generator(PCG64) at 0x1671B2AC0>) [id B]\n",
            " |TensorConstant{[]} [id C]\n",
            " |TensorConstant{11} [id D]\n",
            " |TensorConstant{0} [id E]\n",
            " |TensorConstant{1.0} [id F]\n"
          ]
        },
        {
          "data": {
            "text/plain": [
              "<ipykernel.iostream.OutStream at 0x11106ea60>"
            ]
          },
          "execution_count": 33,
          "metadata": {},
          "output_type": "execute_result"
        }
      ],
      "source": [
        "with pm.Model() as model:\n",
        "    z = pm.Normal(name=\"z\", mu=np.array([0, 0]), sigma=np.array([1, 2]))\n",
        "\n",
        "aesara.dprint(x)"
      ]
    },
    {
      "cell_type": "markdown",
      "metadata": {},
      "source": [
        "We are just creating random variables like we saw before, but now registering them in a PyMC model. To extract the list of random variables we can simply do:"
      ]
    },
    {
      "cell_type": "code",
      "execution_count": 34,
      "metadata": {
        "colab": {
          "base_uri": "https://localhost:8080/"
        },
        "id": "23JVxTUjRHDy",
        "outputId": "cc39c67b-ed0d-4ad7-c485-5ae6b0b5d0df"
      },
      "outputs": [
        {
          "data": {
            "text/plain": [
              "[z]"
            ]
          },
          "execution_count": 34,
          "metadata": {},
          "output_type": "execute_result"
        }
      ],
      "source": [
        "model.basic_RVs"
      ]
    },
    {
      "cell_type": "code",
      "execution_count": 35,
      "metadata": {
        "colab": {
          "base_uri": "https://localhost:8080/"
        },
        "id": "jYgwMOzpRcmo",
        "outputId": "3178ac69-3666-4464-d6d2-dbaacfc51170"
      },
      "outputs": [
        {
          "name": "stdout",
          "output_type": "stream",
          "text": [
            "normal_rv{0, (0, 0), floatX, False}.1 [id A] 'z'\n",
            " |RandomGeneratorSharedVariable(<Generator(PCG64) at 0x167250580>) [id B]\n",
            " |TensorConstant{[]} [id C]\n",
            " |TensorConstant{11} [id D]\n",
            " |TensorConstant{(2,) of 0} [id E]\n",
            " |TensorConstant{[1. 2.]} [id F]\n"
          ]
        },
        {
          "data": {
            "text/plain": [
              "<ipykernel.iostream.OutStream at 0x11106ea60>"
            ]
          },
          "execution_count": 35,
          "metadata": {},
          "output_type": "execute_result"
        }
      ],
      "source": [
        "aesara.dprint(model.basic_RVs[0])"
      ]
    },
    {
      "cell_type": "markdown",
      "metadata": {},
      "source": [
        "We can try to sample via `.eval` as above and it is no surprise that we are getting the same samples at each iteration."
      ]
    },
    {
      "cell_type": "code",
      "execution_count": 36,
      "metadata": {},
      "outputs": [
        {
          "name": "stdout",
          "output_type": "stream",
          "text": [
            "Sample 0: [ 0.47385668 -0.47635737]\n",
            "Sample 1: [ 0.47385668 -0.47635737]\n",
            "Sample 2: [ 0.47385668 -0.47635737]\n",
            "Sample 3: [ 0.47385668 -0.47635737]\n",
            "Sample 4: [ 0.47385668 -0.47635737]\n",
            "Sample 5: [ 0.47385668 -0.47635737]\n",
            "Sample 6: [ 0.47385668 -0.47635737]\n",
            "Sample 7: [ 0.47385668 -0.47635737]\n",
            "Sample 8: [ 0.47385668 -0.47635737]\n",
            "Sample 9: [ 0.47385668 -0.47635737]\n"
          ]
        }
      ],
      "source": [
        "for i in range(10):\n",
        "    print(f\"Sample {i}: {z.eval()}\")"
      ]
    },
    {
      "cell_type": "markdown",
      "metadata": {},
      "source": [
        "Again, the correct way of sampling is via `pm.draw`. "
      ]
    },
    {
      "cell_type": "code",
      "execution_count": 37,
      "metadata": {},
      "outputs": [
        {
          "name": "stdout",
          "output_type": "stream",
          "text": [
            "Sample 0: [-0.57795086 -0.33999804]\n",
            "Sample 1: [-1.81857076  1.9581163 ]\n",
            "Sample 2: [-1.21316707  1.11236001]\n",
            "Sample 3: [-0.65227326  1.64559109]\n",
            "Sample 4: [0.46256757 1.01906687]\n",
            "Sample 5: [-0.31869496  2.35081405]\n",
            "Sample 6: [-0.47447351 -3.27005501]\n",
            "Sample 7: [-0.20685277  0.39483451]\n",
            "Sample 8: [-0.99561576 -2.92132874]\n",
            "Sample 9: [-0.17359813  1.20051413]\n"
          ]
        }
      ],
      "source": [
        "for i in range(10):\n",
        "    print(f\"Sample {i}: {pm.draw(z)}\")"
      ]
    },
    {
      "cell_type": "code",
      "execution_count": 38,
      "metadata": {},
      "outputs": [
        {
          "data": {
            "image/png": "[encoded data removed]",
            "text/plain": [
              "<Figure size 576x576 with 1 Axes>"
            ]
          },
          "metadata": {
            "needs_background": "light"
          },
          "output_type": "display_data"
        }
      ],
      "source": [
        "fig, ax = plt.subplots(figsize=(8, 8))\n",
        "z_draws = pm.draw(vars=z, draws=10_000)\n",
        "ax.hist2d(x=z_draws[:, 0], y=z_draws[:, 1], bins=25)\n",
        "ax.set(title=\"Samples Histogram\");"
      ]
    },
    {
      "cell_type": "markdown",
      "metadata": {
        "id": "wPw9kCvASOeJ"
      },
      "source": [
        "### Enough with Random Variables, I want to see some (log)probabilities!"
      ]
    },
    {
      "cell_type": "markdown",
      "metadata": {},
      "source": [
        "Recall we have defined the following model above:"
      ]
    },
    {
      "cell_type": "code",
      "execution_count": 39,
      "metadata": {},
      "outputs": [
        {
          "data": {
            "text/latex": [
              "$$\n",
              "            \\begin{array}{rcl}\n",
              "            \\text{z} &\\sim & \\operatorname{N}(\\text{<constant>},~\\text{<constant>})\n",
              "            \\end{array}\n",
              "            $$"
            ],
            "text/plain": [
              "<pymc.model.Model at 0x167251460>"
            ]
          },
          "execution_count": 39,
          "metadata": {},
          "output_type": "execute_result"
        }
      ],
      "source": [
        "model"
      ]
    },
    {
      "cell_type": "markdown",
      "metadata": {},
      "source": [
        "We can get the initial point of the model by simply calling the `initial_point` method:"
      ]
    },
    {
      "cell_type": "code",
      "execution_count": 40,
      "metadata": {
        "colab": {
          "base_uri": "https://localhost:8080/"
        },
        "id": "mgntEABvQyhu",
        "outputId": "319b8e86-388a-4ca5-bd3e-c27a24dd306c"
      },
      "outputs": [
        {
          "data": {
            "text/plain": [
              "{'z': array([0., 0.])}"
            ]
          },
          "execution_count": 40,
          "metadata": {},
          "output_type": "execute_result"
        }
      ],
      "source": [
        "point = model.initial_point()\n",
        "point"
      ]
    },
    {
      "cell_type": "markdown",
      "metadata": {},
      "source": [
        "We can compute the log probability for this point in this model:"
      ]
    },
    {
      "cell_type": "code",
      "execution_count": 41,
      "metadata": {
        "colab": {
          "base_uri": "https://localhost:8080/"
        },
        "id": "d3MpBiUlSVGT",
        "outputId": "bdf43dff-e5b5-4699-b0b5-b8d0602b2064"
      },
      "outputs": [
        {
          "data": {
            "text/plain": [
              "{'z': -2.53}"
            ]
          },
          "execution_count": 41,
          "metadata": {},
          "output_type": "execute_result"
        }
      ],
      "source": [
        "model.point_logps(point=point)"
      ]
    },
    {
      "cell_type": "markdown",
      "metadata": {},
      "source": [
        "This is nothing else than evaluating the log probability of a normal distribution."
      ]
    },
    {
      "cell_type": "code",
      "execution_count": 42,
      "metadata": {},
      "outputs": [
        {
          "data": {
            "text/plain": [
              "-2.5310242469692907"
            ]
          },
          "execution_count": 42,
          "metadata": {},
          "output_type": "execute_result"
        }
      ],
      "source": [
        "scipy.stats.multivariate_normal.logpdf(\n",
        "    x=np.array([0, 0]), mean=np.array([0, 0]), cov=np.array([[1, 0], [0, 2**2]])\n",
        ")"
      ]
    },
    {
      "cell_type": "code",
      "execution_count": 43,
      "metadata": {},
      "outputs": [
        {
          "data": {
            "text/plain": [
              "-2.5310242469692907"
            ]
          },
          "execution_count": 43,
          "metadata": {},
          "output_type": "execute_result"
        }
      ],
      "source": [
        "scipy.stats.norm.logpdf(x=np.array([0, 0]), loc=np.array([0, 0]), scale=np.array([1, 2])).sum()"
      ]
    },
    {
      "cell_type": "markdown",
      "metadata": {},
      "source": [
        "**Remark:** There is a handy PyMC function to compute the log probability of a random variable and a given point."
      ]
    },
    {
      "cell_type": "code",
      "execution_count": 44,
      "metadata": {
        "colab": {
          "base_uri": "https://localhost:8080/"
        },
        "id": "zCmmLzwfTL9N",
        "outputId": "7dc9cd0e-5c42-4137-ff88-de5d286f81b8"
      },
      "outputs": [
        {
          "data": {
            "text/plain": [
              "array(-2.53102425)"
            ]
          },
          "execution_count": 44,
          "metadata": {},
          "output_type": "execute_result"
        }
      ],
      "source": [
        "# We could have extracted `z` via model.basic_RVs[0]\n",
        "pm.logp(rv=z, value=point[\"z\"]).sum().eval()"
      ]
    },
    {
      "cell_type": "markdown",
      "metadata": {
        "id": "yxG5UHslGDEv"
      },
      "source": [
        "**Remark:** A similar strategy is used for `logcdf`."
      ]
    },
    {
      "cell_type": "markdown",
      "metadata": {
        "id": "WdZcUfvLUkwK"
      },
      "source": [
        "### What are value variables and why are they important?\n",
        "\n",
        "As he have seen above, a `logp` graph does not have random variables. Instead it's defined in terms of input (value) variables. When we want to sample, each random variable (RV) is replaced by a respective input (value) variable. Let's see how this works through some examples. RV and value variables can be observed in these `scipy` operations:"
      ]
    },
    {
      "cell_type": "code",
      "execution_count": 45,
      "metadata": {
        "colab": {
          "base_uri": "https://localhost:8080/"
        },
        "id": "7Sznx-MLs691",
        "outputId": "1dac8ba2-899a-47f7-d175-04502b73fd76"
      },
      "outputs": [
        {
          "data": {
            "text/plain": [
              "<scipy.stats._distn_infrastructure.rv_frozen at 0x16753a190>"
            ]
          },
          "execution_count": 45,
          "metadata": {},
          "output_type": "execute_result"
        }
      ],
      "source": [
        "rv = scipy.stats.norm(0, 1)\n",
        "\n",
        "# Equivalent to rv = pm.Normal(\"rv\", 0, 1)\n",
        "scipy.stats.norm(0, 1)"
      ]
    },
    {
      "cell_type": "code",
      "execution_count": 46,
      "metadata": {},
      "outputs": [
        {
          "data": {
            "text/plain": [
              "array([ 0.7117622 , -0.568556  ,  0.94015843])"
            ]
          },
          "execution_count": 46,
          "metadata": {},
          "output_type": "execute_result"
        }
      ],
      "source": [
        " # Equivalent to rv_draw = pm.draw(rv, 3)\n",
        "rv.rvs(3)"
      ]
    },
    {
      "cell_type": "code",
      "execution_count": 47,
      "metadata": {},
      "outputs": [
        {
          "data": {
            "text/plain": [
              "-1.7001885332046727"
            ]
          },
          "execution_count": 47,
          "metadata": {},
          "output_type": "execute_result"
        }
      ],
      "source": [
        "# Equivalent to rv_logp = pm.logp(rv, 1.25)\n",
        "rv.logpdf(1.25)"
      ]
    },
    {
      "cell_type": "markdown",
      "metadata": {},
      "source": [
        "Next, let's look at how these value variables behave in a simple model."
      ]
    },
    {
      "cell_type": "code",
      "execution_count": 48,
      "metadata": {
        "id": "dejQBR2FUnM3"
      },
      "outputs": [],
      "source": [
        "with pm.Model() as model_2:\n",
        "    mu = pm.Normal(name=\"mu\", mu=0, sigma=2)\n",
        "    sigma = pm.HalfNormal(name=\"sigma\", sigma=3)\n",
        "    x = pm.Normal(name=\"x\", mu=mu, sigma=sigma)"
      ]
    },
    {
      "cell_type": "markdown",
      "metadata": {},
      "source": [
        "Each model RV is related to a \"value variable\":"
      ]
    },
    {
      "cell_type": "code",
      "execution_count": 49,
      "metadata": {
        "colab": {
          "base_uri": "https://localhost:8080/"
        },
        "id": "iXnvzBqorsX-",
        "outputId": "bb779d64-5c1b-4233-9131-f64f5dd0e77a"
      },
      "outputs": [
        {
          "data": {
            "text/plain": [
              "{mu: mu, sigma: sigma_log__, x: x}"
            ]
          },
          "execution_count": 49,
          "metadata": {},
          "output_type": "execute_result"
        }
      ],
      "source": [
        "model_2.rvs_to_values"
      ]
    },
    {
      "cell_type": "markdown",
      "metadata": {},
      "source": [
        "Observe that for sigma the associated value is in the *log* scale as in practice we require unbounded values."
      ]
    },
    {
      "cell_type": "code",
      "execution_count": 50,
      "metadata": {
        "colab": {
          "base_uri": "https://localhost:8080/"
        },
        "id": "xsqHFQ0srsX6",
        "outputId": "adfc9a9d-c411-4551-f534-c944bb9e1610"
      },
      "outputs": [
        {
          "data": {
            "text/plain": [
              "[mu, sigma_log__, x]"
            ]
          },
          "execution_count": 50,
          "metadata": {},
          "output_type": "execute_result"
        }
      ],
      "source": [
        "model_2.value_vars"
      ]
    },
    {
      "cell_type": "markdown",
      "metadata": {},
      "source": [
        "Now that we know how to extract the model variables, we can compute the element-wise log-probability of the model for specific values."
      ]
    },
    {
      "cell_type": "code",
      "execution_count": 51,
      "metadata": {
        "colab": {
          "base_uri": "https://localhost:8080/"
        },
        "id": "Y2BIoKk5U4fQ",
        "outputId": "a9b67ac9-9fc0-4da8-dabf-90ed7d5b80e9"
      },
      "outputs": [
        {
          "data": {
            "text/plain": [
              "array([ -1.61208571, -11.32440364,   9.08106147])"
            ]
          },
          "execution_count": 51,
          "metadata": {},
          "output_type": "execute_result"
        }
      ],
      "source": [
        "# extract values as aesara.tensor.var.TensorVariable\n",
        "mu_value = model_2.rvs_to_values[mu]\n",
        "sigma_log_value = model_2.rvs_to_values[sigma]\n",
        "x_value = model_2.rvs_to_values[x]\n",
        "# element-wise log-probability of the model (we do not take te sum)\n",
        "logp_graph = at.stack(model_2.logpt(sum=False))\n",
        "# evaluate by passing concrete values\n",
        "logp_graph.eval({mu_value: 0, sigma_log_value: -10, x_value:0})"
      ]
    },
    {
      "cell_type": "markdown",
      "metadata": {},
      "source": [
        "This equivalent to:"
      ]
    },
    {
      "cell_type": "code",
      "execution_count": 52,
      "metadata": {},
      "outputs": [
        {
          "name": "stdout",
          "output_type": "stream",
          "text": [
            "\n",
            "mu_value -> -1.612085713764618\n",
            "sigma_log_value -> -11.324403641427345 \n",
            "x_value -> 9.081061466795328\n",
            "\n"
          ]
        }
      ],
      "source": [
        "print(f\"\"\"\n",
        "mu_value -> {scipy.stats.norm.logpdf(x=0, loc=0, scale=2)}\n",
        "sigma_log_value -> {- 10 + scipy.stats.halfnorm.logpdf(x=np.exp(-10), loc=0, scale=3)} \n",
        "x_value -> {scipy.stats.norm.logpdf(x=0, loc=0, scale=np.exp(-10))}\n",
        "\"\"\")\n"
      ]
    },
    {
      "cell_type": "markdown",
      "metadata": {},
      "source": [
        "**Remark:** For `sigma_log_value` we add the $-10$ term for the `scipy` and `aesara` to match because of the jacobian."
      ]
    },
    {
      "cell_type": "markdown",
      "metadata": {},
      "source": [
        "The method `compile_logp` is a helper that creates a compiled aesara function of the model `logp`, which takes a dictionary of `{value variable name : value}` as inputs:"
      ]
    },
    {
      "cell_type": "code",
      "execution_count": 53,
      "metadata": {
        "colab": {
          "base_uri": "https://localhost:8080/"
        },
        "id": "wFAUqf0qU50W",
        "outputId": "3480b833-f2c7-43a3-d87f-b2149f67351f"
      },
      "outputs": [
        {
          "data": {
            "text/plain": [
              "[array(-1.61208571), array(-11.32440364), array(9.08106147)]"
            ]
          },
          "execution_count": 53,
          "metadata": {},
          "output_type": "execute_result"
        }
      ],
      "source": [
        "model_2.compile_logp(sum=False)({\"mu\": 0, \"sigma_log__\": -10, \"x\": 0})"
      ]
    },
    {
      "cell_type": "markdown",
      "metadata": {},
      "source": [
        "The `Model` class also has methods to extract the gradient (`dlogp`) and the hessian (`d2logp`) of the `logp`."
      ]
    },
    {
      "cell_type": "markdown",
      "metadata": {},
      "source": [
        "If you want to go deeper into the internals of `aesara` RandomVariables and `pymc` distributions please take a look into the [distribution developer guide](implementing-a-distribution)."
      ]
    }
  ],
  "metadata": {
    "colab": {
      "collapsed_sections": [
        "dIYxBNT_5HgW",
        "JhmIBByY6T9h",
        "k7spOYvvTdZL",
        "qIMN2gHGzKof",
        "aMM0sJy6z7Ur",
        "WY6bUgqZztC3",
        "58gng2f17_P7",
        "C8Us4nEyhRdu",
        "wkZR0gDWRAgK",
        "wPw9kCvASOeJ",
        "WdZcUfvLUkwK",
        "EHH1hP0uzaWG",
        "I_Ph4o7ZW_XD",
        "jOI-E76fZ2bG",
        "Rq2W2fmobmFg"
      ],
      "name": "PyMC intro.ipynb",
      "provenance": []
    },
    "interpreter": {
      "hash": "322221ae0b6adf1db1274c5f417c2cb5b37d259e740acb22a87dc0305ae08c77"
    },
    "kernelspec": {
      "display_name": "Python 3.9.12 ('pymc-dev-py39')",
      "language": "python",
      "name": "python3"
    },
    "language_info": {
      "codemirror_mode": {
        "name": "ipython",
        "version": 3
      },
      "file_extension": ".py",
      "mimetype": "text/x-python",
      "name": "python",
      "nbconvert_exporter": "python",
      "pygments_lexer": "ipython3",
      "version": "3.9.12"
    }
  },
  "nbformat": 4,
  "nbformat_minor": 0
}
