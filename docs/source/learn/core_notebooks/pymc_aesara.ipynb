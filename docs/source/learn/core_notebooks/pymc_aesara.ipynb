{
 "cells": [
  {
   "cell_type": "markdown",
   "metadata": {
    "pycharm": {
     "name": "#%% md\n"
    }
   },
   "source": [
    "(pymc_aesara)=\n",
    "\n",
    "# PyMC and Aesara\n",
    "\n",
    "**Authors:** [Ricardo Vieira](https://github.com/ricardoV94) and [Juan Orduz](https://juanitorduz.github.io/)\n",
    "\n",
    "In this notebook we want to give an introduction of how PyMC models translate to Aesara graphs. The purpose is not to give a detailed description of all [`aesara`](https://github.com/aesara-devs/aesara)'s capabilities but rather focus on the main concepts to understand its connection with PyMC. For a more detailed description of the project please refer to the official documentation."
   ]
  },
  {
   "cell_type": "markdown",
   "metadata": {
    "heading_collapsed": true,
    "pycharm": {
     "name": "#%% md\n"
    }
   },
   "source": [
    "## Prepare Notebook\n",
    "\n",
    "First import the required libraries."
   ]
  },
  {
   "cell_type": "code",
   "execution_count": 1,
   "metadata": {
    "hidden": true,
    "pycharm": {
     "name": "#%%\n"
    }
   },
   "outputs": [
    {
     "name": "stdout",
     "output_type": "stream",
     "text": [
      "\n",
      "# Aesara version: 2.6.6\n",
      "# PyMC version: 4.0.0\n",
      "\n"
     ]
    }
   ],
   "source": [
    "import aesara\n",
    "import aesara.tensor as at\n",
    "import pymc as pm\n",
    "import matplotlib.pyplot as plt\n",
    "import numpy as np\n",
    "import scipy.stats\n",
    "\n",
    "\n",
    "print(f\"\"\"\n",
    "# Aesara version: {aesara.__version__}\n",
    "# PyMC version: {pm.__version__}\n",
    "\"\"\")"
   ]
  },
  {
   "cell_type": "markdown",
   "metadata": {
    "pycharm": {
     "name": "#%% md\n"
    }
   },
   "source": [
    "## Introduction to Aesara\n",
    "\n",
    "We start by looking into `aesara`. According to their documentation\n",
    "\n",
    "> Aesara is a Python library that allows one to define, optimize, and efficiently evaluate mathematical expressions involving multi-dimensional arrays."
   ]
  },
  {
   "cell_type": "markdown",
   "metadata": {
    "pycharm": {
     "name": "#%% md\n"
    }
   },
   "source": [
    "![aesara logo](https://raw.githubusercontent.com/aesara-devs/aesara/main/doc/images/aesara_logo_2400.png)"
   ]
  },
  {
   "cell_type": "markdown",
   "metadata": {
    "pycharm": {
     "name": "#%% md\n"
    }
   },
   "source": [
    "### A simple example\n",
    "\n",
    "To begin, we define some aesara tensors and show how to perform some basic operations."
   ]
  },
  {
   "cell_type": "code",
   "execution_count": 2,
   "metadata": {
    "pycharm": {
     "name": "#%%\n"
    }
   },
   "outputs": [
    {
     "name": "stdout",
     "output_type": "stream",
     "text": [
      "\n",
      "x type: TensorType(float64, ())\n",
      "x name = x\n",
      "---\n",
      "y type: TensorType(float64, (None,))\n",
      "y name = y\n",
      "\n"
     ]
    }
   ],
   "source": [
    "x = at.scalar(name=\"x\")\n",
    "y = at.vector(name=\"y\")\n",
    "\n",
    "print(f\"\"\"\n",
    "x type: {x.type}\n",
    "x name = {x.name}\n",
    "---\n",
    "y type: {y.type}\n",
    "y name = {y.name}\n",
    "\"\"\")"
   ]
  },
  {
   "cell_type": "markdown",
   "metadata": {
    "pycharm": {
     "name": "#%% md\n"
    }
   },
   "source": [
    "Now that we have defined the `x` and `y` tensors, we can create a new one by adding them together."
   ]
  },
  {
   "cell_type": "code",
   "execution_count": 3,
   "metadata": {
    "pycharm": {
     "name": "#%%\n"
    }
   },
   "outputs": [],
   "source": [
    "z = x + y\n",
    "z.name = \"x + y\""
   ]
  },
  {
   "cell_type": "markdown",
   "metadata": {
    "pycharm": {
     "name": "#%% md\n"
    }
   },
   "source": [
    "To make the computation a bit more complex let us take the logarithm of the resulting tensor."
   ]
  },
  {
   "cell_type": "code",
   "execution_count": 4,
   "metadata": {
    "pycharm": {
     "name": "#%%\n"
    }
   },
   "outputs": [],
   "source": [
    "w = at.log(z)\n",
    "w.name = \"log(x + y)\""
   ]
  },
  {
   "cell_type": "markdown",
   "metadata": {
    "pycharm": {
     "name": "#%% md\n"
    }
   },
   "source": [
    "We can use the {func}`~aesara.dprint` function to print the computational graph of any given tensor."
   ]
  },
  {
   "cell_type": "code",
   "execution_count": 5,
   "metadata": {
    "pycharm": {
     "name": "#%%\n"
    }
   },
   "outputs": [
    {
     "name": "stdout",
     "output_type": "stream",
     "text": [
      "Elemwise{log,no_inplace} [id A] 'log(x + y)'\n",
      " |Elemwise{add,no_inplace} [id B] 'x + y'\n",
      "   |InplaceDimShuffle{x} [id C]\n",
      "   | |x [id D]\n",
      "   |y [id E]\n"
     ]
    },
    {
     "data": {
      "text/plain": [
       "<ipykernel.iostream.OutStream at 0x7fcc2c57c6d0>"
      ]
     },
     "execution_count": 5,
     "metadata": {},
     "output_type": "execute_result"
    }
   ],
   "source": [
    "aesara.dprint(obj=w)"
   ]
  },
  {
   "cell_type": "markdown",
   "metadata": {
    "pycharm": {
     "name": "#%% md\n"
    }
   },
   "source": [
    "Note that this graph does not do any computation (yet!). It is simply defining the sequence of steps to be done. We can use {func}`~aesara.function` to define a callable object so that we can push values trough the graph."
   ]
  },
  {
   "cell_type": "code",
   "execution_count": 6,
   "metadata": {
    "pycharm": {
     "name": "#%%\n"
    }
   },
   "outputs": [],
   "source": [
    "f = aesara.function(inputs=[x, y], outputs=w)"
   ]
  },
  {
   "cell_type": "markdown",
   "metadata": {
    "pycharm": {
     "name": "#%% md\n"
    }
   },
   "source": [
    "Now that the graph is compiled, we can push some concrete values:"
   ]
  },
  {
   "cell_type": "code",
   "execution_count": 7,
   "metadata": {
    "pycharm": {
     "name": "#%%\n"
    }
   },
   "outputs": [
    {
     "data": {
      "text/plain": [
       "array([0., 1.])"
      ]
     },
     "execution_count": 7,
     "metadata": {},
     "output_type": "execute_result"
    }
   ],
   "source": [
    "f(x=0, y=[1, np.e])"
   ]
  },
  {
   "cell_type": "markdown",
   "metadata": {
    "pycharm": {
     "name": "#%% md\n"
    }
   },
   "source": [
    ":::{tip}\n",
    "Sometimes we just want to debug, we can use {meth}`~aesara.graph.basic.Variable.eval` for that:\n",
    ":::"
   ]
  },
  {
   "cell_type": "code",
   "execution_count": 8,
   "metadata": {
    "pycharm": {
     "name": "#%%\n"
    }
   },
   "outputs": [
    {
     "data": {
      "text/plain": [
       "array([0., 1.])"
      ]
     },
     "execution_count": 8,
     "metadata": {},
     "output_type": "execute_result"
    }
   ],
   "source": [
    "w.eval({x: 0, y:[1, np.e]})"
   ]
  },
  {
   "cell_type": "markdown",
   "metadata": {
    "pycharm": {
     "name": "#%% md\n"
    }
   },
   "source": [
    "You can set intermediate values as well"
   ]
  },
  {
   "cell_type": "code",
   "execution_count": 9,
   "metadata": {
    "pycharm": {
     "name": "#%%\n"
    }
   },
   "outputs": [
    {
     "data": {
      "text/plain": [
       "array([0., 1.])"
      ]
     },
     "execution_count": 9,
     "metadata": {},
     "output_type": "execute_result"
    }
   ],
   "source": [
    "w.eval({z: [1, np.e]})"
   ]
  },
  {
   "cell_type": "markdown",
   "metadata": {
    "pycharm": {
     "name": "#%% md\n"
    }
   },
   "source": [
    "### Aesara is clever!\n",
    "\n",
    "One of the most important features of `aesara` is that it can automatically optimize the mathematical operations inside a graph. Let's consider a simple example:"
   ]
  },
  {
   "cell_type": "code",
   "execution_count": 10,
   "metadata": {
    "pycharm": {
     "name": "#%%\n"
    }
   },
   "outputs": [
    {
     "name": "stdout",
     "output_type": "stream",
     "text": [
      "Elemwise{true_div,no_inplace} [id A] 'a / b'\n",
      " |a [id B]\n",
      " |b [id C]\n"
     ]
    },
    {
     "data": {
      "text/plain": [
       "<ipykernel.iostream.OutStream at 0x7fcc2c57c6d0>"
      ]
     },
     "execution_count": 10,
     "metadata": {},
     "output_type": "execute_result"
    }
   ],
   "source": [
    "a = at.scalar(name=\"a\")\n",
    "b = at.scalar(name=\"b\")\n",
    "\n",
    "c = a / b\n",
    "c.name = \"a / b\"\n",
    "\n",
    "aesara.dprint(c)"
   ]
  },
  {
   "cell_type": "markdown",
   "metadata": {
    "pycharm": {
     "name": "#%% md\n"
    }
   },
   "source": [
    "Now let us multiply `b` times `c`. This should result in simply `a`."
   ]
  },
  {
   "cell_type": "code",
   "execution_count": 11,
   "metadata": {
    "pycharm": {
     "name": "#%%\n"
    }
   },
   "outputs": [
    {
     "name": "stdout",
     "output_type": "stream",
     "text": [
      "Elemwise{mul,no_inplace} [id A] 'b * c'\n",
      " |b [id B]\n",
      " |Elemwise{true_div,no_inplace} [id C] 'a / b'\n",
      "   |a [id D]\n",
      "   |b [id B]\n"
     ]
    },
    {
     "data": {
      "text/plain": [
       "<ipykernel.iostream.OutStream at 0x7fcc2c57c6d0>"
      ]
     },
     "execution_count": 11,
     "metadata": {},
     "output_type": "execute_result"
    }
   ],
   "source": [
    "d = b * c\n",
    "d.name = \"b * c\"\n",
    "\n",
    "aesara.dprint(d)"
   ]
  },
  {
   "cell_type": "markdown",
   "metadata": {
    "pycharm": {
     "name": "#%% md\n"
    }
   },
   "source": [
    "The graph shows the full computation, but once we compile it the operation becomes the identity on `a` as expected."
   ]
  },
  {
   "cell_type": "code",
   "execution_count": 12,
   "metadata": {
    "pycharm": {
     "name": "#%%\n"
    }
   },
   "outputs": [
    {
     "name": "stdout",
     "output_type": "stream",
     "text": [
      "DeepCopyOp [id A] 'a' 0\n",
      " |a [id B]\n"
     ]
    },
    {
     "data": {
      "text/plain": [
       "<ipykernel.iostream.OutStream at 0x7fcc2c57c6d0>"
      ]
     },
     "execution_count": 12,
     "metadata": {},
     "output_type": "execute_result"
    }
   ],
   "source": [
    "g = aesara.function(inputs=[a, b], outputs=d)\n",
    "\n",
    "aesara.dprint(g)"
   ]
  },
  {
   "cell_type": "markdown",
   "metadata": {
    "pycharm": {
     "name": "#%% md\n"
    }
   },
   "source": [
    "### What is in an Aesara graph?\n",
    "\n",
    "The following diagram shows the basic structure of an `aesara` graph.\n",
    "\n",
    "![aesara graph](https://raw.githubusercontent.com/aesara-devs/aesara/main/doc/tutorial/apply.png)"
   ]
  },
  {
   "cell_type": "markdown",
   "metadata": {
    "pycharm": {
     "name": "#%% md\n"
    }
   },
   "source": [
    "We can can make these concepts more tangible by explicitly indicating them in the first example from the section above. Let us compute the graph components for the tensor `z`. "
   ]
  },
  {
   "cell_type": "code",
   "execution_count": 13,
   "metadata": {
    "pycharm": {
     "name": "#%%\n"
    }
   },
   "outputs": [
    {
     "name": "stdout",
     "output_type": "stream",
     "text": [
      "\n",
      "z type: TensorType(float64, (None,))\n",
      "z name = x + y\n",
      "z owner = Elemwise{add,no_inplace}(InplaceDimShuffle{x}.0, y)\n",
      "z owner inputs = [InplaceDimShuffle{x}.0, y]\n",
      "z owner op = Elemwise{add,no_inplace}\n",
      "z owner output = [x + y]\n",
      "\n"
     ]
    }
   ],
   "source": [
    "print(f\"\"\"\n",
    "z type: {z.type}\n",
    "z name = {z.name}\n",
    "z owner = {z.owner}\n",
    "z owner inputs = {z.owner.inputs}\n",
    "z owner op = {z.owner.op}\n",
    "z owner output = {z.owner.outputs}\n",
    "\"\"\")"
   ]
  },
  {
   "cell_type": "markdown",
   "metadata": {
    "pycharm": {
     "name": "#%% md\n"
    }
   },
   "source": [
    "The following code snippet helps us understand these concepts by going through the computational graph of `w`. The actual code is not as important here, the focus is on the outputs."
   ]
  },
  {
   "cell_type": "code",
   "execution_count": 14,
   "metadata": {
    "pycharm": {
     "name": "#%%\n"
    }
   },
   "outputs": [
    {
     "name": "stdout",
     "output_type": "stream",
     "text": [
      "---\n",
      "Checking variable log(x + y) of type TensorType(float64, (None,))\n",
      " > Op is Elemwise{log,no_inplace}\n",
      " > Input 0 is x + y\n",
      "---\n",
      "Checking variable x + y of type TensorType(float64, (None,))\n",
      " > Op is Elemwise{add,no_inplace}\n",
      " > Input 0 is InplaceDimShuffle{x}.0\n",
      " > Input 1 is y\n",
      "---\n",
      "Checking variable InplaceDimShuffle{x}.0 of type TensorType(float64, (1,))\n",
      " > Op is InplaceDimShuffle{x}\n",
      " > Input 0 is x\n",
      "---\n",
      "Checking variable y of type TensorType(float64, (None,))\n",
      " > y is a root variable\n",
      "---\n",
      "Checking variable x of type TensorType(float64, ())\n",
      " > x is a root variable\n"
     ]
    }
   ],
   "source": [
    "# start from the top\n",
    "stack = [w]\n",
    "\n",
    "while stack:\n",
    "    print(\"---\")\n",
    "    var = stack.pop(0)\n",
    "    print(f\"Checking variable {var} of type {var.type}\")\n",
    "    # check variable is not a root variable\n",
    "    if var.owner is not None:\n",
    "        print(f\" > Op is {var.owner.op}\")\n",
    "        # loop over the inputs\n",
    "        for i, input in enumerate(var.owner.inputs):\n",
    "            print(f\" > Input {i} is {input}\")\n",
    "            stack.append(input)\n",
    "    else:\n",
    "        print(f\" > {var} is a root variable\")"
   ]
  },
  {
   "cell_type": "markdown",
   "metadata": {
    "pycharm": {
     "name": "#%% md\n"
    }
   },
   "source": [
    "Note that this is very similar to the output of {func}`~aesara.dprint` function introduced above."
   ]
  },
  {
   "cell_type": "code",
   "execution_count": 15,
   "metadata": {
    "pycharm": {
     "name": "#%%\n"
    }
   },
   "outputs": [
    {
     "name": "stdout",
     "output_type": "stream",
     "text": [
      "Elemwise{log,no_inplace} [id A] 'log(x + y)'\n",
      " |Elemwise{add,no_inplace} [id B] 'x + y'\n",
      "   |InplaceDimShuffle{x} [id C]\n",
      "   | |x [id D]\n",
      "   |y [id E]\n"
     ]
    },
    {
     "data": {
      "text/plain": [
       "<ipykernel.iostream.OutStream at 0x7fcc2c57c6d0>"
      ]
     },
     "execution_count": 15,
     "metadata": {},
     "output_type": "execute_result"
    }
   ],
   "source": [
    "aesara.dprint(w)"
   ]
  },
  {
   "cell_type": "markdown",
   "metadata": {
    "pycharm": {
     "name": "#%% md\n"
    }
   },
   "source": [
    "### Graph manipulation 101\n",
    "\n",
    "Another interesting feature of Aesara is the ability to manipulate the computational graph, something that is not possible with TensorFlow or PyTorch. Here we continue with the example above in order to illustrate the main idea around this technique."
   ]
  },
  {
   "cell_type": "code",
   "execution_count": 16,
   "metadata": {
    "pycharm": {
     "name": "#%%\n"
    }
   },
   "outputs": [
    {
     "data": {
      "text/plain": [
       "[x, y]"
      ]
     },
     "execution_count": 16,
     "metadata": {},
     "output_type": "execute_result"
    }
   ],
   "source": [
    "# get input tensors\n",
    "list(aesara.graph.graph_inputs(graphs=[w]))"
   ]
  },
  {
   "cell_type": "markdown",
   "metadata": {
    "pycharm": {
     "name": "#%% md\n"
    }
   },
   "source": [
    "As a simple example, let's add an {func}`~aesara.tensor.exp` before the {func}`~aesara.tensor.log` (to get the identity function)."
   ]
  },
  {
   "cell_type": "code",
   "execution_count": 17,
   "metadata": {
    "pycharm": {
     "name": "#%%\n"
    }
   },
   "outputs": [],
   "source": [
    "parent_of_w = w.owner.inputs[0] # get z tensor\n",
    "new_parent_of_w = at.exp(parent_of_w) # modify the parent of w\n",
    "new_parent_of_w.name = \"exp(x + y)\""
   ]
  },
  {
   "cell_type": "markdown",
   "metadata": {
    "pycharm": {
     "name": "#%% md\n"
    }
   },
   "source": [
    "Note that the graph of `w` has actually not changed:"
   ]
  },
  {
   "cell_type": "code",
   "execution_count": 18,
   "metadata": {
    "pycharm": {
     "name": "#%%\n"
    }
   },
   "outputs": [
    {
     "name": "stdout",
     "output_type": "stream",
     "text": [
      "Elemwise{log,no_inplace} [id A] 'log(x + y)'\n",
      " |Elemwise{add,no_inplace} [id B] 'x + y'\n",
      "   |InplaceDimShuffle{x} [id C]\n",
      "   | |x [id D]\n",
      "   |y [id E]\n"
     ]
    },
    {
     "data": {
      "text/plain": [
       "<ipykernel.iostream.OutStream at 0x7fcc2c57c6d0>"
      ]
     },
     "execution_count": 18,
     "metadata": {},
     "output_type": "execute_result"
    }
   ],
   "source": [
    "aesara.dprint(w)"
   ]
  },
  {
   "cell_type": "markdown",
   "metadata": {
    "pycharm": {
     "name": "#%% md\n"
    }
   },
   "source": [
    "To modify the graph we need to use the {func}`~aesara.clone_replace` function, which *returns a copy of the initial subgraph with the corresponding substitutions.*"
   ]
  },
  {
   "cell_type": "code",
   "execution_count": 19,
   "metadata": {
    "pycharm": {
     "name": "#%%\n"
    }
   },
   "outputs": [
    {
     "name": "stdout",
     "output_type": "stream",
     "text": [
      "Elemwise{log,no_inplace} [id A] 'log(exp(x + y))'\n",
      " |Elemwise{exp,no_inplace} [id B] 'exp(x + y)'\n",
      "   |Elemwise{add,no_inplace} [id C] 'x + y'\n",
      "     |InplaceDimShuffle{x} [id D]\n",
      "     | |x [id E]\n",
      "     |y [id F]\n"
     ]
    },
    {
     "data": {
      "text/plain": [
       "<ipykernel.iostream.OutStream at 0x7fcc2c57c6d0>"
      ]
     },
     "execution_count": 19,
     "metadata": {},
     "output_type": "execute_result"
    }
   ],
   "source": [
    "new_w = aesara.clone_replace(output=[w], replace={parent_of_w: new_parent_of_w})[0]\n",
    "new_w.name = \"log(exp(x + y))\"\n",
    "aesara.dprint(new_w)"
   ]
  },
  {
   "cell_type": "markdown",
   "metadata": {
    "pycharm": {
     "name": "#%% md\n"
    }
   },
   "source": [
    "Finally, we can test the modified graph by passing some input to the new graph."
   ]
  },
  {
   "cell_type": "code",
   "execution_count": 20,
   "metadata": {
    "pycharm": {
     "name": "#%%\n"
    }
   },
   "outputs": [
    {
     "data": {
      "text/plain": [
       "array([1.        , 2.71828183])"
      ]
     },
     "execution_count": 20,
     "metadata": {},
     "output_type": "execute_result"
    }
   ],
   "source": [
    "new_w.eval({x: 0, y:[1, np.e]})"
   ]
  },
  {
   "cell_type": "markdown",
   "metadata": {
    "pycharm": {
     "name": "#%% md\n"
    }
   },
   "source": [
    "As expected, the new graph is just the identity function."
   ]
  },
  {
   "cell_type": "markdown",
   "metadata": {
    "pycharm": {
     "name": "#%% md\n"
    }
   },
   "source": [
    ":::{note}\n",
    "Again, note that `aesara` is clever enough to omit the `exp` and `log` once we compile the function.\n",
    ":::"
   ]
  },
  {
   "cell_type": "code",
   "execution_count": 21,
   "metadata": {
    "pycharm": {
     "name": "#%%\n"
    }
   },
   "outputs": [
    {
     "name": "stdout",
     "output_type": "stream",
     "text": [
      "Elemwise{add,no_inplace} [id A] 'x + y' 1\n",
      " |InplaceDimShuffle{x} [id B] 0\n",
      " | |x [id C]\n",
      " |y [id D]\n"
     ]
    },
    {
     "data": {
      "text/plain": [
       "<ipykernel.iostream.OutStream at 0x7fcc2c57c6d0>"
      ]
     },
     "execution_count": 21,
     "metadata": {},
     "output_type": "execute_result"
    }
   ],
   "source": [
    "f = aesara.function(inputs=[x, y], outputs=new_w)\n",
    "\n",
    "aesara.dprint(f)"
   ]
  },
  {
   "cell_type": "code",
   "execution_count": 22,
   "metadata": {
    "pycharm": {
     "name": "#%%\n"
    }
   },
   "outputs": [
    {
     "data": {
      "text/plain": [
       "array([1.        , 2.71828183])"
      ]
     },
     "execution_count": 22,
     "metadata": {},
     "output_type": "execute_result"
    }
   ],
   "source": [
    "f(x=0, y=[1, np.e])"
   ]
  },
  {
   "cell_type": "markdown",
   "metadata": {
    "pycharm": {
     "name": "#%% md\n"
    }
   },
   "source": [
    "### Aesara RandomVariables\n",
    "\n",
    "Now that we have seen aesara's basics we want to move in the direction of random variables.\n",
    "\n",
    "How do we generate random numbers in [`numpy`](https://github.com/numpy/numpy)? To illustrate it we can sample from a normal distribution:"
   ]
  },
  {
   "cell_type": "code",
   "execution_count": 23,
   "metadata": {
    "pycharm": {
     "name": "#%%\n"
    }
   },
   "outputs": [
    {
     "data": {
      "image/png": "[encoded data removed]",
      "text/plain": [
       "<Figure size 576x432 with 1 Axes>"
      ]
     },
     "metadata": {
      "needs_background": "light"
     },
     "output_type": "display_data"
    }
   ],
   "source": [
    "rng = np.random.default_rng()\n",
    "\n",
    "a = rng.normal(loc=0, scale=1, size=1_000)\n",
    "\n",
    "fig, ax = plt.subplots(figsize=(8, 6))\n",
    "ax.hist(a, color=\"C0\", bins=15)\n",
    "ax.set(title=\"Samples from a normal distribution using numpy\", ylabel=\"count\");"
   ]
  },
  {
   "cell_type": "markdown",
   "metadata": {
    "pycharm": {
     "name": "#%% md\n"
    }
   },
   "source": [
    "Now let's try to do it in Aesara."
   ]
  },
  {
   "cell_type": "code",
   "execution_count": 24,
   "metadata": {
    "pycharm": {
     "name": "#%%\n"
    }
   },
   "outputs": [
    {
     "data": {
      "text/plain": [
       "aesara.tensor.var.TensorVariable"
      ]
     },
     "execution_count": 24,
     "metadata": {},
     "output_type": "execute_result"
    }
   ],
   "source": [
    "y = at.random.normal(loc=0, scale=1, name=\"y\")\n",
    "type(y)"
   ]
  },
  {
   "cell_type": "markdown",
   "metadata": {
    "pycharm": {
     "name": "#%% md\n"
    }
   },
   "source": [
    "Next, we show the graph using {func}`~aesara.dprint`."
   ]
  },
  {
   "cell_type": "code",
   "execution_count": 25,
   "metadata": {
    "pycharm": {
     "name": "#%%\n"
    }
   },
   "outputs": [
    {
     "name": "stdout",
     "output_type": "stream",
     "text": [
      "normal_rv{0, (0, 0), floatX, False}.1 [id A] 'y'\n",
      " |RandomGeneratorSharedVariable(<Generator(PCG64) at 0x7FCBC88A0E40>) [id B]\n",
      " |TensorConstant{[]} [id C]\n",
      " |TensorConstant{11} [id D]\n",
      " |TensorConstant{0} [id E]\n",
      " |TensorConstant{1} [id F]\n"
     ]
    },
    {
     "data": {
      "text/plain": [
       "<ipykernel.iostream.OutStream at 0x7fcc2c57c6d0>"
      ]
     },
     "execution_count": 25,
     "metadata": {},
     "output_type": "execute_result"
    }
   ],
   "source": [
    "aesara.dprint(y)"
   ]
  },
  {
   "cell_type": "markdown",
   "metadata": {
    "pycharm": {
     "name": "#%% md\n"
    }
   },
   "source": [
    "The inputs are always in the following order:\n",
    "1. `rng` shared variable\n",
    "2. `size`\n",
    "3. `dtype` (number code)\n",
    "4. `arg1`\n",
    "5. `arg2`\n",
    "6. `argn`"
   ]
  },
  {
   "cell_type": "markdown",
   "metadata": {
    "pycharm": {
     "name": "#%% md\n"
    }
   },
   "source": [
    "We *could* sample by calling {meth}`~aesara.graph.basic.Variable.eval`. on the random variable."
   ]
  },
  {
   "cell_type": "code",
   "execution_count": 26,
   "metadata": {
    "pycharm": {
     "name": "#%%\n"
    }
   },
   "outputs": [
    {
     "data": {
      "text/plain": [
       "array(-2.92452482)"
      ]
     },
     "execution_count": 26,
     "metadata": {},
     "output_type": "execute_result"
    }
   ],
   "source": [
    "y.eval()"
   ]
  },
  {
   "cell_type": "markdown",
   "metadata": {
    "pycharm": {
     "name": "#%% md\n"
    }
   },
   "source": [
    "Note however that these samples are always the same!"
   ]
  },
  {
   "cell_type": "code",
   "execution_count": 27,
   "metadata": {
    "pycharm": {
     "name": "#%%\n"
    }
   },
   "outputs": [
    {
     "name": "stdout",
     "output_type": "stream",
     "text": [
      "Sample 0: -2.924524821173065\n",
      "Sample 1: -2.924524821173065\n",
      "Sample 2: -2.924524821173065\n",
      "Sample 3: -2.924524821173065\n",
      "Sample 4: -2.924524821173065\n",
      "Sample 5: -2.924524821173065\n",
      "Sample 6: -2.924524821173065\n",
      "Sample 7: -2.924524821173065\n",
      "Sample 8: -2.924524821173065\n",
      "Sample 9: -2.924524821173065\n"
     ]
    }
   ],
   "source": [
    "for i in range(10):\n",
    "    print(f\"Sample {i}: {y.eval()}\")"
   ]
  },
  {
   "cell_type": "markdown",
   "metadata": {
    "pycharm": {
     "name": "#%% md\n"
    }
   },
   "source": [
    "We always get the same samples! This has to do with the random seed step in the graph, i.e. `RandomGeneratorSharedVariable` (we will not go deeper into this subject here). We will show how to generate different samples with `pymc` below."
   ]
  },
  {
   "cell_type": "markdown",
   "metadata": {},
   "source": [
    "---"
   ]
  },
  {
   "cell_type": "markdown",
   "metadata": {
    "pycharm": {
     "name": "#%% md\n"
    }
   },
   "source": [
    "## PyMC\n",
    "\n",
    "![pymc logo](https://raw.githubusercontent.com/pymc-devs/pymc/main/docs/logos/PyMC.png)"
   ]
  },
  {
   "cell_type": "markdown",
   "metadata": {},
   "source": [
    "To do so, we start by defining a `pymc` normal distribution."
   ]
  },
  {
   "cell_type": "code",
   "execution_count": 28,
   "metadata": {
    "pycharm": {
     "name": "#%%\n"
    }
   },
   "outputs": [
    {
     "name": "stdout",
     "output_type": "stream",
     "text": [
      "normal_rv{0, (0, 0), floatX, False}.1 [id A]\n",
      " |RandomGeneratorSharedVariable(<Generator(PCG64) at 0x7FCBC8739BA0>) [id B]\n",
      " |TensorConstant{[]} [id C]\n",
      " |TensorConstant{11} [id D]\n",
      " |TensorConstant{0} [id E]\n",
      " |TensorConstant{1.0} [id F]\n"
     ]
    },
    {
     "data": {
      "text/plain": [
       "<ipykernel.iostream.OutStream at 0x7fcc2c57c6d0>"
      ]
     },
     "execution_count": 28,
     "metadata": {},
     "output_type": "execute_result"
    }
   ],
   "source": [
    "x = pm.Normal.dist(mu=0, sigma=1)\n",
    "aesara.dprint(x)"
   ]
  },
  {
   "cell_type": "markdown",
   "metadata": {
    "pycharm": {
     "name": "#%% md\n"
    }
   },
   "source": [
    "Observe that `x` is just a normal `RandomVariable` and which is the same as `y` except for the `rng`."
   ]
  },
  {
   "cell_type": "markdown",
   "metadata": {
    "pycharm": {
     "name": "#%% md\n"
    }
   },
   "source": [
    "We can try to generate samples by calling {meth}`~aesara.graph.basic.Variable.eval` as above."
   ]
  },
  {
   "cell_type": "code",
   "execution_count": 29,
   "metadata": {
    "pycharm": {
     "name": "#%%\n"
    }
   },
   "outputs": [
    {
     "name": "stdout",
     "output_type": "stream",
     "text": [
      "Sample 0: 1.0945684776616378\n",
      "Sample 1: 1.0945684776616378\n",
      "Sample 2: 1.0945684776616378\n",
      "Sample 3: 1.0945684776616378\n",
      "Sample 4: 1.0945684776616378\n",
      "Sample 5: 1.0945684776616378\n",
      "Sample 6: 1.0945684776616378\n",
      "Sample 7: 1.0945684776616378\n",
      "Sample 8: 1.0945684776616378\n",
      "Sample 9: 1.0945684776616378\n"
     ]
    }
   ],
   "source": [
    "for i in range(10):\n",
    "    print(f\"Sample {i}: {x.eval()}\")"
   ]
  },
  {
   "cell_type": "markdown",
   "metadata": {
    "pycharm": {
     "name": "#%% md\n"
    }
   },
   "source": [
    "As before we get the same value for all iterations. The correct way to generate random samples is using {func}`~pymc.draw`."
   ]
  },
  {
   "cell_type": "code",
   "execution_count": 30,
   "metadata": {
    "pycharm": {
     "name": "#%%\n"
    }
   },
   "outputs": [
    {
     "data": {
      "image/png": "[encoded data removed]",
      "text/plain": [
       "<Figure size 576x432 with 1 Axes>"
      ]
     },
     "metadata": {
      "needs_background": "light"
     },
     "output_type": "display_data"
    }
   ],
   "source": [
    "fig, ax = plt.subplots(figsize=(8, 6))\n",
    "ax.hist(pm.draw(x, draws=1_000), color=\"C1\", bins=15)\n",
    "ax.set(title=\"Samples from a normal distribution using pymc\", ylabel=\"count\");"
   ]
  },
  {
   "cell_type": "markdown",
   "metadata": {
    "pycharm": {
     "name": "#%% md\n"
    }
   },
   "source": [
    "Yay! We learned how to sample from a `pymc` distribution!"
   ]
  },
  {
   "cell_type": "markdown",
   "metadata": {
    "pycharm": {
     "name": "#%% md\n"
    }
   },
   "source": [
    "### What is going on behind the scenes?"
   ]
  },
  {
   "cell_type": "markdown",
   "metadata": {
    "pycharm": {
     "name": "#%% md\n"
    }
   },
   "source": [
    "We can now look into how this is done inside a model."
   ]
  },
  {
   "cell_type": "code",
   "execution_count": 31,
   "metadata": {
    "pycharm": {
     "name": "#%%\n"
    }
   },
   "outputs": [
    {
     "name": "stdout",
     "output_type": "stream",
     "text": [
      "normal_rv{0, (0, 0), floatX, False}.1 [id A]\n",
      " |RandomGeneratorSharedVariable(<Generator(PCG64) at 0x7FCBC85F1200>) [id B]\n",
      " |TensorConstant{[]} [id C]\n",
      " |TensorConstant{11} [id D]\n",
      " |TensorConstant{0} [id E]\n",
      " |TensorConstant{1.0} [id F]\n"
     ]
    },
    {
     "data": {
      "text/plain": [
       "<ipykernel.iostream.OutStream at 0x7fcc2c57c6d0>"
      ]
     },
     "execution_count": 31,
     "metadata": {},
     "output_type": "execute_result"
    }
   ],
   "source": [
    "with pm.Model() as model:\n",
    "    z = pm.Normal(name=\"z\", mu=np.array([0, 0]), sigma=np.array([1, 2]))\n",
    "\n",
    "aesara.dprint(x)"
   ]
  },
  {
   "cell_type": "markdown",
   "metadata": {
    "pycharm": {
     "name": "#%% md\n"
    }
   },
   "source": [
    "We are just creating random variables like we saw before, but now registering them in a PyMC model. To extract the list of random variables we can simply do:"
   ]
  },
  {
   "cell_type": "code",
   "execution_count": 32,
   "metadata": {
    "pycharm": {
     "name": "#%%\n"
    }
   },
   "outputs": [
    {
     "data": {
      "text/plain": [
       "[z]"
      ]
     },
     "execution_count": 32,
     "metadata": {},
     "output_type": "execute_result"
    }
   ],
   "source": [
    "model.basic_RVs"
   ]
  },
  {
   "cell_type": "code",
   "execution_count": 33,
   "metadata": {
    "pycharm": {
     "name": "#%%\n"
    }
   },
   "outputs": [
    {
     "name": "stdout",
     "output_type": "stream",
     "text": [
      "normal_rv{0, (0, 0), floatX, False}.1 [id A] 'z'\n",
      " |RandomGeneratorSharedVariable(<Generator(PCG64) at 0x7FCBC86BB580>) [id B]\n",
      " |TensorConstant{[]} [id C]\n",
      " |TensorConstant{11} [id D]\n",
      " |TensorConstant{(2,) of 0} [id E]\n",
      " |TensorConstant{[1. 2.]} [id F]\n"
     ]
    },
    {
     "data": {
      "text/plain": [
       "<ipykernel.iostream.OutStream at 0x7fcc2c57c6d0>"
      ]
     },
     "execution_count": 33,
     "metadata": {},
     "output_type": "execute_result"
    }
   ],
   "source": [
    "aesara.dprint(model.basic_RVs[0])"
   ]
  },
  {
   "cell_type": "markdown",
   "metadata": {
    "pycharm": {
     "name": "#%% md\n"
    }
   },
   "source": [
    "We can try to sample via {meth}`~aesara.graph.basic.Variable.eval` as above and it is no surprise that we are getting the same samples at each iteration."
   ]
  },
  {
   "cell_type": "code",
   "execution_count": 34,
   "metadata": {
    "pycharm": {
     "name": "#%%\n"
    }
   },
   "outputs": [
    {
     "name": "stdout",
     "output_type": "stream",
     "text": [
      "Sample 0: [-0.13110774  1.3425154 ]\n",
      "Sample 1: [-0.13110774  1.3425154 ]\n",
      "Sample 2: [-0.13110774  1.3425154 ]\n",
      "Sample 3: [-0.13110774  1.3425154 ]\n",
      "Sample 4: [-0.13110774  1.3425154 ]\n",
      "Sample 5: [-0.13110774  1.3425154 ]\n",
      "Sample 6: [-0.13110774  1.3425154 ]\n",
      "Sample 7: [-0.13110774  1.3425154 ]\n",
      "Sample 8: [-0.13110774  1.3425154 ]\n",
      "Sample 9: [-0.13110774  1.3425154 ]\n"
     ]
    }
   ],
   "source": [
    "for i in range(10):\n",
    "    print(f\"Sample {i}: {z.eval()}\")"
   ]
  },
  {
   "cell_type": "markdown",
   "metadata": {
    "pycharm": {
     "name": "#%% md\n"
    }
   },
   "source": [
    "Again, the correct way of sampling is via {func}`~pymc.draw`. "
   ]
  },
  {
   "cell_type": "code",
   "execution_count": 35,
   "metadata": {
    "pycharm": {
     "name": "#%%\n"
    }
   },
   "outputs": [
    {
     "name": "stdout",
     "output_type": "stream",
     "text": [
      "Sample 0: [-0.13000873  1.83747847]\n",
      "Sample 1: [-2.20247479  1.63060671]\n",
      "Sample 2: [0.26204624 0.6059056 ]\n",
      "Sample 3: [-0.20608794 -1.08374123]\n",
      "Sample 4: [-0.125258    2.02515987]\n",
      "Sample 5: [ 0.80726519 -1.9575385 ]\n",
      "Sample 6: [-1.02118273  2.66981172]\n",
      "Sample 7: [0.20227814 0.04347595]\n",
      "Sample 8: [ 0.34115171 -2.20896023]\n",
      "Sample 9: [0.83476065 0.37879695]\n"
     ]
    }
   ],
   "source": [
    "for i in range(10):\n",
    "    print(f\"Sample {i}: {pm.draw(z)}\")"
   ]
  },
  {
   "cell_type": "code",
   "execution_count": 36,
   "metadata": {
    "pycharm": {
     "name": "#%%\n"
    }
   },
   "outputs": [
    {
     "data": {
      "image/png": "[encoded data removed]",
      "text/plain": [
       "<Figure size 576x576 with 1 Axes>"
      ]
     },
     "metadata": {
      "needs_background": "light"
     },
     "output_type": "display_data"
    }
   ],
   "source": [
    "fig, ax = plt.subplots(figsize=(8, 8))\n",
    "z_draws = pm.draw(vars=z, draws=10_000)\n",
    "ax.hist2d(x=z_draws[:, 0], y=z_draws[:, 1], bins=25)\n",
    "ax.set(title=\"Samples Histogram\");"
   ]
  },
  {
   "cell_type": "markdown",
   "metadata": {
    "pycharm": {
     "name": "#%% md\n"
    }
   },
   "source": [
    "### Enough with Random Variables, I want to see some (log)probabilities!"
   ]
  },
  {
   "cell_type": "markdown",
   "metadata": {
    "pycharm": {
     "name": "#%% md\n"
    }
   },
   "source": [
    "Recall we have defined the following model above:"
   ]
  },
  {
   "cell_type": "code",
   "execution_count": 37,
   "metadata": {
    "pycharm": {
     "name": "#%%\n"
    }
   },
   "outputs": [
    {
     "data": {
      "text/latex": [
       "$$\n",
       "            \\begin{array}{rcl}\n",
       "            \\text{z} &\\sim & \\operatorname{N}(\\text{<constant>},~\\text{<constant>})\n",
       "            \\end{array}\n",
       "            $$"
      ],
      "text/plain": [
       "<pymc.model.Model at 0x7fcbc8552bb0>"
      ]
     },
     "execution_count": 37,
     "metadata": {},
     "output_type": "execute_result"
    }
   ],
   "source": [
    "model"
   ]
  },
  {
   "cell_type": "markdown",
   "metadata": {
    "pycharm": {
     "name": "#%% md\n"
    }
   },
   "source": [
    "PyMC is able to convert `RandomVariable`s to their respective probability functions. One simple way is to use {func}`~pm.distributions.logprob.logp`, which takes as first input a RandomVariable, and as second input the value at which the logp is evaluated (we will discuss this in more detail later)."
   ]
  },
  {
   "cell_type": "code",
   "execution_count": 38,
   "metadata": {
    "pycharm": {
     "name": "#%%\n"
    }
   },
   "outputs": [],
   "source": [
    "z_value = at.vector(name=\"z\")\n",
    "z_logp = pm.logp(rv=z, value=z_value)"
   ]
  },
  {
   "cell_type": "markdown",
   "metadata": {
    "pycharm": {
     "name": "#%% md\n"
    }
   },
   "source": [
    "`z_logp` contains the Aesara graph that represents the log-probability of the normal random variable `z`, evaluated at `z_value`."
   ]
  },
  {
   "cell_type": "code",
   "execution_count": 39,
   "metadata": {
    "pycharm": {
     "name": "#%%\n"
    }
   },
   "outputs": [
    {
     "name": "stdout",
     "output_type": "stream",
     "text": [
      "Check{sigma > 0} [id A] 'z_logprob'\n",
      " |Elemwise{sub,no_inplace} [id B]\n",
      " | |Elemwise{sub,no_inplace} [id C]\n",
      " | | |Elemwise{mul,no_inplace} [id D]\n",
      " | | | |InplaceDimShuffle{x} [id E]\n",
      " | | | | |TensorConstant{-0.5} [id F]\n",
      " | | | |Elemwise{pow,no_inplace} [id G]\n",
      " | | |   |Elemwise{true_div,no_inplace} [id H]\n",
      " | | |   | |Elemwise{sub,no_inplace} [id I]\n",
      " | | |   | | |z [id J]\n",
      " | | |   | | |TensorConstant{(2,) of 0} [id K]\n",
      " | | |   | |TensorConstant{[1. 2.]} [id L]\n",
      " | | |   |InplaceDimShuffle{x} [id M]\n",
      " | | |     |TensorConstant{2} [id N]\n",
      " | | |InplaceDimShuffle{x} [id O]\n",
      " | |   |Elemwise{log,no_inplace} [id P]\n",
      " | |     |Elemwise{sqrt,no_inplace} [id Q]\n",
      " | |       |TensorConstant{6.283185307179586} [id R]\n",
      " | |Elemwise{log,no_inplace} [id S]\n",
      " |   |TensorConstant{[1. 2.]} [id L]\n",
      " |All [id T]\n",
      "   |Elemwise{gt,no_inplace} [id U]\n",
      "     |TensorConstant{[1. 2.]} [id L]\n",
      "     |InplaceDimShuffle{x} [id V]\n",
      "       |TensorConstant{0.0} [id W]\n"
     ]
    },
    {
     "data": {
      "text/plain": [
       "<ipykernel.iostream.OutStream at 0x7fcc2c57c6d0>"
      ]
     },
     "execution_count": 39,
     "metadata": {},
     "output_type": "execute_result"
    }
   ],
   "source": [
    "aesara.dprint(z_logp)"
   ]
  },
  {
   "cell_type": "markdown",
   "metadata": {
    "pycharm": {
     "name": "#%% md\n"
    }
   },
   "source": [
    ":::{tip}\n",
    "There is also a handy PyMC function to compute the log cumulative probability of a random variable {func}`~pm.distributions.logprob.logcdf`."
   ]
  },
  {
   "cell_type": "markdown",
   "metadata": {
    "pycharm": {
     "name": "#%% md\n"
    }
   },
   "source": [
    "Observe that, as explained at the beginning, there has been no computation yet. The actual computation is performed after compiling and passing the input. For illustration purposes alone, we will again use the handy `eval` method."
   ]
  },
  {
   "cell_type": "code",
   "execution_count": 40,
   "metadata": {
    "pycharm": {
     "name": "#%%\n"
    }
   },
   "outputs": [
    {
     "data": {
      "text/plain": [
       "array([-0.91893853, -1.61208571])"
      ]
     },
     "execution_count": 40,
     "metadata": {},
     "output_type": "execute_result"
    }
   ],
   "source": [
    "z_logp.eval({z_value: [0, 0]})"
   ]
  },
  {
   "cell_type": "markdown",
   "metadata": {
    "pycharm": {
     "name": "#%% md\n"
    }
   },
   "source": [
    "This is nothing else than evaluating the log probability of a normal distribution."
   ]
  },
  {
   "cell_type": "code",
   "execution_count": 41,
   "metadata": {
    "pycharm": {
     "name": "#%%\n"
    }
   },
   "outputs": [
    {
     "data": {
      "text/plain": [
       "array([-0.91893853, -1.61208571])"
      ]
     },
     "execution_count": 41,
     "metadata": {},
     "output_type": "execute_result"
    }
   ],
   "source": [
    "scipy.stats.norm.logpdf(x=np.array([0, 0]), loc=np.array([0, 0]), scale=np.array([1, 2]))"
   ]
  },
  {
   "cell_type": "markdown",
   "metadata": {
    "pycharm": {
     "name": "#%% md\n"
    }
   },
   "source": [
    "PyMC Models provide some helpful routines to facilitating the conversion of `RandomVariable`s to probability functions. {meth}`~pymc.Model.logpt`, for instance can be used to extract the joint probability of all variables in the model:"
   ]
  },
  {
   "cell_type": "code",
   "execution_count": 42,
   "metadata": {
    "pycharm": {
     "name": "#%%\n"
    }
   },
   "outputs": [
    {
     "name": "stdout",
     "output_type": "stream",
     "text": [
      "Elemwise{mul,no_inplace} [id A]\n",
      " |Check{sigma > 0} [id B] 'z_logprob'\n",
      " | |Elemwise{sub,no_inplace} [id C]\n",
      " | | |Elemwise{sub,no_inplace} [id D]\n",
      " | | | |Elemwise{mul,no_inplace} [id E]\n",
      " | | | | |InplaceDimShuffle{x} [id F]\n",
      " | | | | | |TensorConstant{-0.5} [id G]\n",
      " | | | | |Elemwise{pow,no_inplace} [id H]\n",
      " | | | |   |Elemwise{true_div,no_inplace} [id I]\n",
      " | | | |   | |Elemwise{sub,no_inplace} [id J]\n",
      " | | | |   | | |z [id K]\n",
      " | | | |   | | |TensorConstant{(2,) of 0} [id L]\n",
      " | | | |   | |TensorConstant{[1. 2.]} [id M]\n",
      " | | | |   |InplaceDimShuffle{x} [id N]\n",
      " | | | |     |TensorConstant{2} [id O]\n",
      " | | | |InplaceDimShuffle{x} [id P]\n",
      " | | |   |Elemwise{log,no_inplace} [id Q]\n",
      " | | |     |Elemwise{sqrt,no_inplace} [id R]\n",
      " | | |       |TensorConstant{6.283185307179586} [id S]\n",
      " | | |Elemwise{log,no_inplace} [id T]\n",
      " | |   |TensorConstant{[1. 2.]} [id M]\n",
      " | |All [id U]\n",
      " |   |Elemwise{gt,no_inplace} [id V]\n",
      " |     |TensorConstant{[1. 2.]} [id M]\n",
      " |     |InplaceDimShuffle{x} [id W]\n",
      " |       |TensorConstant{0.0} [id X]\n",
      " |InplaceDimShuffle{x} [id Y]\n",
      "   |TensorConstant{1.0} [id Z]\n"
     ]
    },
    {
     "data": {
      "text/plain": [
       "<ipykernel.iostream.OutStream at 0x7fcc2c57c6d0>"
      ]
     },
     "execution_count": 42,
     "metadata": {},
     "output_type": "execute_result"
    }
   ],
   "source": [
    "aesara.dprint(model.logpt(sum=False))"
   ]
  },
  {
   "cell_type": "markdown",
   "metadata": {
    "pycharm": {
     "name": "#%% md\n"
    }
   },
   "source": [
    "Because we only have one variable, this function is equivalent to what we obtained by manually calling `pm.logp` before. We can also use a helper {meth}`~pymc.Model.compile_logp` to return an already compiled Aesara function of the model logp."
   ]
  },
  {
   "cell_type": "code",
   "execution_count": 43,
   "metadata": {
    "pycharm": {
     "name": "#%%\n"
    }
   },
   "outputs": [],
   "source": [
    "logp_function = model.compile_logp(sum=False)"
   ]
  },
  {
   "cell_type": "markdown",
   "metadata": {
    "pycharm": {
     "name": "#%% md\n"
    }
   },
   "source": [
    "This function expects a \"point\" dictionary as input. We could create it ourselves, but just to illustrate another useful Model method, let's call {meth}`~pymc.Model.initial_point`, which returns the point that most samplers use when deciding where to start sampling."
   ]
  },
  {
   "cell_type": "code",
   "execution_count": 44,
   "metadata": {
    "pycharm": {
     "name": "#%%\n"
    }
   },
   "outputs": [
    {
     "data": {
      "text/plain": [
       "{'z': array([0., 0.])}"
      ]
     },
     "execution_count": 44,
     "metadata": {},
     "output_type": "execute_result"
    }
   ],
   "source": [
    "point = model.initial_point()\n",
    "point"
   ]
  },
  {
   "cell_type": "code",
   "execution_count": 45,
   "metadata": {
    "pycharm": {
     "name": "#%%\n"
    }
   },
   "outputs": [
    {
     "data": {
      "text/plain": [
       "[array([-0.91893853, -1.61208571])]"
      ]
     },
     "execution_count": 45,
     "metadata": {},
     "output_type": "execute_result"
    }
   ],
   "source": [
    "logp_function(point)"
   ]
  },
  {
   "cell_type": "markdown",
   "metadata": {
    "pycharm": {
     "name": "#%% md\n"
    }
   },
   "source": [
    "### What are value variables and why are they important?\n",
    "\n",
    "As he have seen above, a `logp` graph does not have random variables. Instead it's defined in terms of input (value) variables. When we want to sample, each random variable (RV) is replaced by a logp function evaluated at the respective input (value) variable. Let's see how this works through some examples. RV and value variables can be observed in these [`scipy`](https://github.com/scipy/scipy) operations:"
   ]
  },
  {
   "cell_type": "code",
   "execution_count": 46,
   "metadata": {
    "pycharm": {
     "name": "#%%\n"
    }
   },
   "outputs": [
    {
     "data": {
      "text/plain": [
       "<scipy.stats._distn_infrastructure.rv_frozen at 0x7fcbc80c48e0>"
      ]
     },
     "execution_count": 46,
     "metadata": {},
     "output_type": "execute_result"
    }
   ],
   "source": [
    "rv = scipy.stats.norm(0, 1)\n",
    "\n",
    "# Equivalent to rv = pm.Normal(\"rv\", 0, 1)\n",
    "scipy.stats.norm(0, 1)"
   ]
  },
  {
   "cell_type": "code",
   "execution_count": 47,
   "metadata": {
    "pycharm": {
     "name": "#%%\n"
    }
   },
   "outputs": [
    {
     "data": {
      "text/plain": [
       "array([-0.17977245, -0.68732524,  1.20093002])"
      ]
     },
     "execution_count": 47,
     "metadata": {},
     "output_type": "execute_result"
    }
   ],
   "source": [
    " # Equivalent to rv_draw = pm.draw(rv, 3)\n",
    "rv.rvs(3)"
   ]
  },
  {
   "cell_type": "code",
   "execution_count": 48,
   "metadata": {
    "pycharm": {
     "name": "#%%\n"
    }
   },
   "outputs": [
    {
     "data": {
      "text/plain": [
       "-1.7001885332046727"
      ]
     },
     "execution_count": 48,
     "metadata": {},
     "output_type": "execute_result"
    }
   ],
   "source": [
    "# Equivalent to rv_logp = pm.logp(rv, 1.25)\n",
    "rv.logpdf(1.25)"
   ]
  },
  {
   "cell_type": "markdown",
   "metadata": {
    "pycharm": {
     "name": "#%% md\n"
    }
   },
   "source": [
    "Next, let's look at how these value variables behave in a slightly more complex model."
   ]
  },
  {
   "cell_type": "code",
   "execution_count": 49,
   "metadata": {
    "pycharm": {
     "name": "#%%\n"
    }
   },
   "outputs": [],
   "source": [
    "with pm.Model() as model_2:\n",
    "    mu = pm.Normal(name=\"mu\", mu=0, sigma=2)\n",
    "    sigma = pm.HalfNormal(name=\"sigma\", sigma=3)\n",
    "    x = pm.Normal(name=\"x\", mu=mu, sigma=sigma)"
   ]
  },
  {
   "cell_type": "markdown",
   "metadata": {
    "pycharm": {
     "name": "#%% md\n"
    }
   },
   "source": [
    "Each model RV is related to a \"value variable\":"
   ]
  },
  {
   "cell_type": "code",
   "execution_count": 50,
   "metadata": {
    "pycharm": {
     "name": "#%%\n"
    }
   },
   "outputs": [
    {
     "data": {
      "text/plain": [
       "{mu: mu, sigma: sigma_log__, x: x}"
      ]
     },
     "execution_count": 50,
     "metadata": {},
     "output_type": "execute_result"
    }
   ],
   "source": [
    "model_2.rvs_to_values"
   ]
  },
  {
   "cell_type": "markdown",
   "metadata": {
    "pycharm": {
     "name": "#%% md\n"
    }
   },
   "source": [
    "Observe that for sigma the associated value is in the *log* scale as in practice we require unbounded values for NUTS sampling."
   ]
  },
  {
   "cell_type": "code",
   "execution_count": 51,
   "metadata": {
    "pycharm": {
     "name": "#%%\n"
    }
   },
   "outputs": [
    {
     "data": {
      "text/plain": [
       "[mu, sigma_log__, x]"
      ]
     },
     "execution_count": 51,
     "metadata": {},
     "output_type": "execute_result"
    }
   ],
   "source": [
    "model_2.value_vars"
   ]
  },
  {
   "cell_type": "markdown",
   "metadata": {
    "pycharm": {
     "name": "#%% md\n"
    }
   },
   "source": [
    "Now that we know how to extract the model variables, we can compute the element-wise log-probability of the model for specific values."
   ]
  },
  {
   "cell_type": "code",
   "execution_count": 52,
   "metadata": {
    "pycharm": {
     "name": "#%%\n"
    }
   },
   "outputs": [
    {
     "data": {
      "text/plain": [
       "array([ -1.61208571, -11.32440364,   9.08106147])"
      ]
     },
     "execution_count": 52,
     "metadata": {},
     "output_type": "execute_result"
    }
   ],
   "source": [
    "# extract values as aesara.tensor.var.TensorVariable\n",
    "mu_value = model_2.rvs_to_values[mu]\n",
    "sigma_log_value = model_2.rvs_to_values[sigma]\n",
    "x_value = model_2.rvs_to_values[x]\n",
    "# element-wise log-probability of the model (we do not take te sum)\n",
    "logp_graph = at.stack(model_2.logpt(sum=False))\n",
    "# evaluate by passing concrete values\n",
    "logp_graph.eval({mu_value: 0, sigma_log_value: -10, x_value:0})"
   ]
  },
  {
   "cell_type": "markdown",
   "metadata": {
    "pycharm": {
     "name": "#%% md\n"
    }
   },
   "source": [
    "This equivalent to:"
   ]
  },
  {
   "cell_type": "code",
   "execution_count": 53,
   "metadata": {
    "pycharm": {
     "name": "#%%\n"
    }
   },
   "outputs": [
    {
     "name": "stdout",
     "output_type": "stream",
     "text": [
      "\n",
      "mu_value -> -1.612085713764618\n",
      "sigma_log_value -> -11.324403641427345 \n",
      "x_value -> 9.081061466795328\n",
      "\n"
     ]
    }
   ],
   "source": [
    "print(f\"\"\"\n",
    "mu_value -> {scipy.stats.norm.logpdf(x=0, loc=0, scale=2)}\n",
    "sigma_log_value -> {- 10 + scipy.stats.halfnorm.logpdf(x=np.exp(-10), loc=0, scale=3)} \n",
    "x_value -> {scipy.stats.norm.logpdf(x=0, loc=0, scale=np.exp(-10))}\n",
    "\"\"\")\n"
   ]
  },
  {
   "cell_type": "markdown",
   "metadata": {
    "pycharm": {
     "name": "#%% md\n"
    }
   },
   "source": [
    ":::{Note}\n",
    "For `sigma_log_value` we add the $-10$ term for the `scipy` and `aesara` to match because of the jacobian.\n",
    ":::"
   ]
  },
  {
   "cell_type": "markdown",
   "metadata": {
    "pycharm": {
     "name": "#%% md\n"
    }
   },
   "source": [
    "As we already saw, we can also use the method {meth}`~pymc.Model.compile_logp` to obtained a compiled aesara function of the model `logp`, which takes a dictionary of `{value variable name : value}` as inputs:"
   ]
  },
  {
   "cell_type": "code",
   "execution_count": 54,
   "metadata": {
    "pycharm": {
     "name": "#%%\n"
    }
   },
   "outputs": [
    {
     "data": {
      "text/plain": [
       "[array(-1.61208571), array(-11.32440364), array(9.08106147)]"
      ]
     },
     "execution_count": 54,
     "metadata": {},
     "output_type": "execute_result"
    }
   ],
   "source": [
    "model_2.compile_logp(sum=False)({\"mu\": 0, \"sigma_log__\": -10, \"x\": 0})"
   ]
  },
  {
   "cell_type": "markdown",
   "metadata": {
    "pycharm": {
     "name": "#%% md\n"
    }
   },
   "source": [
    "The {class}`~pymc.Model` class also has methods to extract the gradient ({meth}`~pymc.Model.dlogpt`) and the hessian ({meth}`~pymc.Model.d2logpt`) of the `logp`."
   ]
  },
  {
   "cell_type": "markdown",
   "metadata": {
    "pycharm": {
     "name": "#%% md\n"
    }
   },
   "source": [
    "If you want to go deeper into the internals of `aesara` RandomVariables and `pymc` distributions please take a look into the [distribution developer guide](implementing-a-distribution)."
   ]
  }
 ],
 "metadata": {
  "colab": {
   "collapsed_sections": [
    "dIYxBNT_5HgW",
    "JhmIBByY6T9h",
    "k7spOYvvTdZL",
    "qIMN2gHGzKof",
    "aMM0sJy6z7Ur",
    "WY6bUgqZztC3",
    "58gng2f17_P7",
    "C8Us4nEyhRdu",
    "wkZR0gDWRAgK",
    "wPw9kCvASOeJ",
    "WdZcUfvLUkwK",
    "EHH1hP0uzaWG",
    "I_Ph4o7ZW_XD",
    "jOI-E76fZ2bG",
    "Rq2W2fmobmFg"
   ],
   "name": "PyMC intro.ipynb",
   "provenance": []
  },
  "hide_input": false,
  "interpreter": {
   "hash": "322221ae0b6adf1db1274c5f417c2cb5b37d259e740acb22a87dc0305ae08c77"
  },
  "kernelspec": {
   "display_name": "Python 3",
   "language": "python",
   "name": "python3"
  },
  "language_info": {
   "codemirror_mode": {
    "name": "ipython",
    "version": 3
   },
   "file_extension": ".py",
   "mimetype": "text/x-python",
   "name": "python",
   "nbconvert_exporter": "python",
   "pygments_lexer": "ipython3",
   "version": "3.8.10"
  }
 },
 "nbformat": 4,
 "nbformat_minor": 1
}
