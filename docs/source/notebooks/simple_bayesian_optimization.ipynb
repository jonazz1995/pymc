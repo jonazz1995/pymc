{
 "cells": [
  {
   "cell_type": "markdown",
   "metadata": {},
   "source": [
    "# Bayesian Optimization using inferred model"
   ]
  },
  {
   "cell_type": "code",
   "execution_count": 1,
   "metadata": {
    "collapsed": true,
    "deletable": true,
    "editable": true
   },
   "outputs": [],
   "source": [
    "%matplotlib inline\n",
    "import functools\n",
    "import numpy as np\n",
    "from theano import theano, tensor as tt\n",
    "import matplotlib.pyplot as plt\n",
    "import pymc3 as pm\n",
    "theano.config.floatX = 'float64'\n",
    "np.random.seed(42)"
   ]
  },
  {
   "cell_type": "markdown",
   "metadata": {},
   "source": [
    "Consider a simple quadratic problem with unknown parameters"
   ]
  },
  {
   "cell_type": "code",
   "execution_count": 2,
   "metadata": {
    "collapsed": true,
    "deletable": true,
    "editable": true
   },
   "outputs": [],
   "source": [
    "def f(x, a, b, c):\n",
    "    return a*x**2 + b*x + c"
   ]
  },
  {
   "cell_type": "markdown",
   "metadata": {},
   "source": [
    "Generate true data"
   ]
  },
  {
   "cell_type": "code",
   "execution_count": 3,
   "metadata": {
    "collapsed": false,
    "deletable": true,
    "editable": true
   },
   "outputs": [],
   "source": [
    "x_obs = np.random.uniform(-5, 5, size=(15,))\n",
    "a, b, c = 1, 2, 3\n",
    "min_ = np.array([-b/2/a])\n",
    "y_obs = f(x_obs, a, b, c) + np.random.normal(size=x_obs.shape)"
   ]
  },
  {
   "cell_type": "markdown",
   "metadata": {},
   "source": [
    "Let's see true minima"
   ]
  },
  {
   "cell_type": "code",
   "execution_count": 4,
   "metadata": {
    "collapsed": false,
    "deletable": true,
    "editable": true
   },
   "outputs": [
    {
     "data": {
      "text/plain": [
       "array([-1.])"
      ]
     },
     "execution_count": 4,
     "metadata": {},
     "output_type": "execute_result"
    }
   ],
   "source": [
    "min_"
   ]
  },
  {
   "cell_type": "code",
   "execution_count": 5,
   "metadata": {
    "collapsed": false,
    "deletable": true,
    "editable": true
   },
   "outputs": [
    {
     "data": {
      "image/png": "[encoded data removed]",
      "text/plain": [
       "<matplotlib.figure.Figure at 0x7fe9701eec50>"
      ]
     },
     "metadata": {},
     "output_type": "display_data"
    }
   ],
   "source": [
    "plt.plot(x_obs, y_obs, 'bo');"
   ]
  },
  {
   "cell_type": "code",
   "execution_count": 6,
   "metadata": {
    "collapsed": false,
    "deletable": true,
    "editable": true,
    "scrolled": false
   },
   "outputs": [
    {
     "name": "stderr",
     "output_type": "stream",
     "text": [
      "WARNING (theano.tensor.blas): We did not found a dynamic library into the library_dir of the library we use for blas. If you use ATLAS, make sure to compile it with dynamics library.\n",
      "100%|██████████| 100/100 [00:00<00:00, 177.56it/s]\n"
     ]
    }
   ],
   "source": [
    "sgd = functools.partial(pm.sgd, learning_rate=1) # simple problem - simple optimizer\n",
    "with pm.Model():\n",
    "    abc = pm.Normal('abc', sd=1, shape=(3,))\n",
    "    x = theano.shared(x_obs, 'x_obs')\n",
    "    x2 = x**2\n",
    "    o = tt.ones_like(x)\n",
    "    X = tt.stack([x2, x, o]).T\n",
    "    y = X.dot(abc)\n",
    "    pm.Normal('y', mu=y, observed=y_obs)\n",
    "    trace = pm.svgd(n=100, optimizer=sgd)\n",
    "    approx = pm.Histogram(trace)"
   ]
  },
  {
   "cell_type": "code",
   "execution_count": 7,
   "metadata": {
    "collapsed": false
   },
   "outputs": [
    {
     "data": {
      "image/png": "[encoded data removed]",
      "text/plain": [
       "<matplotlib.figure.Figure at 0x7fe928a95550>"
      ]
     },
     "metadata": {},
     "output_type": "display_data"
    }
   ],
   "source": [
    "x.set_value(np.linspace(-5, 5))\n",
    "plt.plot(x_obs, y_obs, 'bo');\n",
    "plt.plot(np.linspace(-5, 5), approx.apply_replacements(y, deterministic=True).eval(), 'ro');"
   ]
  },
  {
   "cell_type": "code",
   "execution_count": 10,
   "metadata": {
    "collapsed": false
   },
   "outputs": [
    {
     "name": "stderr",
     "output_type": "stream",
     "text": [
      "E_q[Loss] = -0.3817: 100%|██████████| 1500/1500 [00:00<00:00, 14711.59it/s]\n"
     ]
    }
   ],
   "source": [
    "sgd = functools.partial(pm.sgd, learning_rate=.1)\n",
    "x.set_value(np.zeros((1,)))\n",
    "opt = pm.Optimizer(approx, y.sum(), [x], optimizer=sgd)\n",
    "opt.fit(1500)"
   ]
  },
  {
   "cell_type": "code",
   "execution_count": 11,
   "metadata": {
    "collapsed": false,
    "deletable": true,
    "editable": true
   },
   "outputs": [
    {
     "data": {
      "text/plain": [
       "array([-0.72910345])"
      ]
     },
     "execution_count": 11,
     "metadata": {},
     "output_type": "execute_result"
    }
   ],
   "source": [
    "x.get_value()"
   ]
  }
 ],
 "metadata": {
  "kernelspec": {
   "display_name": "Python 3",
   "language": "python",
   "name": "python3"
  },
  "language_info": {
   "codemirror_mode": {
    "name": "ipython",
    "version": 3
   },
   "file_extension": ".py",
   "mimetype": "text/x-python",
   "name": "python",
   "nbconvert_exporter": "python",
   "pygments_lexer": "ipython3",
   "version": "3.4.3"
  }
 },
 "nbformat": 4,
 "nbformat_minor": 2
}
