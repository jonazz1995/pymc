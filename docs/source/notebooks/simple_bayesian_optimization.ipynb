{
 "cells": [
  {
   "cell_type": "markdown",
   "metadata": {
    "deletable": true,
    "editable": true
   },
   "source": [
    "# Bayesian Optimization using inferred model"
   ]
  },
  {
   "cell_type": "markdown",
   "metadata": {},
   "source": [
    "Condider a problem where you have to perform optimization for decision making. You don't know about the world very much and thus you have to do bayesian inference to discover it.\n",
    "\n",
    "This formulation covers a wide range of practical tasks, here are some of them:\n",
    " * Maximizing stochastic output of model $E_{p(\\theta|D)}[f(X)] \\rightarrow max X$\n",
    " * Minimizing costs of inputs to archive target $E_{p(y|X, \\theta, D)}[L(y_{target}, X, y)] \\rightarrow min X$\n",
    " * Minimizing Bayesian risk: $E_{p(y|X, \\theta, D)}[L(y_p, y)] \\rightarrow min y_p$\n"
   ]
  },
  {
   "cell_type": "code",
   "execution_count": 1,
   "metadata": {
    "collapsed": true,
    "deletable": true,
    "editable": true
   },
   "outputs": [],
   "source": [
    "%matplotlib inline\n",
    "import functools\n",
    "import numpy as np\n",
    "from theano import theano, tensor as tt\n",
    "import matplotlib.pyplot as plt\n",
    "import pymc3 as pm\n",
    "np.random.seed(42)"
   ]
  },
  {
   "cell_type": "markdown",
   "metadata": {
    "deletable": true,
    "editable": true
   },
   "source": [
    "## Quadratic problem\n",
    "Consider a simple quadratic problem with unknown parameters. Here comes bayesian inference to get model with that we need for our opimization"
   ]
  },
  {
   "cell_type": "code",
   "execution_count": 2,
   "metadata": {
    "collapsed": true,
    "deletable": true,
    "editable": true
   },
   "outputs": [],
   "source": [
    "def f(x, a, b, c):\n",
    "    return a*x**2 + b*x + c"
   ]
  },
  {
   "cell_type": "markdown",
   "metadata": {
    "deletable": true,
    "editable": true
   },
   "source": [
    "### True data\n",
    "Generate true data"
   ]
  },
  {
   "cell_type": "code",
   "execution_count": 3,
   "metadata": {
    "collapsed": false,
    "deletable": true,
    "editable": true
   },
   "outputs": [],
   "source": [
    "x_obs = np.random.uniform(-5, 5, size=(15,)).astype('float32')\n",
    "a, b, c = 1, 2, 3\n",
    "min_ = np.array([-b/2/a])\n",
    "y_obs = f(x_obs, a, b, c) + np.random.normal(size=x_obs.shape).astype('float32')"
   ]
  },
  {
   "cell_type": "markdown",
   "metadata": {
    "deletable": true,
    "editable": true
   },
   "source": [
    "### Final task\n",
    "Our task is to find th minimum of the unknown function without evaluating it. That differs a bit with traditional bayesian optimization using Gaussian Process. Here optimization have to deal with uncertainty.\n",
    "\n",
    "Now let's look at true optima"
   ]
  },
  {
   "cell_type": "code",
   "execution_count": 4,
   "metadata": {
    "collapsed": false,
    "deletable": true,
    "editable": true
   },
   "outputs": [
    {
     "data": {
      "text/plain": [
       "array([-1.])"
      ]
     },
     "execution_count": 4,
     "metadata": {},
     "output_type": "execute_result"
    }
   ],
   "source": [
    "min_"
   ]
  },
  {
   "cell_type": "markdown",
   "metadata": {},
   "source": [
    "And at the data"
   ]
  },
  {
   "cell_type": "code",
   "execution_count": 5,
   "metadata": {
    "collapsed": false,
    "deletable": true,
    "editable": true
   },
   "outputs": [
    {
     "data": {
      "image/png": "[encoded data removed]",
      "text/plain": [
       "<matplotlib.figure.Figure at 0x7fdccd8bc7f0>"
      ]
     },
     "metadata": {},
     "output_type": "display_data"
    }
   ],
   "source": [
    "plt.plot(x_obs, y_obs, 'bo');"
   ]
  },
  {
   "cell_type": "markdown",
   "metadata": {},
   "source": [
    "For inference you can use every method you like. Here I use SVGD just to show that it's result can be used in inferece as well as any other tool in variational module."
   ]
  },
  {
   "cell_type": "code",
   "execution_count": 6,
   "metadata": {
    "collapsed": false,
    "deletable": true,
    "editable": true,
    "scrolled": false
   },
   "outputs": [
    {
     "name": "stderr",
     "output_type": "stream",
     "text": [
      "WARNING (theano.tensor.blas): We did not found a dynamic library into the library_dir of the library we use for blas. If you use ATLAS, make sure to compile it with dynamics library.\n",
      "100%|██████████| 4000/4000 [00:23<00:00, 170.28it/s]\n"
     ]
    }
   ],
   "source": [
    "sgd = functools.partial(pm.sgd, learning_rate=.001) # simple problem - simple optimizer\n",
    "with pm.Model() as model:\n",
    "    abc = pm.Normal('abc', sd=1, shape=(3,))\n",
    "    x = theano.shared(x_obs, 'x_obs')\n",
    "    x2 = x**2\n",
    "    o = tt.ones_like(x)\n",
    "    X = tt.stack([x2, x, o]).T\n",
    "    y = X.dot(abc)\n",
    "    pm.Normal('y', mu=y, observed=y_obs)\n",
    "    histogram = pm.fit(4000, method='svgd', obj_optimizer=sgd)"
   ]
  },
  {
   "cell_type": "markdown",
   "metadata": {},
   "source": [
    "As a result we have a `Histogram` instance."
   ]
  },
  {
   "cell_type": "code",
   "execution_count": 7,
   "metadata": {
    "collapsed": false
   },
   "outputs": [
    {
     "data": {
      "text/plain": [
       "array([ 1.0527544 ,  1.99613583,  1.92554891], dtype=float32)"
      ]
     },
     "execution_count": 7,
     "metadata": {},
     "output_type": "execute_result"
    }
   ],
   "source": [
    "histogram.histogram.get_value().mean(0)"
   ]
  },
  {
   "cell_type": "markdown",
   "metadata": {},
   "source": [
    "It contains particles inferred with SVGD, shared variable has exactly 100 samples for 3 variables."
   ]
  },
  {
   "cell_type": "code",
   "execution_count": 8,
   "metadata": {
    "collapsed": false
   },
   "outputs": [
    {
     "data": {
      "text/plain": [
       "(theano.tensor.sharedvar.TensorSharedVariable, (100, 3))"
      ]
     },
     "execution_count": 8,
     "metadata": {},
     "output_type": "execute_result"
    }
   ],
   "source": [
    "type(histogram.histogram), histogram.histogram.get_value().shape"
   ]
  },
  {
   "cell_type": "markdown",
   "metadata": {},
   "source": [
    "100 is a default value. If you do not want use defaults, you can use the following code. For many particles evaluation can take significant part. For svgd we have a problem that we cannot know the moment when convergence is archived. May be in future there will be a callback to check convergence"
   ]
  },
  {
   "cell_type": "code",
   "execution_count": 9,
   "metadata": {
    "collapsed": false
   },
   "outputs": [
    {
     "name": "stderr",
     "output_type": "stream",
     "text": [
      "100%|██████████| 1000/1000 [01:09<00:00, 14.29it/s]\n"
     ]
    }
   ],
   "source": [
    "with model:\n",
    "    svgd = pm.SVGD(n_particles=500, jitter=.1)\n",
    "    histogram = svgd.fit(1000, obj_optimizer=sgd)"
   ]
  },
  {
   "cell_type": "markdown",
   "metadata": {},
   "source": [
    "# Inference results"
   ]
  },
  {
   "cell_type": "markdown",
   "metadata": {},
   "source": [
    "We don't have exact function as our observations were noisy"
   ]
  },
  {
   "cell_type": "code",
   "execution_count": 10,
   "metadata": {
    "collapsed": false
   },
   "outputs": [
    {
     "data": {
      "text/plain": [
       "array([ 1.10244656,  1.96198523,  1.12952435], dtype=float32)"
      ]
     },
     "execution_count": 10,
     "metadata": {},
     "output_type": "execute_result"
    }
   ],
   "source": [
    "svgd.approx.histogram.get_value().mean(0)"
   ]
  },
  {
   "cell_type": "code",
   "execution_count": 11,
   "metadata": {
    "collapsed": false
   },
   "outputs": [
    {
     "data": {
      "text/plain": [
       "array([  0.40329027,  32.367939  ,  11.61470795,   4.13825464,\n",
       "         7.42515516,   7.42651224,  13.98887253,  23.09599495,\n",
       "         4.24055386,   9.98482895,  17.06200409,  34.69278336,\n",
       "        19.83602905,   4.60826921,   6.04763126], dtype=float32)"
      ]
     },
     "execution_count": 11,
     "metadata": {},
     "output_type": "execute_result"
    }
   ],
   "source": [
    "histogram.apply_replacements(y, deterministic=True).eval()"
   ]
  },
  {
   "cell_type": "markdown",
   "metadata": {},
   "source": [
    "# Picture\n",
    "Let's look at what we got from inference. There will be mean function."
   ]
  },
  {
   "cell_type": "code",
   "execution_count": 12,
   "metadata": {
    "collapsed": true
   },
   "outputs": [],
   "source": [
    "from itertools import zip_longest"
   ]
  },
  {
   "cell_type": "code",
   "execution_count": 13,
   "metadata": {
    "collapsed": false,
    "deletable": true,
    "editable": true
   },
   "outputs": [
    {
     "data": {
      "image/png": "[encoded data removed]",
      "text/plain": [
       "<matplotlib.figure.Figure at 0x7fdc72ed05c0>"
      ]
     },
     "metadata": {},
     "output_type": "display_data"
    }
   ],
   "source": [
    "x.set_value(np.linspace(-5, 5, dtype='float32'))\n",
    "plt.plot(x_obs, y_obs, 'bo');\n",
    "y_dist = histogram.sample_node(y).eval()\n",
    "for line in y_dist:\n",
    "    plt.plot(np.linspace(-5, 5), line, 'r-', alpha=.05);"
   ]
  },
  {
   "cell_type": "markdown",
   "metadata": {},
   "source": [
    "We need an optima for real function but we know only we distribution over possible functions. To find the minima we can get the minimum of expected function. It can be done out of the box with PyMC3 tools."
   ]
  },
  {
   "cell_type": "markdown",
   "metadata": {},
   "source": [
    "At first we must create someting we wrt want to minimize and what to minimize. In our problem it is `x` coordinate. "
   ]
  },
  {
   "cell_type": "markdown",
   "metadata": {},
   "source": [
    "# Optimization"
   ]
  },
  {
   "cell_type": "code",
   "execution_count": 33,
   "metadata": {
    "collapsed": false
   },
   "outputs": [],
   "source": [
    "# wrt what to minimize\n",
    "# set x far from optima\n",
    "x_ = theano.shared(pm.floatX(10.), 'x')\n",
    "# and what to minimize\n",
    "# Notice that we use random variable in out loss so it bocomes stochastic\n",
    "y_ = abc[0]*x_**2  + abc[1]*x_ + abc[2]"
   ]
  },
  {
   "cell_type": "code",
   "execution_count": 34,
   "metadata": {
    "collapsed": false
   },
   "outputs": [],
   "source": [
    "N = 2000\n",
    "hist_x = np.empty(N)\n",
    "def cb(approx, current_loss, i):\n",
    "    hist_x[i] = x_.get_value()"
   ]
  },
  {
   "cell_type": "code",
   "execution_count": 35,
   "metadata": {
    "collapsed": false,
    "deletable": true,
    "editable": true
   },
   "outputs": [
    {
     "name": "stderr",
     "output_type": "stream",
     "text": [
      "E_q[Loss] = 0.2091: 100%|██████████| 2000/2000 [00:00<00:00, 21663.11it/s]\n"
     ]
    }
   ],
   "source": [
    "sgd = functools.partial(pm.sgd, learning_rate=.001)\n",
    "opt = pm.Optimizer(histogram, y_, [x_], optimizer=sgd)\n",
    "opt.fit(N, callbacks=[cb])"
   ]
  },
  {
   "cell_type": "markdown",
   "metadata": {},
   "source": [
    "# Optimization results\n",
    "It's all right!"
   ]
  },
  {
   "cell_type": "code",
   "execution_count": 36,
   "metadata": {
    "collapsed": false,
    "deletable": true,
    "editable": true
   },
   "outputs": [
    {
     "data": {
      "text/plain": [
       "(array(-0.7567644119262695, dtype=float32), array([-1.]))"
      ]
     },
     "execution_count": 36,
     "metadata": {},
     "output_type": "execute_result"
    }
   ],
   "source": [
    "x_.get_value(), min_"
   ]
  },
  {
   "cell_type": "markdown",
   "metadata": {},
   "source": [
    "# Loss history"
   ]
  },
  {
   "cell_type": "code",
   "execution_count": 38,
   "metadata": {
    "collapsed": false,
    "scrolled": false
   },
   "outputs": [
    {
     "data": {
      "image/png": "[encoded data removed]",
      "text/plain": [
       "<matplotlib.figure.Figure at 0x7fdcc4131ef0>"
      ]
     },
     "metadata": {},
     "output_type": "display_data"
    }
   ],
   "source": [
    "cmap = plt.get_cmap('cool')\n",
    "fig, ax = plt.subplots(2, 1, figsize=(16, 4))\n",
    "ax[0].plot(hist_x, label='X coordinate');\n",
    "ax[1].plot(opt.hist, label='Y coordinate');\n",
    "ax[0].legend();\n",
    "ax[1].legend();"
   ]
  }
 ],
 "metadata": {
  "kernelspec": {
   "display_name": "Python 3",
   "language": "python",
   "name": "python3"
  },
  "language_info": {
   "codemirror_mode": {
    "name": "ipython",
    "version": 3
   },
   "file_extension": ".py",
   "mimetype": "text/x-python",
   "name": "python",
   "nbconvert_exporter": "python",
   "pygments_lexer": "ipython3",
   "version": "3.4.3"
  }
 },
 "nbformat": 4,
 "nbformat_minor": 2
}
