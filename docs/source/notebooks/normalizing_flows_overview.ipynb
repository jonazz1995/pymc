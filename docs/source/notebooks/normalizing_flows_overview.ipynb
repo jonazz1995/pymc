{
 "cells": [
  {
   "cell_type": "markdown",
   "metadata": {},
   "source": [
    "# Normalizing Flows Overview"
   ]
  },
  {
   "cell_type": "markdown",
   "metadata": {},
   "source": [
    "Normalizing Flows is a rich family of distributions. They were described in [arXiv:1505.05770v6](https://arxiv.org/abs/1505.05770) and their experiments prooved the importance of studying them further. Some extensions like [arXiv:1611.09630v4](https://arxiv.org/abs/1611.09630) made computationally tractable (partially)full rank gaussians approximations for high dimensional spaces. In this notebook I'll show some tips and tricks for normalizing flows in PyMC3"
   ]
  },
  {
   "cell_type": "code",
   "execution_count": 1,
   "metadata": {
    "collapsed": true
   },
   "outputs": [],
   "source": [
    "%matplotlib inline\n",
    "import matplotlib.pyplot as plt\n",
    "import seaborn as sns\n",
    "import pymc3 as pm\n",
    "import numpy as np\n",
    "from theano import theano, tensor as tt\n",
    "pm.set_tt_rng(44)\n",
    "np.random.seed(44)"
   ]
  },
  {
   "cell_type": "markdown",
   "metadata": {},
   "source": [
    "## Theory\n",
    "\n",
    "Normalizing Flow is a series of invertible transformations on initial distribution. \n",
    "\n",
    "$$z_K = f_K \\circ \\dots \\circ f_2 \\circ f_1(z_0) $$\n",
    "\n",
    "In that case we can compute tractable density for the flow.\n",
    "\n",
    "$$\\ln q_K(z_K) = \\ln q_0(z_0) - \\sum_{k=1}^{K}\\ln \\left|\\frac{\\partial f_k}{\\partial z_{k-1}}\\right|$$\n",
    "\n",
    "\n",
    "Every $f_k$ here is a parametric function with defined determinant. We can choose every step here. For example the simplest flow is an affine transform:\n",
    "\n",
    "$$z = loc(scale(z_0)) = \\mu + \\sigma * z_0 $$\n",
    "\n",
    "Here we get mean field approximation if $z_0 \\sim \\mathcal{N}(0, 1)$\n",
    "\n",
    "## Flow Formulas\n",
    "In PyMC3 there is a flexible way to define flows with formulas. We have 5 of them by the moment:\n",
    "\n",
    "* Loc (`loc`): $z' = z + \\mu$\n",
    "* Scale (`scale`): $z' = \\sigma * z$\n",
    "* Planar (`planar`): $z' = z + u * \\tanh(w^T z + b)$\n",
    "* Radial (`radial`): $z' = z + \\beta (\\alpha + ||z-z_r||)^{-1}(z-z_r)$\n",
    "* Householder (`hh`): $z' = H z$"
   ]
  },
  {
   "cell_type": "markdown",
   "metadata": {},
   "source": [
    "Formula can be written as a string, e.g. `'scale-loc'`, `'scale-hh*4-loc'`, `'panar*10'`. Every step is separated with `'-'`, repeated flow is marked with `'*'` producing `'flow*repeats'`.\n",
    "\n",
    "There is a special class to create flow-based approximation in PyMC3 named `NormalizingFlow`. And an inference method that has underlying flow posterior `NF`, that is just an abbreviation for `NormalizingFlow`. We also use abbreviations for `ADVI` and `SVGD` so it seems convinient to have a short inference name and long approximation one."
   ]
  },
  {
   "cell_type": "code",
   "execution_count": 2,
   "metadata": {},
   "outputs": [
    {
     "data": {
      "text/plain": [
       "pymc3.variational.approximations.NormalizingFlow"
      ]
     },
     "execution_count": 2,
     "metadata": {},
     "output_type": "execute_result"
    }
   ],
   "source": [
    "pm.NormalizingFlow  # is Approximation"
   ]
  },
  {
   "cell_type": "code",
   "execution_count": 3,
   "metadata": {},
   "outputs": [
    {
     "data": {
      "text/plain": [
       "pymc3.variational.inference.NFVI"
      ]
     },
     "execution_count": 3,
     "metadata": {},
     "output_type": "execute_result"
    }
   ],
   "source": [
    "pm.NFVI  # is Inference"
   ]
  },
  {
   "cell_type": "markdown",
   "metadata": {},
   "source": [
    "## Flow patterns\n",
    "\n",
    "Combining flows together requires some understanding of what you want as an output. Too complex flow might not converge, too simple flow may not reproduce the posterior well. So we start from a simple one and then figure out what for other flows are."
   ]
  },
  {
   "cell_type": "code",
   "execution_count": 4,
   "metadata": {
    "collapsed": true
   },
   "outputs": [],
   "source": [
    "with pm.Model() as dummy:\n",
    "    N = pm.Normal('N', shape=(100,))"
   ]
  },
  {
   "cell_type": "markdown",
   "metadata": {},
   "source": [
    "### Mean Field connectivity\n",
    "\n",
    "The flollowing formula is the same approximation family as mean field family"
   ]
  },
  {
   "cell_type": "code",
   "execution_count": 5,
   "metadata": {},
   "outputs": [
    {
     "data": {
      "text/plain": [
       "<pymc3.variational.approximations.NormalizingFlow at 0x104105a20>"
      ]
     },
     "execution_count": 5,
     "metadata": {},
     "output_type": "execute_result"
    }
   ],
   "source": [
    "pm.NormalizingFlow('scale-loc', model=dummy)"
   ]
  },
  {
   "cell_type": "markdown",
   "metadata": {},
   "source": [
    "### Full Rank Normal connectivity\n",
    "We can get full rank model with dence covariance matrix using householder flows. Note that one `hh` flow adds exactly one rank to covariance matrix so for full rank we need `K=ndim` `hh` flows . HH flows are volume preserving flows and thus we need to change scaling if we expect out posterior to have not unit variance for latents. After we created covariance with a combination of `'scale-hh*K'` we then add location with `loc` flow."
   ]
  },
  {
   "cell_type": "code",
   "execution_count": 6,
   "metadata": {},
   "outputs": [
    {
     "data": {
      "text/plain": [
       "<pymc3.variational.approximations.NormalizingFlow at 0x10954c828>"
      ]
     },
     "execution_count": 6,
     "metadata": {},
     "output_type": "execute_result"
    }
   ],
   "source": [
    "pm.NormalizingFlow('scale-hh*100-loc', model=dummy) # FullRank analog"
   ]
  },
  {
   "cell_type": "markdown",
   "metadata": {},
   "source": [
    "More interesting case is when we do not expect a lot of interactions within posterior. So If our covariance is expected to be sparse we can restrict it to be so by hand defining low rank approximation family. We reduce number of computations as well."
   ]
  },
  {
   "cell_type": "code",
   "execution_count": 7,
   "metadata": {},
   "outputs": [
    {
     "data": {
      "text/plain": [
       "<pymc3.variational.approximations.NormalizingFlow at 0x110a7d208>"
      ]
     },
     "execution_count": 7,
     "metadata": {},
     "output_type": "execute_result"
    }
   ],
   "source": [
    "pm.NormalizingFlow('scale-hh*10-loc', model=dummy) # LowRank"
   ]
  },
  {
   "cell_type": "markdown",
   "metadata": {},
   "source": [
    "For initial parameter we did not yet choose careful defaults and use random init with jitter."
   ]
  },
  {
   "cell_type": "code",
   "execution_count": 8,
   "metadata": {},
   "outputs": [
    {
     "data": {
      "text/plain": [
       "<pymc3.variational.approximations.NormalizingFlow at 0x110b13ef0>"
      ]
     },
     "execution_count": 8,
     "metadata": {},
     "output_type": "execute_result"
    }
   ],
   "source": [
    "pm.NormalizingFlow('scale-hh*10-loc', model=dummy, jitter=.001)"
   ]
  },
  {
   "cell_type": "markdown",
   "metadata": {},
   "source": [
    "### Planar and Radial Flows\n",
    "\n",
    "* Planar (`planar`): $z' = z + u * \\tanh(w^T z + b)$\n",
    "* Radial (`radial`): $z' = z + \\beta (\\alpha + ||z-z_r||)^{-1}(z-z_r)$\n",
    "\n",
    "Planars are useful to split incoming distribution into two parts. With them one can get multimodal distribution. The same can be done with Radial flow. It changes density around specific reference point."
   ]
  },
  {
   "cell_type": "markdown",
   "metadata": {},
   "source": [
    "## Artificial data"
   ]
  },
  {
   "cell_type": "markdown",
   "metadata": {},
   "source": [
    "There were 4 potential functions in the original paper ([arXiv:1505.05770v6](https://arxiv.org/abs/1505.05770)). It is interesting to see the behaviour of inference in this setup. In my experiments I found that inference can be very unstable in multimodality cases and there are ways to deal with it.\n",
    "\n",
    "First of all let's recall potential functions"
   ]
  },
  {
   "cell_type": "code",
   "execution_count": 9,
   "metadata": {
    "collapsed": true
   },
   "outputs": [],
   "source": [
    "def w1(z):\n",
    "    return tt.sin(2.*np.pi*z[0]/4.)\n",
    "def w2(z):\n",
    "    return 3.*tt.exp(-.5*(((z[0]-1.)/.6))**2)\n",
    "def w3(z):\n",
    "    return 3.*(1+tt.exp(-(z[0]-1.)/.3))**-1\n",
    "def pot1(z):\n",
    "    z = z.T\n",
    "    return .5*((z.norm(2, axis=0)-2.)/.4)**2 - tt.log(tt.exp(-.5*((z[0]-2.)/.6)**2) + tt.exp(-.5*((z[0]+2.)/.6)**2))\n",
    "def pot2(z):\n",
    "    z = z.T\n",
    "    return .5*((z[1]-w1(z))/.4)**2\n",
    "def pot3(z):\n",
    "    z = z.T\n",
    "    return -tt.log(tt.exp(-.5*((z[1]-w1(z))/.35)**2) + tt.exp(-.5*((z[1]-w1(z)+w2(z))/.35)**2))\n",
    "def pot4(z):\n",
    "    z = z.T\n",
    "    return -tt.log(tt.exp(-.5*((z[1]-w1(z))/.4)**2) + tt.exp(-.5*((z[1]-w1(z)+w3(z))/.35)**2))\n",
    "\n",
    "z = tt.matrix('z')\n",
    "z.tag.test_value = pm.floatX([[0., 0.]])\n",
    "pot1f = theano.function([z], pot1(z))\n",
    "pot2f = theano.function([z], pot2(z))\n",
    "pot3f = theano.function([z], pot3(z))\n",
    "pot4f = theano.function([z], pot4(z))"
   ]
  },
  {
   "cell_type": "code",
   "execution_count": 10,
   "metadata": {
    "collapsed": true
   },
   "outputs": [],
   "source": [
    "def contour_pot(potf, ax=None, title=None, xlim=5, ylim=5):\n",
    "    grid = pm.floatX(np.mgrid[-xlim:xlim:100j,-ylim:ylim:100j])\n",
    "    grid_2d = grid.reshape(2, -1).T\n",
    "    cmap = plt.get_cmap('inferno')\n",
    "    if ax is None:\n",
    "        _, ax = plt.subplots(figsize=(12, 9))\n",
    "    pdf1e = np.exp(-potf(grid_2d))\n",
    "    contour = ax.contourf(grid[0], grid[1], pdf1e.reshape(100, 100), cmap=cmap)\n",
    "    if title is not None:\n",
    "        ax.set_title(title, fontsize=16)\n",
    "    return ax"
   ]
  },
  {
   "cell_type": "code",
   "execution_count": 11,
   "metadata": {},
   "outputs": [
    {
     "data": {
      "image/png": "[encoded data removed]",
      "text/plain": [
       "<matplotlib.figure.Figure at 0x110c28860>"
      ]
     },
     "metadata": {},
     "output_type": "display_data"
    }
   ],
   "source": [
    "fig, ax = plt.subplots(2, 2, figsize=(12, 12))\n",
    "ax = ax.flatten()\n",
    "contour_pot(pot1f, ax[0], 'pot1', );\n",
    "contour_pot(pot2f, ax[1], 'pot2');\n",
    "contour_pot(pot3f, ax[2], 'pot3');\n",
    "contour_pot(pot4f, ax[3], 'pot4');\n",
    "fig.tight_layout()"
   ]
  },
  {
   "cell_type": "markdown",
   "metadata": {},
   "source": [
    "## Reproducing first potential function"
   ]
  },
  {
   "cell_type": "code",
   "execution_count": 12,
   "metadata": {
    "collapsed": true
   },
   "outputs": [],
   "source": [
    "with pm.Model() as pot1m:\n",
    "    pm.DensityDist('pot1', lambda x: -pot1(x), shape=(2,))"
   ]
  },
  {
   "cell_type": "markdown",
   "metadata": {},
   "source": [
    "### NUTS\n",
    "Let's use NUTS first. Just to have a look how good is it's approximation"
   ]
  },
  {
   "cell_type": "code",
   "execution_count": 13,
   "metadata": {},
   "outputs": [
    {
     "name": "stderr",
     "output_type": "stream",
     "text": [
      "Assigned NUTS to pot1\n",
      "100%|██████████| 10500/10500 [00:10<00:00, 987.32it/s]\n"
     ]
    }
   ],
   "source": [
    "with pot1m:\n",
    "    trace = pm.sample(10000, init=None, start=dict(pot1=np.array([2, 0])))"
   ]
  },
  {
   "cell_type": "code",
   "execution_count": 14,
   "metadata": {},
   "outputs": [
    {
     "data": {
      "text/plain": [
       "<seaborn.axisgrid.JointGrid at 0x111dd0e80>"
      ]
     },
     "execution_count": 14,
     "metadata": {},
     "output_type": "execute_result"
    },
    {
     "data": {
      "image/png": "[encoded data removed]",
      "text/plain": [
       "<matplotlib.figure.Figure at 0x111dd0898>"
      ]
     },
     "metadata": {},
     "output_type": "display_data"
    }
   ],
   "source": [
    "dftrace = pm.trace_to_dataframe(trace)\n",
    "sns.jointplot(dftrace.iloc[:, 0], dftrace.iloc[:, 1], kind='kde')"
   ]
  },
  {
   "cell_type": "markdown",
   "metadata": {},
   "source": [
    "### First try with flows\n",
    "\n",
    "To make a first naive try with flows we do not need a lot of them. Let's use naive defaults with 2 planar flows and see what we'll get"
   ]
  },
  {
   "cell_type": "code",
   "execution_count": 15,
   "metadata": {},
   "outputs": [
    {
     "data": {
      "image/png": "[encoded data removed]",
      "text/plain": [
       "<matplotlib.figure.Figure at 0x112875048>"
      ]
     },
     "metadata": {},
     "output_type": "display_data"
    }
   ],
   "source": [
    "pm.set_tt_rng(2016)\n",
    "np.random.seed(2016)\n",
    "with pot1m:\n",
    "    inference = pm.NFVI('planar*2', jitter=1)\n",
    "## Plotting starting distribution\n",
    "dftrace = pm.trace_to_dataframe(inference.approx.sample(1000))\n",
    "sns.jointplot(dftrace.iloc[:, 0], dftrace.iloc[:, 1], kind='kde');"
   ]
  },
  {
   "cell_type": "markdown",
   "metadata": {},
   "source": [
    "#### Tracking gradients\n",
    "It is not only interesting to track parameters but gradients too. In this setup different sampling points can give different gradients as single sampled point tends to collapse to a mode."
   ]
  },
  {
   "cell_type": "code",
   "execution_count": 16,
   "metadata": {},
   "outputs": [
    {
     "data": {
      "text/plain": [
       "[_u, _w, b, _u, _w, b]"
      ]
     },
     "execution_count": 16,
     "metadata": {},
     "output_type": "execute_result"
    }
   ],
   "source": [
    "# here are params\n",
    "inference.approx.params"
   ]
  },
  {
   "cell_type": "code",
   "execution_count": 17,
   "metadata": {},
   "outputs": [
    {
     "data": {
      "text/plain": [
       "Elemwise{mul,no_inplace}.0"
      ]
     },
     "execution_count": 17,
     "metadata": {},
     "output_type": "execute_result"
    }
   ],
   "source": [
    "# here is objective\n",
    "inference.objective(nmc=None)"
   ]
  },
  {
   "cell_type": "code",
   "execution_count": 18,
   "metadata": {},
   "outputs": [
    {
     "ename": "AttributeError",
     "evalue": "'scratchpad' object has no attribute 'test_value'",
     "output_type": "error",
     "traceback": [
      "\u001b[0;31m---------------------------------------------------------------------------\u001b[0m",
      "\u001b[0;31mAttributeError\u001b[0m                            Traceback (most recent call last)",
      "\u001b[0;32m<ipython-input-18-247e5775f15e>\u001b[0m in \u001b[0;36m<module>\u001b[0;34m()\u001b[0m\n\u001b[0;32m----> 1\u001b[0;31m \u001b[0minference\u001b[0m\u001b[0;34m.\u001b[0m\u001b[0mobjective\u001b[0m\u001b[0;34m(\u001b[0m\u001b[0mnmc\u001b[0m\u001b[0;34m=\u001b[0m\u001b[0;32mNone\u001b[0m\u001b[0;34m)\u001b[0m\u001b[0;34m.\u001b[0m\u001b[0mtag\u001b[0m\u001b[0;34m.\u001b[0m\u001b[0mtest_value\u001b[0m\u001b[0;34m\u001b[0m\u001b[0m\n\u001b[0m",
      "\u001b[0;31mAttributeError\u001b[0m: 'scratchpad' object has no attribute 'test_value'"
     ]
    }
   ],
   "source": [
    "inference.objective(nmc=None).tag.test_value"
   ]
  },
  {
   "cell_type": "code",
   "execution_count": null,
   "metadata": {},
   "outputs": [],
   "source": [
    "# here are gradients, as I do not compute test values for VI I need to change theano flag here\n",
    "with theano.configparser.change_flags(compute_test_value='off'):\n",
    "    grads = tt.grad(inference.objective(None), inference.approx.params)\n",
    "grads"
   ]
  },
  {
   "cell_type": "code",
   "execution_count": null,
   "metadata": {
    "collapsed": true
   },
   "outputs": [],
   "source": [
    "# all in\n",
    "from collections import defaultdict\n",
    "from itertools import count\n",
    "\n",
    "@theano.configparser.change_flags(compute_test_value='off')\n",
    "def get_tracker(inference):\n",
    "    numbers = defaultdict(count)\n",
    "    params = inference.approx.params\n",
    "    grads = tt.grad(inference.objective(None), params)\n",
    "    names = ['%s_%d' % (v.name, next(numbers[v.name])) for v in inference.approx.params]\n",
    "    return pm.callbacks.Tracker(**dict(\n",
    "      [(name, v.eval) for name, v in zip(names, params)] + [('grad_' + name, v.eval) for name, v in zip(names, grads)]\n",
    "    ))\n",
    "tracker = get_tracker(inference)"
   ]
  },
  {
   "cell_type": "code",
   "execution_count": null,
   "metadata": {},
   "outputs": [],
   "source": [
    "inference.fit(60000, obj_optimizer=pm.adam(learning_rate=0.01), callbacks=[tracker])"
   ]
  },
  {
   "cell_type": "code",
   "execution_count": null,
   "metadata": {},
   "outputs": [],
   "source": [
    "plt.plot(inference.hist);"
   ]
  },
  {
   "cell_type": "markdown",
   "metadata": {},
   "source": [
    "Loss history is not very informative here. Tracker stats can be much more interesting"
   ]
  },
  {
   "cell_type": "code",
   "execution_count": null,
   "metadata": {},
   "outputs": [],
   "source": [
    "dftrace = pm.trace_to_dataframe(inference.approx.sample(1000))\n",
    "sns.jointplot(dftrace.iloc[:, 0], dftrace.iloc[:, 1], kind='kde')"
   ]
  },
  {
   "cell_type": "code",
   "execution_count": null,
   "metadata": {},
   "outputs": [],
   "source": [
    "tracker.hist.keys()"
   ]
  },
  {
   "cell_type": "code",
   "execution_count": null,
   "metadata": {
    "collapsed": true
   },
   "outputs": [],
   "source": [
    "from collections import Counter\n",
    "def plot_tracker_results(tracker):\n",
    "    fig, ax = plt.subplots(len(tracker.hist)//2, 2, figsize=(16, len(tracker.hist)//2*2.3))\n",
    "    ax = ax.flatten()\n",
    "    names = list(tracker.hist.keys())\n",
    "    gnames = names[len(names)//2:]\n",
    "    names = names[:len(names)//2]\n",
    "    pairnames = zip(names, gnames)\n",
    "    def plot_params_and_grads(name, gname):\n",
    "        i = names.index(name)\n",
    "        left = ax[i*2]\n",
    "        right = ax[i*2+1]\n",
    "        grads = np.asarray(tracker[gname])\n",
    "        if grads.ndim == 1:\n",
    "            grads = grads[:, None]\n",
    "        grads = grads.T\n",
    "        params = np.asarray(tracker[name])\n",
    "        if params.ndim == 1:\n",
    "            params = params[:, None]\n",
    "        params = params.T\n",
    "        right.set_title('Gradient of %s' % name)\n",
    "        left.set_title('Param trace of %s' % name)\n",
    "        s = params.shape[0]\n",
    "        for j, (v, g) in enumerate(zip(params, grads)):\n",
    "            left.plot(v, '-')\n",
    "            right.plot(g, 'o', alpha=1/s/10)\n",
    "        left.legend([name + '_%d' % j for j in range(len(names))])\n",
    "        right.legend([gname + '_%d' % j for j in range(len(names))])\n",
    "\n",
    "    for vn, gn in pairnames:\n",
    "        plot_params_and_grads(vn, gn)\n",
    "    fig.tight_layout()"
   ]
  },
  {
   "cell_type": "code",
   "execution_count": null,
   "metadata": {},
   "outputs": [],
   "source": [
    "plot_tracker_results(tracker)"
   ]
  },
  {
   "cell_type": "markdown",
   "metadata": {},
   "source": [
    "Seems like some parameters did not converge, I think we'd like to continue inference a bit more"
   ]
  },
  {
   "cell_type": "code",
   "execution_count": null,
   "metadata": {},
   "outputs": [],
   "source": [
    "inference.fit(60000, obj_optimizer=pm.adam(learning_rate=0.01), callbacks=[tracker])"
   ]
  },
  {
   "cell_type": "code",
   "execution_count": null,
   "metadata": {},
   "outputs": [],
   "source": [
    "plot_tracker_results(tracker)"
   ]
  },
  {
   "cell_type": "code",
   "execution_count": null,
   "metadata": {},
   "outputs": [],
   "source": [
    "dftrace = pm.trace_to_dataframe(inference.approx.sample(1000))\n",
    "sns.jointplot(dftrace.iloc[:, 0], dftrace.iloc[:, 1], kind='kde')"
   ]
  },
  {
   "cell_type": "markdown",
   "metadata": {},
   "source": [
    "Inference is very unstable, variance of gradients is relativelly high to parameters. Dominant mode has changed. So be carefull in learning your flows"
   ]
  },
  {
   "cell_type": "markdown",
   "metadata": {},
   "source": [
    "### Going deeper\n",
    "We can try to improve our approximation using more flows, in paper they used 8 and 32, let's use 8 here."
   ]
  },
  {
   "cell_type": "code",
   "execution_count": null,
   "metadata": {},
   "outputs": [],
   "source": [
    "pm.set_tt_rng(2017)\n",
    "np.random.seed(2017)\n",
    "with pot1m:\n",
    "    inference = pm.NFVI('planar*8', jitter=.5)\n",
    "dftrace = pm.trace_to_dataframe(inference.approx.sample(1000))\n",
    "sns.jointplot(dftrace.iloc[:, 0], dftrace.iloc[:, 1], kind='kde')"
   ]
  },
  {
   "cell_type": "markdown",
   "metadata": {},
   "source": [
    "To get more robust fit can use more `obj_n_mc` in `fit`. But initial point still matters. I had to make careful choice about optimizer and `obj_n_mc` below"
   ]
  },
  {
   "cell_type": "code",
   "execution_count": null,
   "metadata": {},
   "outputs": [],
   "source": [
    "inference.fit(25000, obj_optimizer=pm.adam(learning_rate=0.01), obj_n_mc=100)"
   ]
  },
  {
   "cell_type": "code",
   "execution_count": null,
   "metadata": {},
   "outputs": [],
   "source": [
    "dftrace = pm.trace_to_dataframe(inference.approx.sample(1000))\n",
    "sns.jointplot(dftrace.iloc[:, 0], dftrace.iloc[:, 1], kind='kde')"
   ]
  },
  {
   "cell_type": "markdown",
   "metadata": {},
   "source": [
    "Nice one"
   ]
  },
  {
   "cell_type": "markdown",
   "metadata": {},
   "source": [
    "Now we see that flows are able to catch multimodality structure of given posterior but in this case they are hard to fit as we have multimodal distribution. Initial point matters a lot in general multimodal case."
   ]
  }
 ],
 "metadata": {
  "kernelspec": {
   "display_name": "Python 3",
   "language": "python",
   "name": "python3"
  },
  "language_info": {
   "codemirror_mode": {
    "name": "ipython",
    "version": 3
   },
   "file_extension": ".py",
   "mimetype": "text/x-python",
   "name": "python",
   "nbconvert_exporter": "python",
   "pygments_lexer": "ipython3",
   "version": "3.6.0"
  }
 },
 "nbformat": 4,
 "nbformat_minor": 2
}
