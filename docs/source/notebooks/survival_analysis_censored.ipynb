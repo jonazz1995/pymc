{
 "cells": [
  {
   "cell_type": "markdown",
   "metadata": {},
   "source": [
    "## Censoring"
   ]
  },
  {
   "cell_type": "markdown",
   "metadata": {},
   "source": [
    "\n",
    "Data can be left, right, or interval censored.\n",
    "\n",
    "In this example we take interval censoring as it is the most general. In order\n",
    "to deal with data censored only on one side one can simply remove one of the\n",
    "sides.\n",
    "\n",
    "Many modeling problems are of this nature, two common examples are:\n",
    "- Survival analysis: at the end of a clinical trial to study the impact of a\n",
    "  new drug on lifespan, it is almost never possible to follow through with the\n",
    "  study until all subjects have died. At the end of the study, the only\n",
    "  information known for many subjects is that a subject was still alive.\n",
    "- Sensor saturation: a sensor might have a limited dynamic range and the upper\n",
    "  and lower limits would simply be the lowest and highest values a sensor can\n",
    "  report. An 8-bit pixel value can only hold values from 0 to 255.\n",
    "\n",
    "This example presents two different ways of dealing with censored data in\n",
    "PyMC3:\n",
    "\n",
    "- An imputed censored model, which represents censored data as parameters and\n",
    "  makes up plausible values for all censored values. This produces as a\n",
    "  byproduct a plausible set of made up values that would have been censored.\n",
    "  Each censored element introduces a random variable.\n",
    "- An unimputed censored model, where the censored data are integrated out and\n",
    "  accounted for only through the log-likelihood. This method deals more\n",
    "  adequately with large amounts of censored data and converges more quickly.\n",
    "\n",
    "To establish a baseline they compare to an uncensored model of uncensored data.\n"
   ]
  },
  {
   "cell_type": "code",
   "execution_count": 3,
   "metadata": {},
   "outputs": [
    {
     "name": "stderr",
     "output_type": "stream",
     "text": [
      "/home/preich/anaconda3/lib/python3.6/site-packages/h5py/__init__.py:36: FutureWarning: Conversion of the second argument of issubdtype from `float` to `np.floating` is deprecated. In future, it will be treated as `np.float64 == np.dtype(float).type`.\n",
      "  from ._conv import register_converters as _register_converters\n"
     ]
    }
   ],
   "source": [
    "from matplotlib import pyplot as plt\n",
    "import numpy as np\n",
    "import pymc3 as pm\n",
    "import pandas as pd\n",
    "from theano import tensor as T\n",
    "import theano.tensor as tt"
   ]
  },
  {
   "cell_type": "code",
   "execution_count": 4,
   "metadata": {},
   "outputs": [],
   "source": [
    "# Helper functions\n",
    "def normal_lcdf(mu, sigma, x):\n",
    "    z = (x - mu) / sigma\n",
    "    return tt.switch(\n",
    "        tt.lt(z, -1.0),\n",
    "        tt.log(tt.erfcx(-z / tt.sqrt(2.)) / 2.) - tt.sqr(z) / 2,\n",
    "        tt.log1p(-tt.erfc(z / tt.sqrt(2.)) / 2.)\n",
    "    )\n",
    "\n",
    "\n",
    "def normal_lccdf(mu, sigma, x):\n",
    "    z = (x - mu) / sigma\n",
    "    return tt.switch(\n",
    "        tt.gt(z, 1.0),\n",
    "        tt.log(tt.erfcx(z / tt.sqrt(2.)) / 2) - tt.sqr(z) / 2.,\n",
    "        tt.log1p(-tt.erfc(-z / tt.sqrt(2.)) / 2.)\n",
    "    )\n",
    "\n"
   ]
  },
  {
   "cell_type": "code",
   "execution_count": 5,
   "metadata": {},
   "outputs": [],
   "source": [
    "# Produce normally distributed samples\n",
    "np.random.seed(123)\n",
    "size = 500\n",
    "sigma = 5.\n",
    "mu = 13.\n",
    "samples = np.random.normal(mu, sigma, size)\n",
    "\n",
    "# Set censoring limits.\n",
    "high = 16.\n",
    "low = -1.\n",
    "\n",
    "# Truncate samples\n",
    "truncated = samples[(samples > low) & (samples < high)]\n",
    "\n",
    "# Omniscient model\n",
    "with pm.Model() as omniscient_model:\n",
    "    mu = pm.Normal('mu', mu=0., sd=(high - low) / 2.)\n",
    "    sigma = pm.HalfNormal('sigma', sd=(high - low) / 2.)\n",
    "    observed = pm.Normal('observed', mu=mu, sd=sigma, observed=samples)\n"
   ]
  },
  {
   "cell_type": "code",
   "execution_count": 6,
   "metadata": {},
   "outputs": [],
   "source": [
    "# Imputed censored model\n",
    "# Keep tabs on left/right censoring\n",
    "n_right_censored = len(samples[samples >= high])\n",
    "n_left_censored = len(samples[samples <= low])\n",
    "n_observed = len(samples) - n_right_censored - n_left_censored\n",
    "with pm.Model() as imputed_censored_model:\n",
    "    mu = pm.Normal('mu', mu=0., sd=(high - low) / 2.)\n",
    "    sigma = pm.HalfNormal('sigma', sd=(high - low) / 2.)\n",
    "    right_censored = pm.Bound(pm.Normal, lower=high)(\n",
    "        'right_censored', mu=mu, sd=sigma, shape=n_right_censored\n",
    "    )\n",
    "    left_censored = pm.Bound(pm.Normal, upper=low)(\n",
    "        'left_censored', mu=mu, sd=sigma, shape=n_left_censored\n",
    "    )\n",
    "    observed = pm.Normal(\n",
    "        'observed',\n",
    "        mu=mu,\n",
    "        sd=sigma,\n",
    "        observed=truncated,\n",
    "        shape=n_observed\n",
    "    )\n"
   ]
  },
  {
   "cell_type": "code",
   "execution_count": 7,
   "metadata": {},
   "outputs": [],
   "source": [
    "# Unimputed censored model\n",
    "def censored_right_likelihood(mu, sigma, n_right_censored, upper_bound):\n",
    "    return n_right_censored * normal_lccdf(mu, sigma, upper_bound)\n",
    "\n",
    "\n",
    "def censored_left_likelihood(mu, sigma, n_left_censored, lower_bound):\n",
    "    return n_left_censored * normal_lcdf(mu, sigma, lower_bound)\n",
    "\n",
    "with pm.Model() as unimputed_censored_model:\n",
    "    mu = pm.Normal('mu', mu=0., sd=(high - low) / 2.)\n",
    "    sigma = pm.HalfNormal('sigma', sd=(high - low) / 2.)\n",
    "    observed = pm.Normal(\n",
    "        'observed',\n",
    "        mu=mu,\n",
    "        sd=sigma,\n",
    "        observed=truncated,\n",
    "    )\n",
    "    right_censored = pm.Potential(\n",
    "        'right_censored',\n",
    "        censored_right_likelihood(mu, sigma, n_right_censored, high)\n",
    "        )\n",
    "    left_censored = pm.Potential(\n",
    "        'left_censored',\n",
    "        censored_left_likelihood(mu, sigma, n_left_censored, low)\n",
    "    )\n"
   ]
  },
  {
   "cell_type": "code",
   "execution_count": 9,
   "metadata": {},
   "outputs": [],
   "source": [
    "n = 1500"
   ]
  },
  {
   "cell_type": "code",
   "execution_count": null,
   "metadata": {},
   "outputs": [
    {
     "name": "stderr",
     "output_type": "stream",
     "text": [
      "Auto-assigning NUTS sampler...\n",
      "Initializing NUTS using jitter+adapt_diag...\n"
     ]
    },
    {
     "name": "stdout",
     "output_type": "stream",
     "text": [
      "Model with no censored data (omniscient)\n"
     ]
    },
    {
     "name": "stderr",
     "output_type": "stream",
     "text": [
      "Multiprocess sampling (4 chains in 4 jobs)\n",
      "NUTS: [sigma_log__, mu]\n",
      "100%|██████████| 2000/2000 [00:01<00:00, 1591.09it/s]\n",
      "INFO (theano.gof.compilelock): Waiting for existing lock by process '2988' (I am process '2989')\n",
      "INFO (theano.gof.compilelock): To manually release the lock, delete /home/preich/.theano/compiledir_Linux-4.13--generic-x86_64-with-debian-stretch-sid-x86_64-3.6.4-64/lock_dir\n",
      "INFO (theano.gof.compilelock): Waiting for existing lock by process '2988' (I am process '2990')\n",
      "INFO (theano.gof.compilelock): To manually release the lock, delete /home/preich/.theano/compiledir_Linux-4.13--generic-x86_64-with-debian-stretch-sid-x86_64-3.6.4-64/lock_dir\n",
      "INFO (theano.gof.compilelock): Waiting for existing lock by process '2989' (I am process '2990')\n",
      "INFO (theano.gof.compilelock): To manually release the lock, delete /home/preich/.theano/compiledir_Linux-4.13--generic-x86_64-with-debian-stretch-sid-x86_64-3.6.4-64/lock_dir\n"
     ]
    },
    {
     "data": {
      "image/png": "[encoded data removed]",
      "text/plain": [
       "<matplotlib.figure.Figure at 0x7f62373c3b38>"
      ]
     },
     "metadata": {},
     "output_type": "display_data"
    }
   ],
   "source": [
    "print('Model with no censored data (omniscient)')\n",
    "with omniscient_model:\n",
    "    trace = pm.sample(n)\n",
    "    pm.plot_posterior(trace[-1000:], varnames=['mu', 'sigma'])\n",
    "    plt.show()"
   ]
  },
  {
   "cell_type": "code",
   "execution_count": null,
   "metadata": {},
   "outputs": [
    {
     "name": "stderr",
     "output_type": "stream",
     "text": [
      "Auto-assigning NUTS sampler...\n",
      "Initializing NUTS using jitter+adapt_diag...\n"
     ]
    },
    {
     "name": "stdout",
     "output_type": "stream",
     "text": [
      "Imputed censored model\n"
     ]
    },
    {
     "name": "stderr",
     "output_type": "stream",
     "text": [
      "Multiprocess sampling (4 chains in 4 jobs)\n",
      "NUTS: [left_censored_upperbound__, right_censored_lowerbound__, sigma_log__, mu]\n",
      " 16%|█▌        | 324/2000 [00:02<00:13, 124.70it/s]"
     ]
    }
   ],
   "source": [
    "print('Imputed censored model')\n",
    "with imputed_censored_model:\n",
    "    trace = pm.sample(n)\n",
    "    pm.plot_posterior(trace[-1000:], varnames=['mu', 'sigma'])\n",
    "    plt.show()"
   ]
  },
  {
   "cell_type": "code",
   "execution_count": null,
   "metadata": {},
   "outputs": [],
   "source": [
    "print('Unimputed censored model')\n",
    "with unimputed_censored_model:\n",
    "    trace = pm.sample(n)\n",
    "    pm.plot_posterior(trace[-1000:], varnames=['mu', 'sigma'])\n",
    "    plt.show()"
   ]
  }
 ],
 "metadata": {
  "kernelspec": {
   "display_name": "Python 3",
   "language": "python",
   "name": "python3"
  },
  "language_info": {
   "codemirror_mode": {
    "name": "ipython",
    "version": 3
   },
   "file_extension": ".py",
   "mimetype": "text/x-python",
   "name": "python",
   "nbconvert_exporter": "python",
   "pygments_lexer": "ipython3",
   "version": "3.6.4"
  }
 },
 "nbformat": 4,
 "nbformat_minor": 2
}
