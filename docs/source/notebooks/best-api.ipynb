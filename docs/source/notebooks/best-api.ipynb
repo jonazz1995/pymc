{
 "cells": [
  {
   "cell_type": "markdown",
   "metadata": {},
   "source": [
    "# Introduction\n",
    "\n",
    "This notebook is intended as an introduction to the BEST model available as a \"default model\" in PyMC3.\n",
    "\n",
    "John Kruschke introduced the BEST model in 2013 as a way to show how Bayesian estimation can provide a superior way of summarizing a two-sample (treatment "
   ]
  },
  {
   "cell_type": "code",
   "execution_count": 1,
   "metadata": {
    "collapsed": false
   },
   "outputs": [],
   "source": [
    "import pymc3 as pm\n",
    "import numpy as np\n",
    "import pandas as pd\n",
    "import matplotlib.pyplot as plt\n",
    "import seaborn as sns\n",
    "\n",
    "sns.set_style('white')\n",
    "\n",
    "from pymc3.modules.best import BEST\n",
    "\n",
    "%load_ext autoreload\n",
    "%autoreload 2"
   ]
  },
  {
   "cell_type": "markdown",
   "metadata": {},
   "source": [
    "We will first start by generating some synthetic data. Here, we are assuming that there are:\n",
    "\n",
    "- 10 treatments (including the control)\n",
    "- 4 replicate measurements each"
   ]
  },
  {
   "cell_type": "code",
   "execution_count": 2,
   "metadata": {
    "collapsed": false
   },
   "outputs": [],
   "source": [
    "n_treatments = 10\n",
    "n_replicates = 4\n",
    "means = np.random.randint(low=10, high=50, size=n_treatments)\n",
    "sigmas = np.random.random(size=n_treatments) * 3\n",
    "\n",
    "data = []\n",
    "indices = []\n",
    "for idx, tmt in enumerate(range(n_treatments)):\n",
    "    for rep in range(n_replicates):\n",
    "        data.append(np.random.normal(loc=means[idx], scale=sigmas[idx]))\n",
    "        indices.append(idx)\n",
    "\n",
    "# Cast as a numpy array for convenience.\n",
    "data = np.array(data)\n",
    "indices = np.array(indices)"
   ]
  },
  {
   "cell_type": "code",
   "execution_count": 3,
   "metadata": {
    "collapsed": false
   },
   "outputs": [
    {
     "data": {
      "text/plain": [
       "array([ 34.00430056,  32.10809804,  38.53808509,  36.110382  ,\n",
       "        44.04434539,  41.95780145,  41.66832831,  40.97863928,\n",
       "        45.92757886,  46.51006965,  44.08638969,  47.72199583,\n",
       "        34.72484433,  29.45368386,  31.41960255,  35.72236196,\n",
       "        43.91900172,  46.25127316,  41.98282348,  43.54996025,\n",
       "        14.97420725,  15.02268631,  15.00169222,  14.97478774,\n",
       "        14.40326155,  13.39092329,  14.91150851,  23.98522204,\n",
       "        26.050393  ,  28.14806707,  29.83439903,  30.35088746,\n",
       "        16.48278352,  20.85506246,  19.09767034,  20.14939378,\n",
       "        45.00058993,  36.10567556,  38.69867637,  40.86339928])"
      ]
     },
     "execution_count": 3,
     "metadata": {},
     "output_type": "execute_result"
    }
   ],
   "source": [
    "data"
   ]
  },
  {
   "cell_type": "code",
   "execution_count": 4,
   "metadata": {
    "collapsed": false
   },
   "outputs": [
    {
     "data": {
      "text/plain": [
       "array([0, 0, 0, 0, 1, 1, 1, 1, 2, 2, 2, 2, 3, 3, 3, 3, 4, 4, 4, 4, 5, 5, 5,\n",
       "       5, 6, 6, 6, 6, 7, 7, 7, 7, 8, 8, 8, 8, 9, 9, 9, 9])"
      ]
     },
     "execution_count": 4,
     "metadata": {},
     "output_type": "execute_result"
    }
   ],
   "source": [
    "indices"
   ]
  },
  {
   "cell_type": "markdown",
   "metadata": {},
   "source": [
    "The BEST model accepts a `pandas` DataFrame object, and assumes that the data are structured as such:\n",
    "\n",
    "- Each row is one measurement\n",
    "- Replicates are indicated by an identifying \"name\" (e.g. \"control\", \"treatment_1\", \"my_treatment_name\") etc.\n",
    "- The replicate measurements do not necessarily have to be in order.\n",
    "\n",
    "While in this example we only use 10 different treatments, in principle it is possible to go much higher, even on the order of ~10<sup>3</sup> to ~10<sup>4</sup>, as might be the case with replicate high throughput measurements."
   ]
  },
  {
   "cell_type": "code",
   "execution_count": 5,
   "metadata": {
    "collapsed": false
   },
   "outputs": [
    {
     "data": {
      "text/html": [
       "<div>\n",
       "<table border=\"1\" class=\"dataframe\">\n",
       "  <thead>\n",
       "    <tr style=\"text-align: right;\">\n",
       "      <th></th>\n",
       "      <th>treatments</th>\n",
       "      <th>measurements</th>\n",
       "    </tr>\n",
       "  </thead>\n",
       "  <tbody>\n",
       "    <tr>\n",
       "      <th>0</th>\n",
       "      <td>0</td>\n",
       "      <td>34.004301</td>\n",
       "    </tr>\n",
       "    <tr>\n",
       "      <th>1</th>\n",
       "      <td>0</td>\n",
       "      <td>32.108098</td>\n",
       "    </tr>\n",
       "    <tr>\n",
       "      <th>2</th>\n",
       "      <td>0</td>\n",
       "      <td>38.538085</td>\n",
       "    </tr>\n",
       "    <tr>\n",
       "      <th>3</th>\n",
       "      <td>0</td>\n",
       "      <td>36.110382</td>\n",
       "    </tr>\n",
       "    <tr>\n",
       "      <th>4</th>\n",
       "      <td>1</td>\n",
       "      <td>44.044345</td>\n",
       "    </tr>\n",
       "    <tr>\n",
       "      <th>5</th>\n",
       "      <td>1</td>\n",
       "      <td>41.957801</td>\n",
       "    </tr>\n",
       "    <tr>\n",
       "      <th>6</th>\n",
       "      <td>1</td>\n",
       "      <td>41.668328</td>\n",
       "    </tr>\n",
       "    <tr>\n",
       "      <th>7</th>\n",
       "      <td>1</td>\n",
       "      <td>40.978639</td>\n",
       "    </tr>\n",
       "    <tr>\n",
       "      <th>8</th>\n",
       "      <td>2</td>\n",
       "      <td>45.927579</td>\n",
       "    </tr>\n",
       "    <tr>\n",
       "      <th>9</th>\n",
       "      <td>2</td>\n",
       "      <td>46.510070</td>\n",
       "    </tr>\n",
       "  </tbody>\n",
       "</table>\n",
       "</div>"
      ],
      "text/plain": [
       "   treatments  measurements\n",
       "0           0     34.004301\n",
       "1           0     32.108098\n",
       "2           0     38.538085\n",
       "3           0     36.110382\n",
       "4           1     44.044345\n",
       "5           1     41.957801\n",
       "6           1     41.668328\n",
       "7           1     40.978639\n",
       "8           2     45.927579\n",
       "9           2     46.510070"
      ]
     },
     "execution_count": 5,
     "metadata": {},
     "output_type": "execute_result"
    }
   ],
   "source": [
    "df = pd.DataFrame()\n",
    "df['treatments'] = indices\n",
    "df['measurements'] = data\n",
    "df.head(10)"
   ]
  },
  {
   "cell_type": "code",
   "execution_count": 6,
   "metadata": {
    "collapsed": false,
    "scrolled": true
   },
   "outputs": [
    {
     "name": "stdout",
     "output_type": "stream",
     "text": [
      "Sample name 0 has the index 0\n",
      "Sample name 1 has the index 1\n",
      "Sample name 2 has the index 2\n",
      "Sample name 3 has the index 3\n",
      "Sample name 4 has the index 4\n",
      "Sample name 5 has the index 5\n",
      "Sample name 6 has the index 6\n",
      "Sample name 7 has the index 7\n",
      "Sample name 8 has the index 8\n",
      "Sample name 9 has the index 9\n"
     ]
    }
   ],
   "source": [
    "b = BEST(data=df, sample_col='treatments', output_col='measurements', baseline_name=0)"
   ]
  },
  {
   "cell_type": "code",
   "execution_count": 7,
   "metadata": {
    "collapsed": false
   },
   "outputs": [
    {
     "name": "stdout",
     "output_type": "stream",
     "text": [
      "Iteration 0 [0%]: ELBO = -2409.98\n",
      "Iteration 50000 [10%]: Average ELBO = -225.57\n",
      "Iteration 100000 [20%]: Average ELBO = -130.53\n",
      "Iteration 150000 [30%]: Average ELBO = -130.17\n",
      "Iteration 200000 [40%]: Average ELBO = -130.15\n",
      "Iteration 250000 [50%]: Average ELBO = -130.13\n",
      "Iteration 300000 [60%]: Average ELBO = -130.13\n",
      "Iteration 350000 [70%]: Average ELBO = -130.12\n",
      "Iteration 400000 [80%]: Average ELBO = -130.18\n",
      "Iteration 450000 [90%]: Average ELBO = -130.18\n",
      "Finished [100%]: Average ELBO = -130.16\n"
     ]
    },
    {
     "name": "stderr",
     "output_type": "stream",
     "text": [
      "100%|██████████| 2000/2000 [00:00<00:00, 8517.56it/s]\n"
     ]
    }
   ],
   "source": [
    "b.fit(n_steps=500000)"
   ]
  },
  {
   "cell_type": "markdown",
   "metadata": {},
   "source": [
    "Call the `plot_elbo()` function to visually check that the ADVI steps have converged."
   ]
  },
  {
   "cell_type": "code",
   "execution_count": 8,
   "metadata": {
    "collapsed": false
   },
   "outputs": [
    {
     "data": {
      "image/png": "[encoded data removed]",
      "text/plain": [
       "<matplotlib.figure.Figure at 0x110b68470>"
      ]
     },
     "execution_count": 8,
     "metadata": {},
     "output_type": "execute_result"
    }
   ],
   "source": [
    "b.plot_elbo()"
   ]
  },
  {
   "cell_type": "markdown",
   "metadata": {},
   "source": [
    "Looks like convergence has happened! Let's also look at the posterior plot.\n",
    "\n",
    "What's provided is a `seaborn` swarm plot combined with the 95% HPD and IQR of the posterior distribution."
   ]
  },
  {
   "cell_type": "code",
   "execution_count": 13,
   "metadata": {
    "collapsed": false
   },
   "outputs": [
    {
     "data": {
      "image/png": "[encoded data removed]",
      "text/plain": [
       "<matplotlib.figure.Figure at 0x119ba1630>"
      ]
     },
     "execution_count": 13,
     "metadata": {},
     "output_type": "execute_result"
    }
   ],
   "source": [
    "b.plot_posterior()  # can pass in rotate_xticks=True if needed"
   ]
  },
  {
   "cell_type": "code",
   "execution_count": null,
   "metadata": {
    "collapsed": true
   },
   "outputs": [],
   "source": []
  }
 ],
 "metadata": {
  "kernelspec": {
   "display_name": "Python 3",
   "language": "python",
   "name": "python3"
  },
  "language_info": {
   "codemirror_mode": {
    "name": "ipython",
    "version": 3
   },
   "file_extension": ".py",
   "mimetype": "text/x-python",
   "name": "python",
   "nbconvert_exporter": "python",
   "pygments_lexer": "ipython3",
   "version": "3.5.2"
  }
 },
 "nbformat": 4,
 "nbformat_minor": 1
}
