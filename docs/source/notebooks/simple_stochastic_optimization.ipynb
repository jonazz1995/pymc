{
 "cells": [
  {
   "cell_type": "markdown",
   "metadata": {
    "deletable": true,
    "editable": true
   },
   "source": [
    "# Stochastic Optimization using inferred model"
   ]
  },
  {
   "cell_type": "markdown",
   "metadata": {
    "deletable": true,
    "editable": true
   },
   "source": [
    "Condider a problem where you have to perform optimization for decision making. You don't know about the world very much and thus you have to do bayesian inference to discover it.\n",
    "\n",
    "This formulation covers a wide range of practical tasks, here are some of them:\n",
    " * Maximizing stochastic output of model $E_{p(\\theta|D)}[f(X)] \\rightarrow max X$\n",
    " * Minimizing costs of inputs to archive target $E_{p(y|X, \\theta, D)}[L(y_{target}, X, y)] \\rightarrow min X$\n",
    " * Minimizing Bayesian risk: $E_{p(y|X, \\theta, D)}[L(y_p, y)] \\rightarrow min y_p$\n"
   ]
  },
  {
   "cell_type": "code",
   "execution_count": 1,
   "metadata": {
    "collapsed": true,
    "deletable": true,
    "editable": true
   },
   "outputs": [],
   "source": [
    "%matplotlib inline\n",
    "import functools\n",
    "import numpy as np\n",
    "from theano import theano, tensor as tt\n",
    "import matplotlib.pyplot as plt\n",
    "import pymc3 as pm\n",
    "np.random.seed(42)"
   ]
  },
  {
   "cell_type": "markdown",
   "metadata": {
    "deletable": true,
    "editable": true
   },
   "source": [
    "## Quadratic problem\n",
    "Consider a simple quadratic problem with unknown parameters. Here comes Bayesian inference to get model with that we need for our opimization"
   ]
  },
  {
   "cell_type": "code",
   "execution_count": 2,
   "metadata": {
    "collapsed": true,
    "deletable": true,
    "editable": true
   },
   "outputs": [],
   "source": [
    "def f(x, a, b, c):\n",
    "    return a*x**2 + b*x + c"
   ]
  },
  {
   "cell_type": "markdown",
   "metadata": {
    "deletable": true,
    "editable": true
   },
   "source": [
    "### True data\n",
    "Generate true data"
   ]
  },
  {
   "cell_type": "code",
   "execution_count": 3,
   "metadata": {
    "collapsed": false,
    "deletable": true,
    "editable": true
   },
   "outputs": [],
   "source": [
    "x_obs = np.random.uniform(-5, 5, size=(15,)).astype('float32')\n",
    "a, b, c = 1, 2, 3\n",
    "min_ = np.array([-b/2/a])\n",
    "y_obs = f(x_obs, a, b, c) + np.random.normal(size=x_obs.shape).astype('float32')"
   ]
  },
  {
   "cell_type": "markdown",
   "metadata": {
    "deletable": true,
    "editable": true
   },
   "source": [
    "### Final task\n",
    "Our task is to find th minimum of the unknown function without evaluating it. That differs a lot from traditional Bayesian optimization using Gaussian Process. Here we have to deal with uncertainty in loss.\n",
    "\n",
    "Now let's look at true optima"
   ]
  },
  {
   "cell_type": "code",
   "execution_count": 4,
   "metadata": {
    "collapsed": false,
    "deletable": true,
    "editable": true
   },
   "outputs": [
    {
     "data": {
      "text/plain": [
       "array([-1.])"
      ]
     },
     "execution_count": 4,
     "metadata": {},
     "output_type": "execute_result"
    }
   ],
   "source": [
    "min_"
   ]
  },
  {
   "cell_type": "markdown",
   "metadata": {
    "deletable": true,
    "editable": true
   },
   "source": [
    "And at the data"
   ]
  },
  {
   "cell_type": "code",
   "execution_count": 5,
   "metadata": {
    "collapsed": false,
    "deletable": true,
    "editable": true
   },
   "outputs": [
    {
     "data": {
      "image/png": "[encoded data removed]",
      "text/plain": [
       "<matplotlib.figure.Figure at 0x7faf250ef860>"
      ]
     },
     "metadata": {},
     "output_type": "display_data"
    }
   ],
   "source": [
    "plt.plot(x_obs, y_obs, 'bo');"
   ]
  },
  {
   "cell_type": "markdown",
   "metadata": {
    "deletable": true,
    "editable": true
   },
   "source": [
    "For inference you can use every method you like. Here I use SVGD just to show that it's result can be used in inferece as well as any other tool in variational module."
   ]
  },
  {
   "cell_type": "code",
   "execution_count": 6,
   "metadata": {
    "collapsed": false,
    "deletable": true,
    "editable": true,
    "scrolled": false
   },
   "outputs": [
    {
     "name": "stderr",
     "output_type": "stream",
     "text": [
      "WARNING (theano.tensor.blas): We did not found a dynamic library into the library_dir of the library we use for blas. If you use ATLAS, make sure to compile it with dynamics library.\n",
      "100%|██████████| 4000/4000 [00:24<00:00, 166.11it/s]\n"
     ]
    }
   ],
   "source": [
    "sgd = functools.partial(pm.sgd, learning_rate=.001) # simple problem - simple optimizer\n",
    "with pm.Model() as model:\n",
    "    abc = pm.Normal('abc', sd=1, shape=(3,))\n",
    "    x = theano.shared(x_obs, 'x_obs')\n",
    "    x2 = x**2\n",
    "    o = tt.ones_like(x)\n",
    "    X = tt.stack([x2, x, o]).T\n",
    "    y = X.dot(abc)\n",
    "    pm.Normal('y', mu=y, observed=y_obs)\n",
    "    histogram = pm.fit(4000, method='svgd', obj_optimizer=sgd)\n",
    "    # or like that if you want to customize SVGD\n",
    "    # svgd = pm.SVGD(n_particles=500, jitter=.1)\n",
    "    # histogram = svgd.fit(1000, obj_optimizer=sgd)"
   ]
  },
  {
   "cell_type": "markdown",
   "metadata": {
    "deletable": true,
    "editable": true
   },
   "source": [
    "As a result we have a `Histogram` instance. Histogram is a linkage from raw samples to theano computational engine. If we use NUTS for example there is no direct way to use trace results in computational stuff except Histogram, we'll see it later."
   ]
  },
  {
   "cell_type": "code",
   "execution_count": 7,
   "metadata": {
    "collapsed": false
   },
   "outputs": [
    {
     "data": {
      "text/plain": [
       "<pymc3.variational.approximations.Histogram at 0x7faee60cb2b0>"
      ]
     },
     "execution_count": 7,
     "metadata": {},
     "output_type": "execute_result"
    }
   ],
   "source": [
    "histogram"
   ]
  },
  {
   "cell_type": "code",
   "execution_count": 8,
   "metadata": {
    "collapsed": false,
    "deletable": true,
    "editable": true
   },
   "outputs": [
    {
     "data": {
      "text/plain": [
       "array([ 1.0527544 ,  1.99613583,  1.92554891], dtype=float32)"
      ]
     },
     "execution_count": 8,
     "metadata": {},
     "output_type": "execute_result"
    }
   ],
   "source": [
    "histogram.histogram.get_value().mean(0)"
   ]
  },
  {
   "cell_type": "markdown",
   "metadata": {
    "deletable": true,
    "editable": true
   },
   "source": [
    "It contains particles inferred with SVGD, shared variable has exactly 100 samples for 3 variables."
   ]
  },
  {
   "cell_type": "code",
   "execution_count": 9,
   "metadata": {
    "collapsed": false,
    "deletable": true,
    "editable": true
   },
   "outputs": [
    {
     "data": {
      "text/plain": [
       "(theano.tensor.sharedvar.TensorSharedVariable, (100, 3))"
      ]
     },
     "execution_count": 9,
     "metadata": {},
     "output_type": "execute_result"
    }
   ],
   "source": [
    "type(histogram.histogram), histogram.histogram.get_value().shape"
   ]
  },
  {
   "cell_type": "markdown",
   "metadata": {
    "deletable": true,
    "editable": true
   },
   "source": [
    "Here is an option to use NUTS for inference and reuse it's trace directly in optimization. Let's do it!"
   ]
  },
  {
   "cell_type": "code",
   "execution_count": 10,
   "metadata": {
    "collapsed": false,
    "deletable": true,
    "editable": true
   },
   "outputs": [
    {
     "name": "stderr",
     "output_type": "stream",
     "text": [
      "/root/macos/dev/pymc3/pymc3/sampling.py:188: UserWarning: Instantiated step methods cannot be automatically initialized. init argument ignored.\n",
      "  warnings.warn('Instantiated step methods cannot be automatically initialized. init argument ignored.')\n",
      "100%|██████████| 10000/10000 [00:20<00:00, 487.37it/s]\n"
     ]
    }
   ],
   "source": [
    "with model:\n",
    "    step = pm.NUTS()\n",
    "    trace = pm.sample(10000, step=step)"
   ]
  },
  {
   "cell_type": "code",
   "execution_count": 11,
   "metadata": {
    "collapsed": false
   },
   "outputs": [
    {
     "data": {
      "image/png": "[encoded data removed]",
      "text/plain": [
       "<matplotlib.figure.Figure at 0x7faee80fcf60>"
      ]
     },
     "metadata": {},
     "output_type": "display_data"
    }
   ],
   "source": [
    "pm.traceplot(trace[100:]);"
   ]
  },
  {
   "cell_type": "code",
   "execution_count": 12,
   "metadata": {
    "collapsed": false
   },
   "outputs": [
    {
     "data": {
      "text/plain": [
       "<MultiTrace: 1 chains, 10000 iterations, 1 variables>"
      ]
     },
     "execution_count": 12,
     "metadata": {},
     "output_type": "execute_result"
    }
   ],
   "source": [
    "trace"
   ]
  },
  {
   "cell_type": "code",
   "execution_count": 13,
   "metadata": {
    "collapsed": false
   },
   "outputs": [
    {
     "data": {
      "text/plain": [
       "<pymc3.variational.approximations.Histogram at 0x7faec1ec87f0>"
      ]
     },
     "execution_count": 13,
     "metadata": {},
     "output_type": "execute_result"
    }
   ],
   "source": [
    "histogram = pm.Histogram(trace[100:], model=model)\n",
    "histogram"
   ]
  },
  {
   "cell_type": "code",
   "execution_count": 14,
   "metadata": {
    "collapsed": false
   },
   "outputs": [
    {
     "data": {
      "text/plain": [
       "(9900, 3)"
      ]
     },
     "execution_count": 14,
     "metadata": {},
     "output_type": "execute_result"
    }
   ],
   "source": [
    "histogram.histogram.get_value().shape"
   ]
  },
  {
   "cell_type": "markdown",
   "metadata": {
    "deletable": true,
    "editable": true
   },
   "source": [
    "# Inference results"
   ]
  },
  {
   "cell_type": "markdown",
   "metadata": {
    "deletable": true,
    "editable": true
   },
   "source": [
    "We don't have exact function as our observations were noisy"
   ]
  },
  {
   "cell_type": "code",
   "execution_count": 15,
   "metadata": {
    "collapsed": false,
    "deletable": true,
    "editable": true
   },
   "outputs": [
    {
     "data": {
      "text/plain": [
       "array([ 1.04420257,  1.99506605,  2.05719256], dtype=float32)"
      ]
     },
     "execution_count": 15,
     "metadata": {},
     "output_type": "execute_result"
    }
   ],
   "source": [
    "histogram.histogram.get_value().mean(0)"
   ]
  },
  {
   "cell_type": "code",
   "execution_count": 18,
   "metadata": {
    "collapsed": false
   },
   "outputs": [
    {
     "data": {
      "text/plain": [
       "True"
      ]
     },
     "execution_count": 18,
     "metadata": {},
     "output_type": "execute_result"
    }
   ],
   "source": [
    "isinstance(histogram, pm.variational.opvi.Approximation)"
   ]
  },
  {
   "cell_type": "markdown",
   "metadata": {},
   "source": [
    "Basicly, any subclass of `pm.variational.opvi.Approximation` __must__ implement some abstract methods. One required is `.random(size)`. That allows to create unified interface for _any_ approximation we get from inference and reuse it just everywhere.\n",
    "\n",
    "The most frequent case is to create stochastic function and all we know about it is that it has PyMC3 variables with somehow inferred distribution. That is pretty easy with `Approximation` class. There are two great methods for that:\n",
    "\n",
    "* `.apply_replacements(node or list of nodes, ...)`\n",
    "```\n",
    "    Replace variables in graph with variational approximation. By default, replaces all variables\n",
    "\n",
    "    Parameters\n",
    "    ----------\n",
    "    node : Theano Variable(s)\n",
    "        node or nodes for replacements\n",
    "    deterministic : bool\n",
    "        whether to use point with highest density as initial point for distribution\n",
    "        if True - constant initial point will produce constant latent variables\n",
    "    include : list\n",
    "        latent variables to be replaced\n",
    "    exclude : list\n",
    "        latent variables to be excluded for replacements\n",
    "    more_replacements : dict\n",
    "        add custom replacements to graph, e.g. change input source\n",
    "\n",
    "    Returns\n",
    "    -------\n",
    "    node(s) with replacements\n",
    "```\n",
    "\n",
    "* `.sample_node(node or nodes, ...)`\n",
    "\n",
    "```\n",
    "    Samples given node or nodes over shared posterior\n",
    "\n",
    "    Parameters\n",
    "    ----------\n",
    "    node : Theano Variable(s)\n",
    "    size : scalar\n",
    "        number of samples\n",
    "    more_replacements : dict\n",
    "        add custom replacements to graph, e.g. change input source\n",
    "\n",
    "    Returns\n",
    "    -------\n",
    "    sampled node(s) with replacements\n",
    "```"
   ]
  },
  {
   "cell_type": "code",
   "execution_count": 22,
   "metadata": {
    "collapsed": false,
    "deletable": true,
    "editable": true
   },
   "outputs": [
    {
     "data": {
      "text/plain": [
       "array([ 18.1869278 ,  16.50654984,  14.91315365,  13.40673256,\n",
       "        11.98729515,  10.65483952,   9.4093647 ,   8.25086784,\n",
       "         7.17935371,   6.19481897,   5.29726696,   4.48669481,\n",
       "         3.76310253,   3.12649107,   2.57685995,   2.11421013,\n",
       "         1.73854065,   1.44985199,   1.24814403,   1.13341665,\n",
       "         1.10566974,   1.16490352,   1.31111813,   1.54431319,\n",
       "         1.86448908,   2.27164555,   2.76578259,   3.34690046,\n",
       "         4.01499891,   4.77007771,   5.61213732,   6.54117775,\n",
       "         7.557199  ,   8.66020012,   9.85018349,  11.12714481,\n",
       "        12.49108982,  13.94201374,  15.47992039,  17.10480499,\n",
       "        18.81666946,  20.61551666,  22.50134277,  24.47415543,\n",
       "        26.53393936,  28.68070984,  30.91445923,  33.23519516,\n",
       "        35.64290237,  38.13759232], dtype=float32)"
      ]
     },
     "execution_count": 22,
     "metadata": {},
     "output_type": "execute_result"
    }
   ],
   "source": [
    "histogram.apply_replacements(y, deterministic=True).eval()"
   ]
  },
  {
   "cell_type": "markdown",
   "metadata": {
    "deletable": true,
    "editable": true
   },
   "source": [
    "# Picture\n",
    "Let's look at what we got from inference. There will be mean function."
   ]
  },
  {
   "cell_type": "code",
   "execution_count": 23,
   "metadata": {
    "collapsed": false,
    "deletable": true,
    "editable": true
   },
   "outputs": [
    {
     "data": {
      "image/png": "[encoded data removed]",
      "text/plain": [
       "<matplotlib.figure.Figure at 0x7faebae2c278>"
      ]
     },
     "metadata": {},
     "output_type": "display_data"
    }
   ],
   "source": [
    "x.set_value(np.linspace(-5, 5, dtype='float32'))\n",
    "plt.plot(x_obs, y_obs, 'bo');\n",
    "y_dist = histogram.sample_node(y).eval()\n",
    "for line in y_dist:\n",
    "    plt.plot(np.linspace(-5, 5), line, 'r-', alpha=.02);"
   ]
  },
  {
   "cell_type": "markdown",
   "metadata": {
    "deletable": true,
    "editable": true
   },
   "source": [
    "We need an optima for real function but we know only we distribution over possible functions. To find the minima we can get the minimum of expected function. It can be done out of the box with PyMC3 tools."
   ]
  },
  {
   "cell_type": "markdown",
   "metadata": {
    "deletable": true,
    "editable": true
   },
   "source": [
    "# Optimization\n",
    "At first we must create someting we wrt want to minimize and what to minimize. In our problem it is `x` coordinate. "
   ]
  },
  {
   "cell_type": "code",
   "execution_count": 24,
   "metadata": {
    "collapsed": false,
    "deletable": true,
    "editable": true
   },
   "outputs": [],
   "source": [
    "# wrt what to minimize\n",
    "# set x far from optima\n",
    "x_ = theano.shared(pm.floatX(10.), 'x')\n",
    "# and what to minimize\n",
    "# Notice that we use random variable in out loss so it bocomes stochastic\n",
    "y_ = f(x_ ,abc[0], abc[1], abc[2])"
   ]
  },
  {
   "cell_type": "code",
   "execution_count": 25,
   "metadata": {
    "collapsed": false,
    "deletable": true,
    "editable": true
   },
   "outputs": [],
   "source": [
    "N = 2000\n",
    "hist_x = np.empty(N)\n",
    "def cb(approx, current_loss, i):\n",
    "    hist_x[i] = x_.get_value()"
   ]
  },
  {
   "cell_type": "code",
   "execution_count": 26,
   "metadata": {
    "collapsed": false,
    "deletable": true,
    "editable": true
   },
   "outputs": [
    {
     "name": "stderr",
     "output_type": "stream",
     "text": [
      "E_q[Loss] = 1.1633: 100%|██████████| 2000/2000 [00:00<00:00, 20250.94it/s]\n"
     ]
    }
   ],
   "source": [
    "sgd = functools.partial(pm.sgd, learning_rate=.001)\n",
    "opt = pm.Optimizer(histogram, y_, [x_], optimizer=sgd)\n",
    "opt.fit(N, callbacks=[cb])"
   ]
  },
  {
   "cell_type": "markdown",
   "metadata": {
    "deletable": true,
    "editable": true
   },
   "source": [
    "# Optimization results\n",
    "It's all right!"
   ]
  },
  {
   "cell_type": "code",
   "execution_count": 27,
   "metadata": {
    "collapsed": false,
    "deletable": true,
    "editable": true
   },
   "outputs": [
    {
     "data": {
      "text/plain": [
       "(array(-0.7868053913116455, dtype=float32), array([-1.]))"
      ]
     },
     "execution_count": 27,
     "metadata": {},
     "output_type": "execute_result"
    }
   ],
   "source": [
    "x_.get_value(), min_"
   ]
  },
  {
   "cell_type": "markdown",
   "metadata": {
    "deletable": true,
    "editable": true
   },
   "source": [
    "# Loss history"
   ]
  },
  {
   "cell_type": "code",
   "execution_count": 28,
   "metadata": {
    "collapsed": false,
    "deletable": true,
    "editable": true,
    "scrolled": false
   },
   "outputs": [
    {
     "data": {
      "image/png": "[encoded data removed]",
      "text/plain": [
       "<matplotlib.figure.Figure at 0x7faebaf39710>"
      ]
     },
     "metadata": {},
     "output_type": "display_data"
    }
   ],
   "source": [
    "fig, ax = plt.subplots(2, 1, figsize=(16, 4))\n",
    "ax[0].plot(hist_x, label='X coordinate');\n",
    "ax[1].plot(opt.hist, label='Y coordinate');\n",
    "ax[0].legend();\n",
    "ax[1].legend();"
   ]
  }
 ],
 "metadata": {
  "kernelspec": {
   "display_name": "Python 3",
   "language": "python",
   "name": "python3"
  },
  "language_info": {
   "codemirror_mode": {
    "name": "ipython",
    "version": 3
   },
   "file_extension": ".py",
   "mimetype": "text/x-python",
   "name": "python",
   "nbconvert_exporter": "python",
   "pygments_lexer": "ipython3",
   "version": "3.4.3"
  }
 },
 "nbformat": 4,
 "nbformat_minor": 2
}
