{
 "cells": [
  {
   "cell_type": "markdown",
   "metadata": {},
   "source": [
    "# Censored Data Models"
   ]
  },
  {
   "cell_type": "markdown",
   "metadata": {},
   "source": [
    "[This example notebook on Bayesian survival\n",
    "analysis](http://docs.pymc.io/notebooks/survival_analysis.html) touches on the\n",
    "point of censored data. _Censoring_ is a form of missing-data problem, in which\n",
    "observations greater than a certain threshold are clipped down to that\n",
    "threshold, or observations less than a certain threshold are clipped up to that\n",
    "threshold, or both. These are called right, left and interval censoring,\n",
    "respectively. In this example notebook we consider interval censoring.\n",
    "\n",
    "Censored data arises in many modelling problems. Two common examples are:\n",
    "\n",
    "1. _Survival analysis:_ when studying the effect of a certain medical treatment\n",
    "   on survival times, it is impossible to prolong the study until all subjects\n",
    "   have died. At the end of the study, the only data collected for many patients\n",
    "   is that they were still alive for a time period $T$ after the treatment was\n",
    "   administered: in reality, their true survival times are greater than $T$.\n",
    "\n",
    "2. _Sensor saturation:_ a sensor might have a limited range and the upper and\n",
    "   lower limits would simply be the highest and lowest values a sensor can\n",
    "   report. For instance, many mercury thermometers only report a very narrow\n",
    "   range of temperatures.\n",
    "\n",
    "This example notebook presents two different ways of dealing with censored data\n",
    "in PyMC3:\n",
    "\n",
    "1. An imputed censored model, which represents censored data as parameters and\n",
    "   makes up plausible values for all censored values. This produces as a\n",
    "   byproduct a plausible set of made up values that would have been censored.\n",
    "   Each censored element introduces a random variable.\n",
    "\n",
    "2. An unimputed censored model, where the censored data are integrated out and\n",
    "   accounted for only through the log-likelihood. This method deals more\n",
    "   adequately with large amounts of censored data and converges more quickly.\n",
    "\n",
    "To establish a baseline we compare to an uncensored model of the uncensored\n",
    "data."
   ]
  },
  {
   "cell_type": "code",
   "execution_count": 29,
   "metadata": {},
   "outputs": [],
   "source": [
    "import numpy as np\n",
    "import pandas as pd\n",
    "import matplotlib.pyplot as plt\n",
    "import seaborn as sns\n",
    "import pymc3 as pm\n",
    "import theano.tensor as tt\n",
    "\n",
    "sns.set_style('whitegrid')"
   ]
  },
  {
   "cell_type": "code",
   "execution_count": 30,
   "metadata": {},
   "outputs": [],
   "source": [
    "# Produce normally distributed samples\n",
    "np.random.seed(1618)\n",
    "size = 500\n",
    "mu = 13.\n",
    "sigma = 5.\n",
    "samples = np.random.normal(mu, sigma, size)\n",
    "\n",
    "# Set censoring limits\n",
    "high = 16.\n",
    "low = -1.\n",
    "\n",
    "# Censor samples\n",
    "censored = samples[(samples > low) & (samples < high)]"
   ]
  },
  {
   "cell_type": "code",
   "execution_count": 31,
   "metadata": {},
   "outputs": [
    {
     "data": {
      "image/png": "[encoded data removed]",
      "text/plain": [
       "<matplotlib.figure.Figure at 0x1155536a0>"
      ]
     },
     "metadata": {},
     "output_type": "display_data"
    }
   ],
   "source": [
    "# Visualize uncensored and censored data\n",
    "_, axarr = plt.subplots(ncols=2, figsize=[16, 4], sharex=True, sharey=True)\n",
    "for i, data in enumerate([samples, censored]):\n",
    "    sns.distplot(data, ax=axarr[i])\n",
    "axarr[0].set_title('Uncensored')\n",
    "axarr[1].set_title('Censored')\n",
    "plt.show()"
   ]
  },
  {
   "cell_type": "markdown",
   "metadata": {},
   "source": [
    "## Baseline - Uncensored Model of Uncensored Data"
   ]
  },
  {
   "cell_type": "code",
   "execution_count": 32,
   "metadata": {},
   "outputs": [],
   "source": [
    "# Uncensored model\n",
    "with pm.Model() as uncensored_model:\n",
    "    mu = pm.Normal('mu', mu=0., sd=(high - low) / 2.)\n",
    "    sigma = pm.HalfNormal('sigma', sd=(high - low) / 2.)\n",
    "    observed = pm.Normal('observed', mu=mu, sd=sigma, observed=samples)"
   ]
  },
  {
   "cell_type": "markdown",
   "metadata": {},
   "source": [
    "## Model 1 - Imputed Censored Model of Censored Data"
   ]
  },
  {
   "cell_type": "markdown",
   "metadata": {},
   "source": [
    "This model makes use of [PyMC3's bounded variables](https://docs.pymc.io/api/bounds.html)."
   ]
  },
  {
   "cell_type": "code",
   "execution_count": 33,
   "metadata": {},
   "outputs": [],
   "source": [
    "# Imputed censored model\n",
    "# Keep tabs on left/right censoring\n",
    "\n",
    "n_right_censored = len(samples[samples >= high])\n",
    "n_left_censored = len(samples[samples <= low])\n",
    "n_observed = len(samples) - n_right_censored - n_left_censored\n",
    "\n",
    "with pm.Model() as imputed_censored_model:\n",
    "    mu = pm.Normal('mu', mu=0., sd=(high - low) / 2.)\n",
    "    sigma = pm.HalfNormal('sigma', sd=(high - low) / 2.)\n",
    "    right_censored = pm.Bound(pm.Normal, lower=high)(\n",
    "        'right_censored', mu=mu, sd=sigma, shape=n_right_censored\n",
    "    )\n",
    "    left_censored = pm.Bound(pm.Normal, upper=low)(\n",
    "        'left_censored', mu=mu, sd=sigma, shape=n_left_censored\n",
    "    )\n",
    "    observed = pm.Normal(\n",
    "        'observed',\n",
    "        mu=mu,\n",
    "        sd=sigma,\n",
    "        observed=censored,\n",
    "        shape=n_observed\n",
    "    )"
   ]
  },
  {
   "cell_type": "markdown",
   "metadata": {},
   "source": [
    "## Model 2 - Unimputed Censored Model of Censored Data"
   ]
  },
  {
   "cell_type": "markdown",
   "metadata": {},
   "source": [
    "This model makes use of [PyMC3's `Potential`](https://docs.pymc.io/api/model.html#pymc3.model.Potential)."
   ]
  },
  {
   "cell_type": "code",
   "execution_count": 4,
   "metadata": {},
   "outputs": [],
   "source": [
    "# Helper functions\n",
    "def normal_lcdf(mu, sigma, x):\n",
    "    z = (x - mu) / sigma\n",
    "    return tt.switch(\n",
    "        tt.lt(z, -1.0),\n",
    "        tt.log(tt.erfcx(-z / tt.sqrt(2.)) / 2.) - tt.sqr(z) / 2,\n",
    "        tt.log1p(-tt.erfc(z / tt.sqrt(2.)) / 2.)\n",
    "    )\n",
    "\n",
    "\n",
    "def normal_lccdf(mu, sigma, x):\n",
    "    z = (x - mu) / sigma\n",
    "    return tt.switch(\n",
    "        tt.gt(z, 1.0),\n",
    "        tt.log(tt.erfcx(z / tt.sqrt(2.)) / 2) - tt.sqr(z) / 2.,\n",
    "        tt.log1p(-tt.erfc(-z / tt.sqrt(2.)) / 2.)\n",
    "    )\n",
    "\n",
    "def censored_right_likelihood(mu, sigma, n_right_censored, upper_bound):\n",
    "    return n_right_censored * normal_lccdf(mu, sigma, upper_bound)\n",
    "\n",
    "\n",
    "def censored_left_likelihood(mu, sigma, n_left_censored, lower_bound):\n",
    "    return n_left_censored * normal_lcdf(mu, sigma, lower_bound)"
   ]
  },
  {
   "cell_type": "code",
   "execution_count": 7,
   "metadata": {},
   "outputs": [],
   "source": [
    "# Unimputed censored model\n",
    "with pm.Model() as unimputed_censored_model:\n",
    "    mu = pm.Normal('mu', mu=0., sd=(high - low) / 2.)\n",
    "    sigma = pm.HalfNormal('sigma', sd=(high - low) / 2.)\n",
    "    observed = pm.Normal(\n",
    "        'observed',\n",
    "        mu=mu,\n",
    "        sd=sigma,\n",
    "        observed=truncated,\n",
    "    )\n",
    "    right_censored = pm.Potential(\n",
    "        'right_censored',\n",
    "        censored_right_likelihood(mu, sigma, n_right_censored, high)\n",
    "        )\n",
    "    left_censored = pm.Potential(\n",
    "        'left_censored',\n",
    "        censored_left_likelihood(mu, sigma, n_left_censored, low)\n",
    "    )\n"
   ]
  },
  {
   "cell_type": "markdown",
   "metadata": {},
   "source": [
    "## Sampling"
   ]
  },
  {
   "cell_type": "code",
   "execution_count": 9,
   "metadata": {},
   "outputs": [],
   "source": [
    "n = 1500"
   ]
  },
  {
   "cell_type": "code",
   "execution_count": null,
   "metadata": {},
   "outputs": [
    {
     "name": "stderr",
     "output_type": "stream",
     "text": [
      "Auto-assigning NUTS sampler...\n",
      "Initializing NUTS using jitter+adapt_diag...\n"
     ]
    },
    {
     "name": "stdout",
     "output_type": "stream",
     "text": [
      "Model with no censored data (omniscient)\n"
     ]
    },
    {
     "name": "stderr",
     "output_type": "stream",
     "text": [
      "Multiprocess sampling (4 chains in 4 jobs)\n",
      "NUTS: [sigma_log__, mu]\n",
      "100%|██████████| 2000/2000 [00:01<00:00, 1591.09it/s]\n",
      "INFO (theano.gof.compilelock): Waiting for existing lock by process '2988' (I am process '2989')\n",
      "INFO (theano.gof.compilelock): To manually release the lock, delete /home/preich/.theano/compiledir_Linux-4.13--generic-x86_64-with-debian-stretch-sid-x86_64-3.6.4-64/lock_dir\n",
      "INFO (theano.gof.compilelock): Waiting for existing lock by process '2988' (I am process '2990')\n",
      "INFO (theano.gof.compilelock): To manually release the lock, delete /home/preich/.theano/compiledir_Linux-4.13--generic-x86_64-with-debian-stretch-sid-x86_64-3.6.4-64/lock_dir\n",
      "INFO (theano.gof.compilelock): Waiting for existing lock by process '2989' (I am process '2990')\n",
      "INFO (theano.gof.compilelock): To manually release the lock, delete /home/preich/.theano/compiledir_Linux-4.13--generic-x86_64-with-debian-stretch-sid-x86_64-3.6.4-64/lock_dir\n"
     ]
    },
    {
     "data": {
      "image/png": "[encoded data removed]",
      "text/plain": [
       "<matplotlib.figure.Figure at 0x7f62373c3b38>"
      ]
     },
     "metadata": {},
     "output_type": "display_data"
    }
   ],
   "source": [
    "print('Model with no censored data (omniscient)')\n",
    "with omniscient_model:\n",
    "    trace = pm.sample(n)\n",
    "    pm.plot_posterior(trace[-1000:], varnames=['mu', 'sigma'])\n",
    "    plt.show()"
   ]
  },
  {
   "cell_type": "code",
   "execution_count": null,
   "metadata": {},
   "outputs": [
    {
     "name": "stderr",
     "output_type": "stream",
     "text": [
      "Auto-assigning NUTS sampler...\n",
      "Initializing NUTS using jitter+adapt_diag...\n"
     ]
    },
    {
     "name": "stdout",
     "output_type": "stream",
     "text": [
      "Imputed censored model\n"
     ]
    },
    {
     "name": "stderr",
     "output_type": "stream",
     "text": [
      "Multiprocess sampling (4 chains in 4 jobs)\n",
      "NUTS: [left_censored_upperbound__, right_censored_lowerbound__, sigma_log__, mu]\n",
      " 16%|█▌        | 324/2000 [00:02<00:13, 124.70it/s]"
     ]
    }
   ],
   "source": [
    "print('Imputed censored model')\n",
    "with imputed_censored_model:\n",
    "    trace = pm.sample(n)\n",
    "    pm.plot_posterior(trace[-1000:], varnames=['mu', 'sigma'])\n",
    "    plt.show()"
   ]
  },
  {
   "cell_type": "code",
   "execution_count": null,
   "metadata": {},
   "outputs": [],
   "source": [
    "print('Unimputed censored model')\n",
    "with unimputed_censored_model:\n",
    "    trace = pm.sample(n)\n",
    "    pm.plot_posterior(trace[-1000:], varnames=['mu', 'sigma'])\n",
    "    plt.show()"
   ]
  }
 ],
 "metadata": {
  "kernelspec": {
   "display_name": "Python 3",
   "language": "python",
   "name": "python3"
  },
  "language_info": {
   "codemirror_mode": {
    "name": "ipython",
    "version": 3
   },
   "file_extension": ".py",
   "mimetype": "text/x-python",
   "name": "python",
   "nbconvert_exporter": "python",
   "pygments_lexer": "ipython3",
   "version": "3.6.5"
  }
 },
 "nbformat": 4,
 "nbformat_minor": 2
}
