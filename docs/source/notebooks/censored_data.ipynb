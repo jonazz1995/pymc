{
 "cells": [
  {
   "cell_type": "markdown",
   "metadata": {},
   "source": [
    "# Censored Data Models\n",
    "\n",
    "[This example notebook on Bayesian survival\n",
    "analysis](http://docs.pymc.io/notebooks/survival_analysis.html) touches on the\n",
    "point of censored data. _Censoring_ is a form of missing-data problem, in which\n",
    "observations greater than a certain threshold are clipped down to that\n",
    "threshold, or observations less than a certain threshold are clipped up to that\n",
    "threshold, or both. These are called right, left and interval censoring,\n",
    "respectively. In this example notebook we consider interval censoring.\n",
    "\n",
    "Censored data arises in many modelling problems. Two common examples are:\n",
    "\n",
    "1. _Survival analysis:_ when studying the effect of a certain medical treatment\n",
    "   on survival times, it is impossible to prolong the study until all subjects\n",
    "   have died. At the end of the study, the only data collected for many patients\n",
    "   is that they were still alive for a time period $T$ after the treatment was\n",
    "   administered: in reality, their true survival times are greater than $T$.\n",
    "\n",
    "2. _Sensor saturation:_ a sensor might have a limited range and the upper and\n",
    "   lower limits would simply be the highest and lowest values a sensor can\n",
    "   report. For instance, many mercury thermometers only report a very narrow\n",
    "   range of temperatures.\n",
    "\n",
    "This example notebook presents two different ways of dealing with censored data\n",
    "in PyMC3:\n",
    "\n",
    "1. An imputed censored model, which represents censored data as parameters and\n",
    "   makes up plausible values for all censored values. As a result of this\n",
    "   imputation, this model is capable of generating plausible sets of made-up\n",
    "   values that would have been censored. Each censored element introduces a\n",
    "   random variable.\n",
    "\n",
    "2. An unimputed censored model, where the censored data are integrated out and\n",
    "   accounted for only through the log-likelihood. This method deals more\n",
    "   adequately with large amounts of censored data and converges more quickly.\n",
    "\n",
    "To establish a baseline we compare to an uncensored model of the uncensored\n",
    "data."
   ]
  },
  {
   "cell_type": "code",
   "execution_count": 1,
   "metadata": {},
   "outputs": [],
   "source": [
    "import numpy as np\n",
    "import pandas as pd\n",
    "import matplotlib.pyplot as plt\n",
    "import seaborn as sns\n",
    "import pymc3 as pm\n",
    "import theano.tensor as tt\n",
    "\n",
    "sns.set_style('whitegrid')"
   ]
  },
  {
   "cell_type": "code",
   "execution_count": 2,
   "metadata": {},
   "outputs": [],
   "source": [
    "# Produce normally distributed samples\n",
    "np.random.seed(1618)\n",
    "size = 500\n",
    "mu = 13.\n",
    "sigma = 5.\n",
    "samples = np.random.normal(mu, sigma, size)\n",
    "\n",
    "# Set censoring limits\n",
    "high = 16.\n",
    "low = -1.\n",
    "\n",
    "# Censor samples\n",
    "censored = samples[(samples > low) & (samples < high)]"
   ]
  },
  {
   "cell_type": "code",
   "execution_count": 3,
   "metadata": {},
   "outputs": [
    {
     "data": {
      "image/png": "[encoded data removed]",
      "text/plain": [
       "<matplotlib.figure.Figure at 0x10f02e0f0>"
      ]
     },
     "metadata": {},
     "output_type": "display_data"
    }
   ],
   "source": [
    "# Visualize uncensored and censored data\n",
    "_, axarr = plt.subplots(ncols=2, figsize=[16, 4], sharex=True, sharey=True)\n",
    "for i, data in enumerate([samples, censored]):\n",
    "    sns.distplot(data, ax=axarr[i])\n",
    "axarr[0].set_title('Uncensored')\n",
    "axarr[1].set_title('Censored')\n",
    "plt.show()"
   ]
  },
  {
   "cell_type": "markdown",
   "metadata": {},
   "source": [
    "## Baseline - Uncensored Model of Uncensored Data"
   ]
  },
  {
   "cell_type": "code",
   "execution_count": 4,
   "metadata": {},
   "outputs": [],
   "source": [
    "# Uncensored model\n",
    "\n",
    "with pm.Model() as uncensored_model:\n",
    "    mu = pm.Normal('mu', mu=0., sd=(high - low) / 2.)\n",
    "    sigma = pm.HalfNormal('sigma', sd=(high - low) / 2.)\n",
    "    observed = pm.Normal('observed', mu=mu, sd=sigma, observed=samples)"
   ]
  },
  {
   "cell_type": "markdown",
   "metadata": {},
   "source": [
    "## Model 1 - Imputed Censored Model of Censored Data\n",
    "\n",
    "In this model, we impute the censored values from the same distribution as the uncensored data. Sampling from the posterior generates possible uncensored data sets.\n",
    "\n",
    "This model makes use of [PyMC3's bounded variables](https://docs.pymc.io/api/bounds.html)."
   ]
  },
  {
   "cell_type": "code",
   "execution_count": 5,
   "metadata": {},
   "outputs": [],
   "source": [
    "# Imputed censored model\n",
    "\n",
    "n_right_censored = len(samples[samples >= high])\n",
    "n_left_censored = len(samples[samples <= low])\n",
    "n_observed = len(samples) - n_right_censored - n_left_censored\n",
    "\n",
    "with pm.Model() as imputed_censored_model:\n",
    "    mu = pm.Normal('mu', mu=0., sd=(high - low) / 2.)\n",
    "    sigma = pm.HalfNormal('sigma', sd=(high - low) / 2.)\n",
    "    \n",
    "    right_censored = pm.Bound(pm.Normal, lower=high)(\n",
    "        'right_censored', mu=mu, sd=sigma, shape=n_right_censored\n",
    "    )\n",
    "    left_censored = pm.Bound(pm.Normal, upper=low)(\n",
    "        'left_censored', mu=mu, sd=sigma, shape=n_left_censored\n",
    "    )\n",
    "    \n",
    "    observed = pm.Normal(\n",
    "        'observed',\n",
    "        mu=mu,\n",
    "        sd=sigma,\n",
    "        observed=censored,\n",
    "        shape=n_observed\n",
    "    )"
   ]
  },
  {
   "cell_type": "markdown",
   "metadata": {},
   "source": [
    "## Model 2 - Unimputed Censored Model of Censored Data\n",
    "\n",
    "In this model, we do not impute censored data, but instead integrate them out through the likelihood.\n",
    "\n",
    "The implementations of the likelihoods are non-trivial. See the [Stan manual](https://github.com/stan-dev/stan/releases/download/v2.14.0/stan-reference-2.14.0.pdf) (section 11.3 on censored data) and the [original PyMC3 issue on GitHub](https://github.com/pymc-devs/pymc3/issues/1833) for more information.\n",
    "\n",
    "Note that we use Theano's `erfcx` operation for numerical stability. See [this Theano docstring](https://github.com/Theano/Theano/blob/7495a50a94d4c961598523b38c8630ce13d1c9dd/theano/scalar/basic_scipy.py#L90) for more details. Essentially, computing `log(erfcx(x)) - x**2` is sometimes more numerically stable than computing `log(erfc(x))` directly.\n",
    "\n",
    "This model makes use of [PyMC3's `Potential`](https://docs.pymc.io/api/model.html#pymc3.model.Potential)."
   ]
  },
  {
   "cell_type": "code",
   "execution_count": 6,
   "metadata": {},
   "outputs": [],
   "source": [
    "# Helper functions for unimputed censored model\n",
    "\n",
    "def normal_lcdf(mu, sigma, x):\n",
    "    '''\n",
    "    Log cdf of a Normal distribution.\n",
    "    If x is more than one standard deviation below the mean,\n",
    "    switch to erfcx implementation for numerical stability.\n",
    "    '''\n",
    "    z = (x - mu) / sigma\n",
    "    return tt.switch(\n",
    "        tt.lt(z, -1.0),\n",
    "        tt.log(tt.erfcx(-z / tt.sqrt(2.)) / 2.) - tt.sqr(z) / 2.,\n",
    "        tt.log1p(-tt.erfc(z / tt.sqrt(2.)) / 2.)\n",
    "    )\n",
    "\n",
    "\n",
    "def normal_lccdf(mu, sigma, x):\n",
    "    '''\n",
    "    Log complementary cdf of a Normal distribution.\n",
    "    If x is more than one standard deviation above the mean,\n",
    "    switch to erfcx implementation for numerical stability.\n",
    "    '''\n",
    "    z = (x - mu) / sigma\n",
    "    return tt.switch(\n",
    "        tt.gt(z, 1.0),\n",
    "        tt.log(tt.erfcx(z / tt.sqrt(2.)) / 2.) - tt.sqr(z) / 2.,\n",
    "        tt.log1p(-tt.erfc(-z / tt.sqrt(2.)) / 2.)\n",
    "    )\n",
    "\n",
    "\n",
    "def left_censored_likelihood(mu, sigma, n_left_censored, lower_bound):\n",
    "    ''' Likelihood of left-censored data. '''\n",
    "    return n_left_censored * normal_lcdf(mu, sigma, lower_bound)\n",
    "\n",
    "\n",
    "def right_censored_likelihood(mu, sigma, n_right_censored, upper_bound):\n",
    "    ''' Likelihood of right-censored data. '''\n",
    "    return n_right_censored * normal_lccdf(mu, sigma, upper_bound)"
   ]
  },
  {
   "cell_type": "code",
   "execution_count": 7,
   "metadata": {},
   "outputs": [],
   "source": [
    "# Unimputed censored model\n",
    "\n",
    "with pm.Model() as unimputed_censored_model:\n",
    "    mu = pm.Normal('mu', mu=0., sd=(high - low) / 2.)\n",
    "    sigma = pm.HalfNormal('sigma', sd=(high - low) / 2.)\n",
    "    \n",
    "    observed = pm.Normal(\n",
    "        'observed',\n",
    "        mu=mu,\n",
    "        sd=sigma,\n",
    "        observed=censored,\n",
    "    )\n",
    "    \n",
    "    left_censored = pm.Potential(\n",
    "        'left_censored',\n",
    "        left_censored_likelihood(mu, sigma, n_left_censored, low)\n",
    "    )\n",
    "    right_censored = pm.Potential(\n",
    "        'right_censored',\n",
    "        right_censored_likelihood(mu, sigma, n_right_censored, high)\n",
    "    )"
   ]
  },
  {
   "cell_type": "markdown",
   "metadata": {},
   "source": [
    "## Sampling"
   ]
  },
  {
   "cell_type": "code",
   "execution_count": 8,
   "metadata": {},
   "outputs": [
    {
     "name": "stderr",
     "output_type": "stream",
     "text": [
      "Auto-assigning NUTS sampler...\n",
      "Initializing NUTS using jitter+adapt_diag...\n",
      "Multiprocess sampling (2 chains in 2 jobs)\n",
      "NUTS: [sigma, mu]\n",
      "Sampling 2 chains: 100%|██████████| 4000/4000 [00:01<00:00, 2591.59draws/s]\n"
     ]
    },
    {
     "data": {
      "image/png": "[encoded data removed]",
      "text/plain": [
       "<matplotlib.figure.Figure at 0x11038d320>"
      ]
     },
     "metadata": {},
     "output_type": "display_data"
    }
   ],
   "source": [
    "# Uncensored model\n",
    "with uncensored_model:\n",
    "    trace = pm.sample(draws=1000, tune=1000)\n",
    "    pm.plot_posterior(trace)\n",
    "    plt.show()"
   ]
  },
  {
   "cell_type": "code",
   "execution_count": 9,
   "metadata": {
    "scrolled": true
   },
   "outputs": [
    {
     "name": "stderr",
     "output_type": "stream",
     "text": [
      "Auto-assigning NUTS sampler...\n",
      "Initializing NUTS using jitter+adapt_diag...\n",
      "Multiprocess sampling (2 chains in 2 jobs)\n",
      "NUTS: [left_censored, right_censored, sigma, mu]\n",
      "Sampling 2 chains: 100%|██████████| 4000/4000 [00:07<00:00, 560.55draws/s]\n"
     ]
    },
    {
     "data": {
      "image/png": "[encoded data removed]",
      "text/plain": [
       "<matplotlib.figure.Figure at 0x107d7e5f8>"
      ]
     },
     "metadata": {},
     "output_type": "display_data"
    }
   ],
   "source": [
    "# Imputed censored model\n",
    "with imputed_censored_model:\n",
    "    trace = pm.sample(draws=1000, tune=1000)\n",
    "    pm.plot_posterior(trace, varnames=['mu', 'sigma'])\n",
    "    plt.show()"
   ]
  },
  {
   "cell_type": "code",
   "execution_count": 10,
   "metadata": {
    "scrolled": true
   },
   "outputs": [
    {
     "name": "stderr",
     "output_type": "stream",
     "text": [
      "Auto-assigning NUTS sampler...\n",
      "Initializing NUTS using jitter+adapt_diag...\n",
      "Multiprocess sampling (2 chains in 2 jobs)\n",
      "NUTS: [sigma, mu]\n",
      "Sampling 2 chains: 100%|██████████| 4000/4000 [00:01<00:00, 2023.94draws/s]\n"
     ]
    },
    {
     "data": {
      "image/png": "[encoded data removed]",
      "text/plain": [
       "<matplotlib.figure.Figure at 0x1107529e8>"
      ]
     },
     "metadata": {},
     "output_type": "display_data"
    }
   ],
   "source": [
    "# Unimputed censored model\n",
    "with unimputed_censored_model:\n",
    "    trace = pm.sample(draws=1000, tune=1000)\n",
    "    pm.plot_posterior(trace, varnames=['mu', 'sigma'])\n",
    "    plt.show()"
   ]
  },
  {
   "cell_type": "markdown",
   "metadata": {},
   "source": [
    "## Discussion\n",
    "\n",
    "As we can see, both censored models appear to capture the mean and variance of the underlying distribution as well as the uncensored model! In addition, the imputed censored model is capable of generating data sets of censored values (sample from the posteriors of `left_censored` and `right_censored` to generate them), while the unimputed censored model scales much better with more censored data, and converges faster."
   ]
  }
 ],
 "metadata": {
  "kernelspec": {
   "display_name": "Python 3",
   "language": "python",
   "name": "python3"
  },
  "language_info": {
   "codemirror_mode": {
    "name": "ipython",
    "version": 3
   },
   "file_extension": ".py",
   "mimetype": "text/x-python",
   "name": "python",
   "nbconvert_exporter": "python",
   "pygments_lexer": "ipython3",
   "version": "3.6.5"
  }
 },
 "nbformat": 4,
 "nbformat_minor": 2
}
